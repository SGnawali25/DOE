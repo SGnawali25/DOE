{
 "cells": [
  {
   "cell_type": "code",
   "execution_count": 36,
   "id": "7f34a631-82a5-4b2d-b51b-f859b011e8af",
   "metadata": {
    "tags": []
   },
   "outputs": [],
   "source": [
    "import pandas as pd\n",
    "from datetime import datetime"
   ]
  },
  {
   "cell_type": "code",
   "execution_count": 38,
   "id": "24123d0b-f600-4236-82af-6d71cb1bf3b2",
   "metadata": {
    "tags": []
   },
   "outputs": [],
   "source": [
    "df = pd.read_csv(\"../data/csv_files/at200.csv\")"
   ]
  },
  {
   "cell_type": "code",
   "execution_count": 40,
   "id": "385aa8ff-bbfc-4e3f-a4db-ef94aeedf463",
   "metadata": {
    "tags": []
   },
   "outputs": [],
   "source": [
    "# this column is all empty\n",
    "del(df[\"Level: Elevation (m)\"])"
   ]
  },
  {
   "cell_type": "code",
   "execution_count": 42,
   "id": "9b9165b3-13dc-49fc-99aa-4d53f50ae7e0",
   "metadata": {
    "tags": []
   },
   "outputs": [],
   "source": [
    "# the datetime is converted to timestamp in seconds\n",
    "df['Date Time'] = df['Date Time'].apply(lambda x: datetime.strptime(x, '%Y-%m-%d %H:%M:%S.%f').timestamp() * 1000)"
   ]
  },
  {
   "cell_type": "code",
   "execution_count": 44,
   "id": "66f1beca-cd92-4fba-b154-901c3219cedc",
   "metadata": {
    "tags": []
   },
   "outputs": [
    {
     "data": {
      "text/plain": [
       "array(['FPZ_04A', 'FSB_126', 'FSB_079', 'FPZ_06A', 'FEX_004', 'FSB_078',\n",
       "       'FSB_097D', 'FSB_130D', 'FSB_095DR'], dtype=object)"
      ]
     },
     "execution_count": 44,
     "metadata": {},
     "output_type": "execute_result"
    }
   ],
   "source": [
    "unique_stations = df[\"station_id\"].unique()\n",
    "unique_stations"
   ]
  },
  {
   "cell_type": "code",
   "execution_count": 55,
   "id": "846d701e-d3e9-4db6-a764-8c2efc619f57",
   "metadata": {
    "tags": []
   },
   "outputs": [],
   "source": [
    "for station in unique_stations:\n",
    "    temp = df[df[\"station_id\"] == station]\n",
    "    temp.to_csv(f\"data/{station}.csv\", index =False)"
   ]
  },
  {
   "cell_type": "code",
   "execution_count": null,
   "id": "ff984d0e-1329-47f7-acd1-e5a0ccfc151f",
   "metadata": {},
   "outputs": [],
   "source": []
  }
 ],
 "metadata": {
  "kernelspec": {
   "display_name": "Python 3 (ipykernel)",
   "language": "python",
   "name": "python3"
  },
  "language_info": {
   "codemirror_mode": {
    "name": "ipython",
    "version": 3
   },
   "file_extension": ".py",
   "mimetype": "text/x-python",
   "name": "python",
   "nbconvert_exporter": "python",
   "pygments_lexer": "ipython3",
   "version": "3.11.5"
  }
 },
 "nbformat": 4,
 "nbformat_minor": 5
}

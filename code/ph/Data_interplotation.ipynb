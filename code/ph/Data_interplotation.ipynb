{
 "cells": [
  {
   "cell_type": "code",
   "execution_count": 176,
   "id": "b74ecca4-25ca-407c-b854-4520b3a8083d",
   "metadata": {
    "tags": []
   },
   "outputs": [],
   "source": [
    "import pandas as pd\n",
    "from sklearn.preprocessing import StandardScaler\n"
   ]
  },
  {
   "cell_type": "code",
   "execution_count": 102,
   "id": "768644f8-5f16-4ff6-b4fc-baa35c0eb87c",
   "metadata": {
    "tags": []
   },
   "outputs": [],
   "source": [
    "df = pd.read_csv(\"../../data/csv_files/df_ph1.csv\")"
   ]
  },
  {
   "cell_type": "code",
   "execution_count": 104,
   "id": "d0186a34-ec20-4cd0-8d3e-d01fc83b8aba",
   "metadata": {
    "tags": []
   },
   "outputs": [
    {
     "data": {
      "text/html": [
       "<div>\n",
       "<style scoped>\n",
       "    .dataframe tbody tr th:only-of-type {\n",
       "        vertical-align: middle;\n",
       "    }\n",
       "\n",
       "    .dataframe tbody tr th {\n",
       "        vertical-align: top;\n",
       "    }\n",
       "\n",
       "    .dataframe thead th {\n",
       "        text-align: right;\n",
       "    }\n",
       "</style>\n",
       "<table border=\"1\" class=\"dataframe\">\n",
       "  <thead>\n",
       "    <tr style=\"text-align: right;\">\n",
       "      <th></th>\n",
       "      <th>dt</th>\n",
       "      <th>FEX_004</th>\n",
       "      <th>FSB_095DR</th>\n",
       "      <th>FSB_078</th>\n",
       "      <th>FSB_126</th>\n",
       "      <th>FSB_130D</th>\n",
       "      <th>FPZ_06A</th>\n",
       "      <th>FSB_079</th>\n",
       "      <th>FPZ_04A</th>\n",
       "      <th>FSB_097D</th>\n",
       "    </tr>\n",
       "  </thead>\n",
       "  <tbody>\n",
       "    <tr>\n",
       "      <th>0</th>\n",
       "      <td>2023-07-28 05:00:00.000</td>\n",
       "      <td>3.979692</td>\n",
       "      <td>4.231642</td>\n",
       "      <td>4.162819</td>\n",
       "      <td>4.181472</td>\n",
       "      <td>4.128811</td>\n",
       "      <td>5.273175</td>\n",
       "      <td>7.715749</td>\n",
       "      <td>6.417295</td>\n",
       "      <td>3.767151</td>\n",
       "    </tr>\n",
       "    <tr>\n",
       "      <th>1</th>\n",
       "      <td>2023-07-28 06:00:00.000</td>\n",
       "      <td>3.980776</td>\n",
       "      <td>4.233550</td>\n",
       "      <td>4.163253</td>\n",
       "      <td>4.181599</td>\n",
       "      <td>4.129336</td>\n",
       "      <td>5.274380</td>\n",
       "      <td>7.713223</td>\n",
       "      <td>6.418118</td>\n",
       "      <td>3.767072</td>\n",
       "    </tr>\n",
       "    <tr>\n",
       "      <th>2</th>\n",
       "      <td>2023-07-28 07:00:00.000</td>\n",
       "      <td>3.980825</td>\n",
       "      <td>4.236443</td>\n",
       "      <td>4.163040</td>\n",
       "      <td>4.179049</td>\n",
       "      <td>4.129939</td>\n",
       "      <td>5.271060</td>\n",
       "      <td>7.712299</td>\n",
       "      <td>6.417948</td>\n",
       "      <td>3.767076</td>\n",
       "    </tr>\n",
       "    <tr>\n",
       "      <th>3</th>\n",
       "      <td>2023-07-28 08:00:00.000</td>\n",
       "      <td>3.981121</td>\n",
       "      <td>4.236699</td>\n",
       "      <td>4.166883</td>\n",
       "      <td>NaN</td>\n",
       "      <td>4.130379</td>\n",
       "      <td>5.267786</td>\n",
       "      <td>7.712222</td>\n",
       "      <td>6.417735</td>\n",
       "      <td>3.767253</td>\n",
       "    </tr>\n",
       "    <tr>\n",
       "      <th>4</th>\n",
       "      <td>2023-07-28 09:00:00.000</td>\n",
       "      <td>3.981221</td>\n",
       "      <td>4.239193</td>\n",
       "      <td>4.168008</td>\n",
       "      <td>NaN</td>\n",
       "      <td>4.130503</td>\n",
       "      <td>5.265711</td>\n",
       "      <td>7.712381</td>\n",
       "      <td>6.417951</td>\n",
       "      <td>3.767425</td>\n",
       "    </tr>\n",
       "  </tbody>\n",
       "</table>\n",
       "</div>"
      ],
      "text/plain": [
       "                        dt   FEX_004  FSB_095DR   FSB_078   FSB_126  FSB_130D  \\\n",
       "0  2023-07-28 05:00:00.000  3.979692   4.231642  4.162819  4.181472  4.128811   \n",
       "1  2023-07-28 06:00:00.000  3.980776   4.233550  4.163253  4.181599  4.129336   \n",
       "2  2023-07-28 07:00:00.000  3.980825   4.236443  4.163040  4.179049  4.129939   \n",
       "3  2023-07-28 08:00:00.000  3.981121   4.236699  4.166883       NaN  4.130379   \n",
       "4  2023-07-28 09:00:00.000  3.981221   4.239193  4.168008       NaN  4.130503   \n",
       "\n",
       "    FPZ_06A   FSB_079   FPZ_04A  FSB_097D  \n",
       "0  5.273175  7.715749  6.417295  3.767151  \n",
       "1  5.274380  7.713223  6.418118  3.767072  \n",
       "2  5.271060  7.712299  6.417948  3.767076  \n",
       "3  5.267786  7.712222  6.417735  3.767253  \n",
       "4  5.265711  7.712381  6.417951  3.767425  "
      ]
     },
     "execution_count": 104,
     "metadata": {},
     "output_type": "execute_result"
    }
   ],
   "source": [
    "df.head()"
   ]
  },
  {
   "cell_type": "code",
   "execution_count": 106,
   "id": "8d5cd1a0-5602-4769-8e8c-fc7c116a33bc",
   "metadata": {
    "tags": []
   },
   "outputs": [
    {
     "data": {
      "text/plain": [
       "(7748, 10)"
      ]
     },
     "execution_count": 106,
     "metadata": {},
     "output_type": "execute_result"
    }
   ],
   "source": [
    "df.shape"
   ]
  },
  {
   "cell_type": "code",
   "execution_count": 108,
   "id": "1eb245a3-6552-44af-a742-e5d8d51a768f",
   "metadata": {
    "tags": []
   },
   "outputs": [],
   "source": [
    "df['dt'] = pd.to_datetime(df['dt'])"
   ]
  },
  {
   "cell_type": "code",
   "execution_count": 110,
   "id": "db864f13-6abc-4600-8d85-fd99e586f6fb",
   "metadata": {
    "tags": []
   },
   "outputs": [
    {
     "data": {
      "text/plain": [
       "['FEX_004',\n",
       " 'FSB_095DR',\n",
       " 'FSB_078',\n",
       " 'FSB_126',\n",
       " 'FSB_130D',\n",
       " 'FPZ_06A',\n",
       " 'FSB_079',\n",
       " 'FPZ_04A',\n",
       " 'FSB_097D']"
      ]
     },
     "execution_count": 110,
     "metadata": {},
     "output_type": "execute_result"
    }
   ],
   "source": [
    "cols = list(df.columns)\n",
    "cols.remove('dt')\n",
    "cols"
   ]
  },
  {
   "cell_type": "code",
   "execution_count": 142,
   "id": "cc893ae5-f479-43f5-85bc-aa6ea56d8565",
   "metadata": {
    "tags": []
   },
   "outputs": [
    {
     "name": "stdout",
     "output_type": "stream",
     "text": [
      "FSB_078\n"
     ]
    }
   ],
   "source": [
    "start_array = []\n",
    "end_array = []\n",
    "index = 2\n",
    "start_na = True\n",
    "print(cols[index])\n",
    "\n",
    "for _, row in df.iterrows():\n",
    "    if pd.isna(row[cols[index]]) and start_na:\n",
    "        start_na = False\n",
    "        start_array.append(row['dt'])\n",
    "    elif not pd.isna(row[cols[index]]) and not start_na:\n",
    "        start_na = True\n",
    "        end_array.append(row['dt'])"
   ]
  },
  {
   "cell_type": "code",
   "execution_count": 144,
   "id": "6c85e2fc-a051-4677-bbda-86bbd916b803",
   "metadata": {
    "tags": []
   },
   "outputs": [
    {
     "name": "stdout",
     "output_type": "stream",
     "text": [
      "31 31\n"
     ]
    }
   ],
   "source": [
    "print(len(start_array), len(end_array))"
   ]
  },
  {
   "cell_type": "code",
   "execution_count": 146,
   "id": "ffeb6dc8-e374-4107-a005-9449e76e7411",
   "metadata": {
    "tags": []
   },
   "outputs": [
    {
     "name": "stdout",
     "output_type": "stream",
     "text": [
      "31\n"
     ]
    }
   ],
   "source": [
    "start_end = {}\n",
    "for start, end in zip(start_array, end_array):\n",
    "    start_end[start] = end\n",
    "print(len(start_end))"
   ]
  },
  {
   "cell_type": "code",
   "execution_count": 148,
   "id": "92608eb1-0180-4ff6-8bd5-374496793c6a",
   "metadata": {
    "tags": []
   },
   "outputs": [
    {
     "name": "stdout",
     "output_type": "stream",
     "text": [
      "31\n"
     ]
    },
    {
     "data": {
      "text/plain": [
       "{(Timestamp('2023-08-28 15:02:00'),\n",
       "  Timestamp('2023-08-28 16:00:00')): Timedelta('0 days 00:58:00'),\n",
       " (Timestamp('2023-09-08 00:02:00'),\n",
       "  Timestamp('2023-09-08 01:00:00')): Timedelta('0 days 00:58:00'),\n",
       " (Timestamp('2023-10-11 15:19:00'),\n",
       "  Timestamp('2023-10-11 16:00:00')): Timedelta('0 days 00:41:00'),\n",
       " (Timestamp('2023-10-12 07:39:00'),\n",
       "  Timestamp('2023-10-12 08:00:00')): Timedelta('0 days 00:21:00'),\n",
       " (Timestamp('2023-10-18 12:53:00'),\n",
       "  Timestamp('2023-10-18 13:00:00')): Timedelta('0 days 00:07:00'),\n",
       " (Timestamp('2023-10-18 13:34:00'),\n",
       "  Timestamp('2023-10-18 14:00:00')): Timedelta('0 days 00:26:00'),\n",
       " (Timestamp('2023-10-18 14:21:00'),\n",
       "  Timestamp('2023-10-18 15:00:00')): Timedelta('0 days 00:39:00'),\n",
       " (Timestamp('2023-10-18 15:13:00'),\n",
       "  Timestamp('2023-10-18 16:00:00')): Timedelta('0 days 00:47:00'),\n",
       " (Timestamp('2023-10-18 16:08:00'),\n",
       "  Timestamp('2023-10-18 17:00:00')): Timedelta('0 days 00:52:00'),\n",
       " (Timestamp('2023-10-19 12:52:00'),\n",
       "  Timestamp('2023-10-19 13:00:00')): Timedelta('0 days 00:08:00'),\n",
       " (Timestamp('2023-10-19 13:49:00'),\n",
       "  Timestamp('2023-10-19 14:00:00')): Timedelta('0 days 00:11:00'),\n",
       " (Timestamp('2023-10-26 13:47:00'),\n",
       "  Timestamp('2023-10-26 14:00:00')): Timedelta('0 days 00:13:00'),\n",
       " (Timestamp('2023-11-01 21:04:00'),\n",
       "  Timestamp('2023-11-01 22:00:00')): Timedelta('0 days 00:56:00'),\n",
       " (Timestamp('2023-11-08 18:04:00'),\n",
       "  Timestamp('2023-11-08 19:00:00')): Timedelta('0 days 00:56:00'),\n",
       " (Timestamp('2024-01-01 01:00:00'),\n",
       "  Timestamp('2024-01-24 15:22:00')): Timedelta('23 days 14:22:00'),\n",
       " (Timestamp('2024-02-05 17:38:00'),\n",
       "  Timestamp('2024-02-05 18:00:00')): Timedelta('0 days 00:22:00'),\n",
       " (Timestamp('2024-03-19 13:08:00'),\n",
       "  Timestamp('2024-03-19 14:00:00')): Timedelta('0 days 00:52:00'),\n",
       " (Timestamp('2024-04-16 15:19:00'),\n",
       "  Timestamp('2024-04-16 16:00:00')): Timedelta('0 days 00:41:00'),\n",
       " (Timestamp('2024-05-09 14:17:00'),\n",
       "  Timestamp('2024-05-09 15:00:00')): Timedelta('0 days 00:43:00'),\n",
       " (Timestamp('2024-05-30 01:31:00'),\n",
       "  Timestamp('2024-05-30 02:00:00')): Timedelta('0 days 00:29:00'),\n",
       " (Timestamp('2024-06-01 08:05:00'),\n",
       "  Timestamp('2024-06-01 09:00:00')): Timedelta('0 days 00:55:00'),\n",
       " (Timestamp('2024-06-02 01:33:00'),\n",
       "  Timestamp('2024-06-02 02:00:00')): Timedelta('0 days 00:27:00'),\n",
       " (Timestamp('2024-06-02 21:45:00'),\n",
       "  Timestamp('2024-06-02 22:00:00')): Timedelta('0 days 00:15:00'),\n",
       " (Timestamp('2024-06-02 22:21:00'),\n",
       "  Timestamp('2024-06-02 23:00:00')): Timedelta('0 days 00:39:00'),\n",
       " (Timestamp('2024-06-02 23:13:00'),\n",
       "  Timestamp('2024-06-03 00:00:00')): Timedelta('0 days 00:47:00'),\n",
       " (Timestamp('2024-06-03 00:47:00'),\n",
       "  Timestamp('2024-06-03 01:00:00')): Timedelta('0 days 00:13:00'),\n",
       " (Timestamp('2024-06-03 01:20:00'),\n",
       "  Timestamp('2024-06-03 02:00:00')): Timedelta('0 days 00:40:00'),\n",
       " (Timestamp('2024-06-03 02:21:00'),\n",
       "  Timestamp('2024-06-03 03:00:00')): Timedelta('0 days 00:39:00'),\n",
       " (Timestamp('2024-06-03 03:01:00'),\n",
       "  Timestamp('2024-06-03 04:00:00')): Timedelta('0 days 00:59:00'),\n",
       " (Timestamp('2024-06-03 15:41:00'),\n",
       "  Timestamp('2024-06-03 16:00:00')): Timedelta('0 days 00:19:00'),\n",
       " (Timestamp('2024-06-06 22:07:00'),\n",
       "  Timestamp('2024-06-06 23:00:00')): Timedelta('0 days 00:53:00')}"
      ]
     },
     "execution_count": 148,
     "metadata": {},
     "output_type": "execute_result"
    }
   ],
   "source": [
    "length = {}\n",
    "for start, end in start_end.items():\n",
    "    length[(start, end)] = pd.to_datetime(end) - pd.to_datetime(start)\n",
    "print(len(length))\n",
    "length"
   ]
  },
  {
   "cell_type": "code",
   "execution_count": 150,
   "id": "88773d7c-1b3a-4a5a-b6a7-8c72ed00b758",
   "metadata": {
    "tags": []
   },
   "outputs": [
    {
     "name": "stdout",
     "output_type": "stream",
     "text": [
      "1\n"
     ]
    }
   ],
   "source": [
    "na_data = {}\n",
    "for key, duration in length.items():\n",
    "    if duration > pd.Timedelta(hours=1):\n",
    "        na_data[key] = duration\n",
    "print(len(na_data))"
   ]
  },
  {
   "cell_type": "code",
   "execution_count": 152,
   "id": "05e63ad1-5965-477a-ab0e-42fe14636d13",
   "metadata": {
    "tags": []
   },
   "outputs": [
    {
     "data": {
      "text/plain": [
       "{(Timestamp('2024-01-01 01:00:00'),\n",
       "  Timestamp('2024-01-24 15:22:00')): Timedelta('23 days 14:22:00')}"
      ]
     },
     "execution_count": 152,
     "metadata": {},
     "output_type": "execute_result"
    }
   ],
   "source": [
    "na_data"
   ]
  },
  {
   "cell_type": "code",
   "execution_count": 157,
   "id": "c2d8552d-c366-4309-9a56-7e3db26a6d79",
   "metadata": {
    "tags": []
   },
   "outputs": [
    {
     "name": "stdout",
     "output_type": "stream",
     "text": [
      "(3395, 10)\n"
     ]
    }
   ],
   "source": [
    "new_df = df[df['dt'] >= \"2024-01-24 14:06:00.000\"]\n",
    "print(new_df.shape)"
   ]
  },
  {
   "cell_type": "code",
   "execution_count": 159,
   "id": "e0f0e008-28b3-4110-89a1-0f781ce85caa",
   "metadata": {
    "tags": []
   },
   "outputs": [
    {
     "data": {
      "text/html": [
       "<div>\n",
       "<style scoped>\n",
       "    .dataframe tbody tr th:only-of-type {\n",
       "        vertical-align: middle;\n",
       "    }\n",
       "\n",
       "    .dataframe tbody tr th {\n",
       "        vertical-align: top;\n",
       "    }\n",
       "\n",
       "    .dataframe thead th {\n",
       "        text-align: right;\n",
       "    }\n",
       "</style>\n",
       "<table border=\"1\" class=\"dataframe\">\n",
       "  <thead>\n",
       "    <tr style=\"text-align: right;\">\n",
       "      <th></th>\n",
       "      <th>dt</th>\n",
       "      <th>FEX_004</th>\n",
       "      <th>FSB_095DR</th>\n",
       "      <th>FSB_078</th>\n",
       "      <th>FSB_126</th>\n",
       "      <th>FSB_130D</th>\n",
       "      <th>FPZ_06A</th>\n",
       "      <th>FSB_079</th>\n",
       "      <th>FPZ_04A</th>\n",
       "      <th>FSB_097D</th>\n",
       "    </tr>\n",
       "  </thead>\n",
       "  <tbody>\n",
       "    <tr>\n",
       "      <th>4353</th>\n",
       "      <td>2024-01-24 14:06:00</td>\n",
       "      <td>NaN</td>\n",
       "      <td>NaN</td>\n",
       "      <td>NaN</td>\n",
       "      <td>4.390264</td>\n",
       "      <td>NaN</td>\n",
       "      <td>NaN</td>\n",
       "      <td>NaN</td>\n",
       "      <td>NaN</td>\n",
       "      <td>NaN</td>\n",
       "    </tr>\n",
       "    <tr>\n",
       "      <th>4354</th>\n",
       "      <td>2024-01-24 14:42:00</td>\n",
       "      <td>NaN</td>\n",
       "      <td>NaN</td>\n",
       "      <td>NaN</td>\n",
       "      <td>NaN</td>\n",
       "      <td>NaN</td>\n",
       "      <td>NaN</td>\n",
       "      <td>7.768566</td>\n",
       "      <td>NaN</td>\n",
       "      <td>NaN</td>\n",
       "    </tr>\n",
       "    <tr>\n",
       "      <th>4355</th>\n",
       "      <td>2024-01-24 15:00:00</td>\n",
       "      <td>4.199255</td>\n",
       "      <td>4.335871</td>\n",
       "      <td>NaN</td>\n",
       "      <td>4.390036</td>\n",
       "      <td>4.335593</td>\n",
       "      <td>NaN</td>\n",
       "      <td>7.767843</td>\n",
       "      <td>NaN</td>\n",
       "      <td>3.997356</td>\n",
       "    </tr>\n",
       "    <tr>\n",
       "      <th>4356</th>\n",
       "      <td>2024-01-24 15:22:00</td>\n",
       "      <td>NaN</td>\n",
       "      <td>NaN</td>\n",
       "      <td>4.335450</td>\n",
       "      <td>NaN</td>\n",
       "      <td>NaN</td>\n",
       "      <td>NaN</td>\n",
       "      <td>NaN</td>\n",
       "      <td>NaN</td>\n",
       "      <td>NaN</td>\n",
       "    </tr>\n",
       "    <tr>\n",
       "      <th>4357</th>\n",
       "      <td>2024-01-24 16:00:00</td>\n",
       "      <td>4.199346</td>\n",
       "      <td>4.335111</td>\n",
       "      <td>4.331754</td>\n",
       "      <td>4.390786</td>\n",
       "      <td>4.334991</td>\n",
       "      <td>NaN</td>\n",
       "      <td>7.768126</td>\n",
       "      <td>7.497128</td>\n",
       "      <td>3.996470</td>\n",
       "    </tr>\n",
       "  </tbody>\n",
       "</table>\n",
       "</div>"
      ],
      "text/plain": [
       "                      dt   FEX_004  FSB_095DR   FSB_078   FSB_126  FSB_130D  \\\n",
       "4353 2024-01-24 14:06:00       NaN        NaN       NaN  4.390264       NaN   \n",
       "4354 2024-01-24 14:42:00       NaN        NaN       NaN       NaN       NaN   \n",
       "4355 2024-01-24 15:00:00  4.199255   4.335871       NaN  4.390036  4.335593   \n",
       "4356 2024-01-24 15:22:00       NaN        NaN  4.335450       NaN       NaN   \n",
       "4357 2024-01-24 16:00:00  4.199346   4.335111  4.331754  4.390786  4.334991   \n",
       "\n",
       "      FPZ_06A   FSB_079   FPZ_04A  FSB_097D  \n",
       "4353      NaN       NaN       NaN       NaN  \n",
       "4354      NaN  7.768566       NaN       NaN  \n",
       "4355      NaN  7.767843       NaN  3.997356  \n",
       "4356      NaN       NaN       NaN       NaN  \n",
       "4357      NaN  7.768126  7.497128  3.996470  "
      ]
     },
     "execution_count": 159,
     "metadata": {},
     "output_type": "execute_result"
    }
   ],
   "source": [
    "new_df.head()"
   ]
  },
  {
   "cell_type": "code",
   "execution_count": 163,
   "id": "0a239421-4030-4fb5-9a09-1149675f21e9",
   "metadata": {
    "tags": []
   },
   "outputs": [
    {
     "data": {
      "text/plain": [
       "dt             0\n",
       "FEX_004       24\n",
       "FSB_095DR     24\n",
       "FSB_078       24\n",
       "FSB_126       34\n",
       "FSB_130D      24\n",
       "FPZ_06A       27\n",
       "FSB_079       23\n",
       "FPZ_04A       25\n",
       "FSB_097D     189\n",
       "dtype: int64"
      ]
     },
     "execution_count": 163,
     "metadata": {},
     "output_type": "execute_result"
    }
   ],
   "source": [
    "new_df.isna().sum()"
   ]
  },
  {
   "cell_type": "code",
   "execution_count": 165,
   "id": "2b2af4a1-7488-48b7-b2d4-eb835bbd0e96",
   "metadata": {
    "tags": []
   },
   "outputs": [
    {
     "data": {
      "text/plain": [
       "['FEX_004',\n",
       " 'FSB_095DR',\n",
       " 'FSB_078',\n",
       " 'FSB_126',\n",
       " 'FSB_130D',\n",
       " 'FPZ_06A',\n",
       " 'FSB_079',\n",
       " 'FPZ_04A',\n",
       " 'FSB_097D']"
      ]
     },
     "execution_count": 165,
     "metadata": {},
     "output_type": "execute_result"
    }
   ],
   "source": [
    "df_interpolate = new_df.copy()\n",
    "cols"
   ]
  },
  {
   "cell_type": "code",
   "execution_count": 171,
   "id": "192952fd-93aa-463b-9f40-ae878c22ad18",
   "metadata": {
    "tags": []
   },
   "outputs": [],
   "source": [
    "for col in cols:\n",
    "    df_interpolate[col] = df_interpolate[col].interpolate()"
   ]
  },
  {
   "cell_type": "code",
   "execution_count": 173,
   "id": "7a781d32-7f42-44e9-ad6e-b691bee0d87d",
   "metadata": {
    "tags": []
   },
   "outputs": [
    {
     "data": {
      "text/plain": [
       "dt           0\n",
       "FEX_004      2\n",
       "FSB_095DR    2\n",
       "FSB_078      3\n",
       "FSB_126      0\n",
       "FSB_130D     2\n",
       "FPZ_06A      6\n",
       "FSB_079      1\n",
       "FPZ_04A      4\n",
       "FSB_097D     2\n",
       "dtype: int64"
      ]
     },
     "execution_count": 173,
     "metadata": {},
     "output_type": "execute_result"
    }
   ],
   "source": [
    "df_interpolate.isna().sum()"
   ]
  },
  {
   "cell_type": "code",
   "execution_count": 185,
   "id": "f75e09cf-8dfd-4271-ac9d-d88881e75fe8",
   "metadata": {
    "tags": []
   },
   "outputs": [
    {
     "data": {
      "text/plain": [
       "(3395, 9)"
      ]
     },
     "execution_count": 185,
     "metadata": {},
     "output_type": "execute_result"
    }
   ],
   "source": [
    "test_df = df_interpolate.drop(columns = [\"dt\"])\n",
    "test_df.shape"
   ]
  },
  {
   "cell_type": "code",
   "execution_count": 191,
   "id": "7bd14db9-912a-4aa7-92de-377b969105b9",
   "metadata": {
    "tags": []
   },
   "outputs": [
    {
     "data": {
      "text/html": [
       "<div>\n",
       "<style scoped>\n",
       "    .dataframe tbody tr th:only-of-type {\n",
       "        vertical-align: middle;\n",
       "    }\n",
       "\n",
       "    .dataframe tbody tr th {\n",
       "        vertical-align: top;\n",
       "    }\n",
       "\n",
       "    .dataframe thead th {\n",
       "        text-align: right;\n",
       "    }\n",
       "</style>\n",
       "<table border=\"1\" class=\"dataframe\">\n",
       "  <thead>\n",
       "    <tr style=\"text-align: right;\">\n",
       "      <th></th>\n",
       "      <th>FEX_004</th>\n",
       "      <th>FSB_095DR</th>\n",
       "      <th>FSB_078</th>\n",
       "      <th>FSB_126</th>\n",
       "      <th>FSB_130D</th>\n",
       "      <th>FPZ_06A</th>\n",
       "      <th>FSB_079</th>\n",
       "      <th>FPZ_04A</th>\n",
       "      <th>FSB_097D</th>\n",
       "    </tr>\n",
       "  </thead>\n",
       "  <tbody>\n",
       "    <tr>\n",
       "      <th>4359</th>\n",
       "      <td>4.199731</td>\n",
       "      <td>4.336892</td>\n",
       "      <td>4.328062</td>\n",
       "      <td>4.392499</td>\n",
       "      <td>4.335384</td>\n",
       "      <td>5.250169</td>\n",
       "      <td>7.768929</td>\n",
       "      <td>7.495040</td>\n",
       "      <td>3.997087</td>\n",
       "    </tr>\n",
       "    <tr>\n",
       "      <th>4360</th>\n",
       "      <td>4.200343</td>\n",
       "      <td>4.336161</td>\n",
       "      <td>4.327713</td>\n",
       "      <td>4.392068</td>\n",
       "      <td>4.335722</td>\n",
       "      <td>5.256137</td>\n",
       "      <td>7.768003</td>\n",
       "      <td>7.493386</td>\n",
       "      <td>3.996909</td>\n",
       "    </tr>\n",
       "    <tr>\n",
       "      <th>4361</th>\n",
       "      <td>4.200376</td>\n",
       "      <td>4.336316</td>\n",
       "      <td>4.328190</td>\n",
       "      <td>4.391214</td>\n",
       "      <td>4.335845</td>\n",
       "      <td>5.261071</td>\n",
       "      <td>7.767725</td>\n",
       "      <td>7.497791</td>\n",
       "      <td>3.997079</td>\n",
       "    </tr>\n",
       "    <tr>\n",
       "      <th>4362</th>\n",
       "      <td>4.201028</td>\n",
       "      <td>4.335628</td>\n",
       "      <td>4.327332</td>\n",
       "      <td>4.389647</td>\n",
       "      <td>4.335733</td>\n",
       "      <td>5.264223</td>\n",
       "      <td>7.767564</td>\n",
       "      <td>7.495985</td>\n",
       "      <td>3.997174</td>\n",
       "    </tr>\n",
       "    <tr>\n",
       "      <th>4363</th>\n",
       "      <td>4.200429</td>\n",
       "      <td>4.335715</td>\n",
       "      <td>4.330208</td>\n",
       "      <td>4.389130</td>\n",
       "      <td>4.336421</td>\n",
       "      <td>5.263191</td>\n",
       "      <td>7.767006</td>\n",
       "      <td>7.495095</td>\n",
       "      <td>3.997000</td>\n",
       "    </tr>\n",
       "    <tr>\n",
       "      <th>...</th>\n",
       "      <td>...</td>\n",
       "      <td>...</td>\n",
       "      <td>...</td>\n",
       "      <td>...</td>\n",
       "      <td>...</td>\n",
       "      <td>...</td>\n",
       "      <td>...</td>\n",
       "      <td>...</td>\n",
       "      <td>...</td>\n",
       "    </tr>\n",
       "    <tr>\n",
       "      <th>7743</th>\n",
       "      <td>4.373425</td>\n",
       "      <td>4.483142</td>\n",
       "      <td>4.300413</td>\n",
       "      <td>4.495069</td>\n",
       "      <td>4.439222</td>\n",
       "      <td>5.585535</td>\n",
       "      <td>7.878193</td>\n",
       "      <td>7.592293</td>\n",
       "      <td>4.167729</td>\n",
       "    </tr>\n",
       "    <tr>\n",
       "      <th>7744</th>\n",
       "      <td>4.374073</td>\n",
       "      <td>4.482854</td>\n",
       "      <td>4.301687</td>\n",
       "      <td>4.494333</td>\n",
       "      <td>4.439609</td>\n",
       "      <td>5.582193</td>\n",
       "      <td>7.877029</td>\n",
       "      <td>7.593216</td>\n",
       "      <td>4.167895</td>\n",
       "    </tr>\n",
       "    <tr>\n",
       "      <th>7745</th>\n",
       "      <td>4.375431</td>\n",
       "      <td>4.483341</td>\n",
       "      <td>4.304706</td>\n",
       "      <td>4.495460</td>\n",
       "      <td>4.439438</td>\n",
       "      <td>5.579660</td>\n",
       "      <td>7.880521</td>\n",
       "      <td>7.605413</td>\n",
       "      <td>4.167374</td>\n",
       "    </tr>\n",
       "    <tr>\n",
       "      <th>7746</th>\n",
       "      <td>4.373557</td>\n",
       "      <td>4.482985</td>\n",
       "      <td>4.309968</td>\n",
       "      <td>4.494287</td>\n",
       "      <td>4.439528</td>\n",
       "      <td>5.576629</td>\n",
       "      <td>7.880730</td>\n",
       "      <td>7.593132</td>\n",
       "      <td>4.168333</td>\n",
       "    </tr>\n",
       "    <tr>\n",
       "      <th>7747</th>\n",
       "      <td>4.374814</td>\n",
       "      <td>4.483509</td>\n",
       "      <td>4.307608</td>\n",
       "      <td>4.493996</td>\n",
       "      <td>4.439603</td>\n",
       "      <td>5.574546</td>\n",
       "      <td>7.881895</td>\n",
       "      <td>7.589359</td>\n",
       "      <td>4.168072</td>\n",
       "    </tr>\n",
       "  </tbody>\n",
       "</table>\n",
       "<p>3389 rows × 9 columns</p>\n",
       "</div>"
      ],
      "text/plain": [
       "       FEX_004  FSB_095DR   FSB_078   FSB_126  FSB_130D   FPZ_06A   FSB_079  \\\n",
       "4359  4.199731   4.336892  4.328062  4.392499  4.335384  5.250169  7.768929   \n",
       "4360  4.200343   4.336161  4.327713  4.392068  4.335722  5.256137  7.768003   \n",
       "4361  4.200376   4.336316  4.328190  4.391214  4.335845  5.261071  7.767725   \n",
       "4362  4.201028   4.335628  4.327332  4.389647  4.335733  5.264223  7.767564   \n",
       "4363  4.200429   4.335715  4.330208  4.389130  4.336421  5.263191  7.767006   \n",
       "...        ...        ...       ...       ...       ...       ...       ...   \n",
       "7743  4.373425   4.483142  4.300413  4.495069  4.439222  5.585535  7.878193   \n",
       "7744  4.374073   4.482854  4.301687  4.494333  4.439609  5.582193  7.877029   \n",
       "7745  4.375431   4.483341  4.304706  4.495460  4.439438  5.579660  7.880521   \n",
       "7746  4.373557   4.482985  4.309968  4.494287  4.439528  5.576629  7.880730   \n",
       "7747  4.374814   4.483509  4.307608  4.493996  4.439603  5.574546  7.881895   \n",
       "\n",
       "       FPZ_04A  FSB_097D  \n",
       "4359  7.495040  3.997087  \n",
       "4360  7.493386  3.996909  \n",
       "4361  7.497791  3.997079  \n",
       "4362  7.495985  3.997174  \n",
       "4363  7.495095  3.997000  \n",
       "...        ...       ...  \n",
       "7743  7.592293  4.167729  \n",
       "7744  7.593216  4.167895  \n",
       "7745  7.605413  4.167374  \n",
       "7746  7.593132  4.168333  \n",
       "7747  7.589359  4.168072  \n",
       "\n",
       "[3389 rows x 9 columns]"
      ]
     },
     "execution_count": 191,
     "metadata": {},
     "output_type": "execute_result"
    }
   ],
   "source": [
    "test_df.dropna()"
   ]
  },
  {
   "cell_type": "code",
   "execution_count": 189,
   "id": "e03b8c8f-a2f0-4ec0-b711-4a402f623273",
   "metadata": {
    "tags": []
   },
   "outputs": [
    {
     "data": {
      "text/plain": [
       "FEX_004      2\n",
       "FSB_095DR    2\n",
       "FSB_078      3\n",
       "FSB_126      0\n",
       "FSB_130D     2\n",
       "FPZ_06A      6\n",
       "FSB_079      1\n",
       "FPZ_04A      4\n",
       "FSB_097D     2\n",
       "dtype: int64"
      ]
     },
     "execution_count": 189,
     "metadata": {},
     "output_type": "execute_result"
    }
   ],
   "source": []
  },
  {
   "cell_type": "code",
   "execution_count": null,
   "id": "cea7a943-2ff5-41ea-aa85-1f1db0ce7ec3",
   "metadata": {},
   "outputs": [],
   "source": []
  }
 ],
 "metadata": {
  "kernelspec": {
   "display_name": "Python 3 (ipykernel)",
   "language": "python",
   "name": "python3"
  },
  "language_info": {
   "codemirror_mode": {
    "name": "ipython",
    "version": 3
   },
   "file_extension": ".py",
   "mimetype": "text/x-python",
   "name": "python",
   "nbconvert_exporter": "python",
   "pygments_lexer": "ipython3",
   "version": "3.11.5"
  }
 },
 "nbformat": 4,
 "nbformat_minor": 5
}

{
 "cells": [
  {
   "cell_type": "code",
   "execution_count": 292,
   "id": "b74ecca4-25ca-407c-b854-4520b3a8083d",
   "metadata": {
    "tags": []
   },
   "outputs": [],
   "source": [
    "import pandas as pd\n",
    "from sklearn.preprocessing import StandardScaler\n",
    "import torch\n",
    "import torch.nn as nn\n",
    "import torch.optim as optim\n",
    "from torch.utils.data import DataLoader, TensorDataset\n",
    "import numpy as np"
   ]
  },
  {
   "cell_type": "code",
   "execution_count": 214,
   "id": "768644f8-5f16-4ff6-b4fc-baa35c0eb87c",
   "metadata": {
    "tags": []
   },
   "outputs": [],
   "source": [
    "df = pd.read_csv(\"../../data/csv_files/df_ph1.csv\")"
   ]
  },
  {
   "cell_type": "code",
   "execution_count": 216,
   "id": "d0186a34-ec20-4cd0-8d3e-d01fc83b8aba",
   "metadata": {
    "tags": []
   },
   "outputs": [
    {
     "data": {
      "text/html": [
       "<div>\n",
       "<style scoped>\n",
       "    .dataframe tbody tr th:only-of-type {\n",
       "        vertical-align: middle;\n",
       "    }\n",
       "\n",
       "    .dataframe tbody tr th {\n",
       "        vertical-align: top;\n",
       "    }\n",
       "\n",
       "    .dataframe thead th {\n",
       "        text-align: right;\n",
       "    }\n",
       "</style>\n",
       "<table border=\"1\" class=\"dataframe\">\n",
       "  <thead>\n",
       "    <tr style=\"text-align: right;\">\n",
       "      <th></th>\n",
       "      <th>dt</th>\n",
       "      <th>FEX_004</th>\n",
       "      <th>FSB_095DR</th>\n",
       "      <th>FSB_078</th>\n",
       "      <th>FSB_126</th>\n",
       "      <th>FSB_130D</th>\n",
       "      <th>FPZ_06A</th>\n",
       "      <th>FSB_079</th>\n",
       "      <th>FPZ_04A</th>\n",
       "      <th>FSB_097D</th>\n",
       "    </tr>\n",
       "  </thead>\n",
       "  <tbody>\n",
       "    <tr>\n",
       "      <th>0</th>\n",
       "      <td>2023-07-28 05:00:00.000</td>\n",
       "      <td>3.979692</td>\n",
       "      <td>4.231642</td>\n",
       "      <td>4.162819</td>\n",
       "      <td>4.181472</td>\n",
       "      <td>4.128811</td>\n",
       "      <td>5.273175</td>\n",
       "      <td>7.715749</td>\n",
       "      <td>6.417295</td>\n",
       "      <td>3.767151</td>\n",
       "    </tr>\n",
       "    <tr>\n",
       "      <th>1</th>\n",
       "      <td>2023-07-28 06:00:00.000</td>\n",
       "      <td>3.980776</td>\n",
       "      <td>4.233550</td>\n",
       "      <td>4.163253</td>\n",
       "      <td>4.181599</td>\n",
       "      <td>4.129336</td>\n",
       "      <td>5.274380</td>\n",
       "      <td>7.713223</td>\n",
       "      <td>6.418118</td>\n",
       "      <td>3.767072</td>\n",
       "    </tr>\n",
       "    <tr>\n",
       "      <th>2</th>\n",
       "      <td>2023-07-28 07:00:00.000</td>\n",
       "      <td>3.980825</td>\n",
       "      <td>4.236443</td>\n",
       "      <td>4.163040</td>\n",
       "      <td>4.179049</td>\n",
       "      <td>4.129939</td>\n",
       "      <td>5.271060</td>\n",
       "      <td>7.712299</td>\n",
       "      <td>6.417948</td>\n",
       "      <td>3.767076</td>\n",
       "    </tr>\n",
       "    <tr>\n",
       "      <th>3</th>\n",
       "      <td>2023-07-28 08:00:00.000</td>\n",
       "      <td>3.981121</td>\n",
       "      <td>4.236699</td>\n",
       "      <td>4.166883</td>\n",
       "      <td>NaN</td>\n",
       "      <td>4.130379</td>\n",
       "      <td>5.267786</td>\n",
       "      <td>7.712222</td>\n",
       "      <td>6.417735</td>\n",
       "      <td>3.767253</td>\n",
       "    </tr>\n",
       "    <tr>\n",
       "      <th>4</th>\n",
       "      <td>2023-07-28 09:00:00.000</td>\n",
       "      <td>3.981221</td>\n",
       "      <td>4.239193</td>\n",
       "      <td>4.168008</td>\n",
       "      <td>NaN</td>\n",
       "      <td>4.130503</td>\n",
       "      <td>5.265711</td>\n",
       "      <td>7.712381</td>\n",
       "      <td>6.417951</td>\n",
       "      <td>3.767425</td>\n",
       "    </tr>\n",
       "  </tbody>\n",
       "</table>\n",
       "</div>"
      ],
      "text/plain": [
       "                        dt   FEX_004  FSB_095DR   FSB_078   FSB_126  FSB_130D  \\\n",
       "0  2023-07-28 05:00:00.000  3.979692   4.231642  4.162819  4.181472  4.128811   \n",
       "1  2023-07-28 06:00:00.000  3.980776   4.233550  4.163253  4.181599  4.129336   \n",
       "2  2023-07-28 07:00:00.000  3.980825   4.236443  4.163040  4.179049  4.129939   \n",
       "3  2023-07-28 08:00:00.000  3.981121   4.236699  4.166883       NaN  4.130379   \n",
       "4  2023-07-28 09:00:00.000  3.981221   4.239193  4.168008       NaN  4.130503   \n",
       "\n",
       "    FPZ_06A   FSB_079   FPZ_04A  FSB_097D  \n",
       "0  5.273175  7.715749  6.417295  3.767151  \n",
       "1  5.274380  7.713223  6.418118  3.767072  \n",
       "2  5.271060  7.712299  6.417948  3.767076  \n",
       "3  5.267786  7.712222  6.417735  3.767253  \n",
       "4  5.265711  7.712381  6.417951  3.767425  "
      ]
     },
     "execution_count": 216,
     "metadata": {},
     "output_type": "execute_result"
    }
   ],
   "source": [
    "df.head()"
   ]
  },
  {
   "cell_type": "code",
   "execution_count": 218,
   "id": "8d5cd1a0-5602-4769-8e8c-fc7c116a33bc",
   "metadata": {
    "tags": []
   },
   "outputs": [
    {
     "data": {
      "text/plain": [
       "(7748, 10)"
      ]
     },
     "execution_count": 218,
     "metadata": {},
     "output_type": "execute_result"
    }
   ],
   "source": [
    "df.shape"
   ]
  },
  {
   "cell_type": "code",
   "execution_count": 220,
   "id": "1eb245a3-6552-44af-a742-e5d8d51a768f",
   "metadata": {
    "tags": []
   },
   "outputs": [],
   "source": [
    "df['dt'] = pd.to_datetime(df['dt'])"
   ]
  },
  {
   "cell_type": "code",
   "execution_count": 222,
   "id": "db864f13-6abc-4600-8d85-fd99e586f6fb",
   "metadata": {
    "tags": []
   },
   "outputs": [
    {
     "data": {
      "text/plain": [
       "['FEX_004',\n",
       " 'FSB_095DR',\n",
       " 'FSB_078',\n",
       " 'FSB_126',\n",
       " 'FSB_130D',\n",
       " 'FPZ_06A',\n",
       " 'FSB_079',\n",
       " 'FPZ_04A',\n",
       " 'FSB_097D']"
      ]
     },
     "execution_count": 222,
     "metadata": {},
     "output_type": "execute_result"
    }
   ],
   "source": [
    "cols = list(df.columns)\n",
    "cols.remove('dt')\n",
    "cols"
   ]
  },
  {
   "cell_type": "code",
   "execution_count": 224,
   "id": "cc893ae5-f479-43f5-85bc-aa6ea56d8565",
   "metadata": {
    "tags": []
   },
   "outputs": [
    {
     "name": "stdout",
     "output_type": "stream",
     "text": [
      "FSB_078\n"
     ]
    }
   ],
   "source": [
    "start_array = []\n",
    "end_array = []\n",
    "index = 2\n",
    "start_na = True\n",
    "print(cols[index])\n",
    "\n",
    "for _, row in df.iterrows():\n",
    "    if pd.isna(row[cols[index]]) and start_na:\n",
    "        start_na = False\n",
    "        start_array.append(row['dt'])\n",
    "    elif not pd.isna(row[cols[index]]) and not start_na:\n",
    "        start_na = True\n",
    "        end_array.append(row['dt'])"
   ]
  },
  {
   "cell_type": "code",
   "execution_count": 226,
   "id": "6c85e2fc-a051-4677-bbda-86bbd916b803",
   "metadata": {
    "tags": []
   },
   "outputs": [
    {
     "name": "stdout",
     "output_type": "stream",
     "text": [
      "31 31\n"
     ]
    }
   ],
   "source": [
    "print(len(start_array), len(end_array))"
   ]
  },
  {
   "cell_type": "code",
   "execution_count": 228,
   "id": "ffeb6dc8-e374-4107-a005-9449e76e7411",
   "metadata": {
    "tags": []
   },
   "outputs": [
    {
     "name": "stdout",
     "output_type": "stream",
     "text": [
      "31\n"
     ]
    }
   ],
   "source": [
    "start_end = {}\n",
    "for start, end in zip(start_array, end_array):\n",
    "    start_end[start] = end\n",
    "print(len(start_end))"
   ]
  },
  {
   "cell_type": "code",
   "execution_count": 230,
   "id": "92608eb1-0180-4ff6-8bd5-374496793c6a",
   "metadata": {
    "tags": []
   },
   "outputs": [
    {
     "name": "stdout",
     "output_type": "stream",
     "text": [
      "31\n"
     ]
    },
    {
     "data": {
      "text/plain": [
       "{(Timestamp('2023-08-28 15:02:00'),\n",
       "  Timestamp('2023-08-28 16:00:00')): Timedelta('0 days 00:58:00'),\n",
       " (Timestamp('2023-09-08 00:02:00'),\n",
       "  Timestamp('2023-09-08 01:00:00')): Timedelta('0 days 00:58:00'),\n",
       " (Timestamp('2023-10-11 15:19:00'),\n",
       "  Timestamp('2023-10-11 16:00:00')): Timedelta('0 days 00:41:00'),\n",
       " (Timestamp('2023-10-12 07:39:00'),\n",
       "  Timestamp('2023-10-12 08:00:00')): Timedelta('0 days 00:21:00'),\n",
       " (Timestamp('2023-10-18 12:53:00'),\n",
       "  Timestamp('2023-10-18 13:00:00')): Timedelta('0 days 00:07:00'),\n",
       " (Timestamp('2023-10-18 13:34:00'),\n",
       "  Timestamp('2023-10-18 14:00:00')): Timedelta('0 days 00:26:00'),\n",
       " (Timestamp('2023-10-18 14:21:00'),\n",
       "  Timestamp('2023-10-18 15:00:00')): Timedelta('0 days 00:39:00'),\n",
       " (Timestamp('2023-10-18 15:13:00'),\n",
       "  Timestamp('2023-10-18 16:00:00')): Timedelta('0 days 00:47:00'),\n",
       " (Timestamp('2023-10-18 16:08:00'),\n",
       "  Timestamp('2023-10-18 17:00:00')): Timedelta('0 days 00:52:00'),\n",
       " (Timestamp('2023-10-19 12:52:00'),\n",
       "  Timestamp('2023-10-19 13:00:00')): Timedelta('0 days 00:08:00'),\n",
       " (Timestamp('2023-10-19 13:49:00'),\n",
       "  Timestamp('2023-10-19 14:00:00')): Timedelta('0 days 00:11:00'),\n",
       " (Timestamp('2023-10-26 13:47:00'),\n",
       "  Timestamp('2023-10-26 14:00:00')): Timedelta('0 days 00:13:00'),\n",
       " (Timestamp('2023-11-01 21:04:00'),\n",
       "  Timestamp('2023-11-01 22:00:00')): Timedelta('0 days 00:56:00'),\n",
       " (Timestamp('2023-11-08 18:04:00'),\n",
       "  Timestamp('2023-11-08 19:00:00')): Timedelta('0 days 00:56:00'),\n",
       " (Timestamp('2024-01-01 01:00:00'),\n",
       "  Timestamp('2024-01-24 15:22:00')): Timedelta('23 days 14:22:00'),\n",
       " (Timestamp('2024-02-05 17:38:00'),\n",
       "  Timestamp('2024-02-05 18:00:00')): Timedelta('0 days 00:22:00'),\n",
       " (Timestamp('2024-03-19 13:08:00'),\n",
       "  Timestamp('2024-03-19 14:00:00')): Timedelta('0 days 00:52:00'),\n",
       " (Timestamp('2024-04-16 15:19:00'),\n",
       "  Timestamp('2024-04-16 16:00:00')): Timedelta('0 days 00:41:00'),\n",
       " (Timestamp('2024-05-09 14:17:00'),\n",
       "  Timestamp('2024-05-09 15:00:00')): Timedelta('0 days 00:43:00'),\n",
       " (Timestamp('2024-05-30 01:31:00'),\n",
       "  Timestamp('2024-05-30 02:00:00')): Timedelta('0 days 00:29:00'),\n",
       " (Timestamp('2024-06-01 08:05:00'),\n",
       "  Timestamp('2024-06-01 09:00:00')): Timedelta('0 days 00:55:00'),\n",
       " (Timestamp('2024-06-02 01:33:00'),\n",
       "  Timestamp('2024-06-02 02:00:00')): Timedelta('0 days 00:27:00'),\n",
       " (Timestamp('2024-06-02 21:45:00'),\n",
       "  Timestamp('2024-06-02 22:00:00')): Timedelta('0 days 00:15:00'),\n",
       " (Timestamp('2024-06-02 22:21:00'),\n",
       "  Timestamp('2024-06-02 23:00:00')): Timedelta('0 days 00:39:00'),\n",
       " (Timestamp('2024-06-02 23:13:00'),\n",
       "  Timestamp('2024-06-03 00:00:00')): Timedelta('0 days 00:47:00'),\n",
       " (Timestamp('2024-06-03 00:47:00'),\n",
       "  Timestamp('2024-06-03 01:00:00')): Timedelta('0 days 00:13:00'),\n",
       " (Timestamp('2024-06-03 01:20:00'),\n",
       "  Timestamp('2024-06-03 02:00:00')): Timedelta('0 days 00:40:00'),\n",
       " (Timestamp('2024-06-03 02:21:00'),\n",
       "  Timestamp('2024-06-03 03:00:00')): Timedelta('0 days 00:39:00'),\n",
       " (Timestamp('2024-06-03 03:01:00'),\n",
       "  Timestamp('2024-06-03 04:00:00')): Timedelta('0 days 00:59:00'),\n",
       " (Timestamp('2024-06-03 15:41:00'),\n",
       "  Timestamp('2024-06-03 16:00:00')): Timedelta('0 days 00:19:00'),\n",
       " (Timestamp('2024-06-06 22:07:00'),\n",
       "  Timestamp('2024-06-06 23:00:00')): Timedelta('0 days 00:53:00')}"
      ]
     },
     "execution_count": 230,
     "metadata": {},
     "output_type": "execute_result"
    }
   ],
   "source": [
    "length = {}\n",
    "for start, end in start_end.items():\n",
    "    length[(start, end)] = pd.to_datetime(end) - pd.to_datetime(start)\n",
    "print(len(length))\n",
    "length"
   ]
  },
  {
   "cell_type": "code",
   "execution_count": 232,
   "id": "88773d7c-1b3a-4a5a-b6a7-8c72ed00b758",
   "metadata": {
    "tags": []
   },
   "outputs": [
    {
     "name": "stdout",
     "output_type": "stream",
     "text": [
      "1\n"
     ]
    }
   ],
   "source": [
    "na_data = {}\n",
    "for key, duration in length.items():\n",
    "    if duration > pd.Timedelta(hours=1):\n",
    "        na_data[key] = duration\n",
    "print(len(na_data))"
   ]
  },
  {
   "cell_type": "code",
   "execution_count": 234,
   "id": "05e63ad1-5965-477a-ab0e-42fe14636d13",
   "metadata": {
    "tags": []
   },
   "outputs": [
    {
     "data": {
      "text/plain": [
       "{(Timestamp('2024-01-01 01:00:00'),\n",
       "  Timestamp('2024-01-24 15:22:00')): Timedelta('23 days 14:22:00')}"
      ]
     },
     "execution_count": 234,
     "metadata": {},
     "output_type": "execute_result"
    }
   ],
   "source": [
    "na_data"
   ]
  },
  {
   "cell_type": "code",
   "execution_count": 236,
   "id": "c2d8552d-c366-4309-9a56-7e3db26a6d79",
   "metadata": {
    "tags": []
   },
   "outputs": [
    {
     "name": "stdout",
     "output_type": "stream",
     "text": [
      "(3395, 10)\n"
     ]
    }
   ],
   "source": [
    "new_df = df[df['dt'] >= \"2024-01-24 14:06:00.000\"]\n",
    "print(new_df.shape)"
   ]
  },
  {
   "cell_type": "code",
   "execution_count": 238,
   "id": "e0f0e008-28b3-4110-89a1-0f781ce85caa",
   "metadata": {
    "tags": []
   },
   "outputs": [
    {
     "data": {
      "text/html": [
       "<div>\n",
       "<style scoped>\n",
       "    .dataframe tbody tr th:only-of-type {\n",
       "        vertical-align: middle;\n",
       "    }\n",
       "\n",
       "    .dataframe tbody tr th {\n",
       "        vertical-align: top;\n",
       "    }\n",
       "\n",
       "    .dataframe thead th {\n",
       "        text-align: right;\n",
       "    }\n",
       "</style>\n",
       "<table border=\"1\" class=\"dataframe\">\n",
       "  <thead>\n",
       "    <tr style=\"text-align: right;\">\n",
       "      <th></th>\n",
       "      <th>dt</th>\n",
       "      <th>FEX_004</th>\n",
       "      <th>FSB_095DR</th>\n",
       "      <th>FSB_078</th>\n",
       "      <th>FSB_126</th>\n",
       "      <th>FSB_130D</th>\n",
       "      <th>FPZ_06A</th>\n",
       "      <th>FSB_079</th>\n",
       "      <th>FPZ_04A</th>\n",
       "      <th>FSB_097D</th>\n",
       "    </tr>\n",
       "  </thead>\n",
       "  <tbody>\n",
       "    <tr>\n",
       "      <th>4353</th>\n",
       "      <td>2024-01-24 14:06:00</td>\n",
       "      <td>NaN</td>\n",
       "      <td>NaN</td>\n",
       "      <td>NaN</td>\n",
       "      <td>4.390264</td>\n",
       "      <td>NaN</td>\n",
       "      <td>NaN</td>\n",
       "      <td>NaN</td>\n",
       "      <td>NaN</td>\n",
       "      <td>NaN</td>\n",
       "    </tr>\n",
       "    <tr>\n",
       "      <th>4354</th>\n",
       "      <td>2024-01-24 14:42:00</td>\n",
       "      <td>NaN</td>\n",
       "      <td>NaN</td>\n",
       "      <td>NaN</td>\n",
       "      <td>NaN</td>\n",
       "      <td>NaN</td>\n",
       "      <td>NaN</td>\n",
       "      <td>7.768566</td>\n",
       "      <td>NaN</td>\n",
       "      <td>NaN</td>\n",
       "    </tr>\n",
       "    <tr>\n",
       "      <th>4355</th>\n",
       "      <td>2024-01-24 15:00:00</td>\n",
       "      <td>4.199255</td>\n",
       "      <td>4.335871</td>\n",
       "      <td>NaN</td>\n",
       "      <td>4.390036</td>\n",
       "      <td>4.335593</td>\n",
       "      <td>NaN</td>\n",
       "      <td>7.767843</td>\n",
       "      <td>NaN</td>\n",
       "      <td>3.997356</td>\n",
       "    </tr>\n",
       "    <tr>\n",
       "      <th>4356</th>\n",
       "      <td>2024-01-24 15:22:00</td>\n",
       "      <td>NaN</td>\n",
       "      <td>NaN</td>\n",
       "      <td>4.335450</td>\n",
       "      <td>NaN</td>\n",
       "      <td>NaN</td>\n",
       "      <td>NaN</td>\n",
       "      <td>NaN</td>\n",
       "      <td>NaN</td>\n",
       "      <td>NaN</td>\n",
       "    </tr>\n",
       "    <tr>\n",
       "      <th>4357</th>\n",
       "      <td>2024-01-24 16:00:00</td>\n",
       "      <td>4.199346</td>\n",
       "      <td>4.335111</td>\n",
       "      <td>4.331754</td>\n",
       "      <td>4.390786</td>\n",
       "      <td>4.334991</td>\n",
       "      <td>NaN</td>\n",
       "      <td>7.768126</td>\n",
       "      <td>7.497128</td>\n",
       "      <td>3.996470</td>\n",
       "    </tr>\n",
       "  </tbody>\n",
       "</table>\n",
       "</div>"
      ],
      "text/plain": [
       "                      dt   FEX_004  FSB_095DR   FSB_078   FSB_126  FSB_130D  \\\n",
       "4353 2024-01-24 14:06:00       NaN        NaN       NaN  4.390264       NaN   \n",
       "4354 2024-01-24 14:42:00       NaN        NaN       NaN       NaN       NaN   \n",
       "4355 2024-01-24 15:00:00  4.199255   4.335871       NaN  4.390036  4.335593   \n",
       "4356 2024-01-24 15:22:00       NaN        NaN  4.335450       NaN       NaN   \n",
       "4357 2024-01-24 16:00:00  4.199346   4.335111  4.331754  4.390786  4.334991   \n",
       "\n",
       "      FPZ_06A   FSB_079   FPZ_04A  FSB_097D  \n",
       "4353      NaN       NaN       NaN       NaN  \n",
       "4354      NaN  7.768566       NaN       NaN  \n",
       "4355      NaN  7.767843       NaN  3.997356  \n",
       "4356      NaN       NaN       NaN       NaN  \n",
       "4357      NaN  7.768126  7.497128  3.996470  "
      ]
     },
     "execution_count": 238,
     "metadata": {},
     "output_type": "execute_result"
    }
   ],
   "source": [
    "new_df.head()"
   ]
  },
  {
   "cell_type": "code",
   "execution_count": 240,
   "id": "0a239421-4030-4fb5-9a09-1149675f21e9",
   "metadata": {
    "tags": []
   },
   "outputs": [
    {
     "data": {
      "text/plain": [
       "dt             0\n",
       "FEX_004       24\n",
       "FSB_095DR     24\n",
       "FSB_078       24\n",
       "FSB_126       34\n",
       "FSB_130D      24\n",
       "FPZ_06A       27\n",
       "FSB_079       23\n",
       "FPZ_04A       25\n",
       "FSB_097D     189\n",
       "dtype: int64"
      ]
     },
     "execution_count": 240,
     "metadata": {},
     "output_type": "execute_result"
    }
   ],
   "source": [
    "new_df.isna().sum()"
   ]
  },
  {
   "cell_type": "code",
   "execution_count": 242,
   "id": "2b2af4a1-7488-48b7-b2d4-eb835bbd0e96",
   "metadata": {
    "tags": []
   },
   "outputs": [
    {
     "data": {
      "text/plain": [
       "['FEX_004',\n",
       " 'FSB_095DR',\n",
       " 'FSB_078',\n",
       " 'FSB_126',\n",
       " 'FSB_130D',\n",
       " 'FPZ_06A',\n",
       " 'FSB_079',\n",
       " 'FPZ_04A',\n",
       " 'FSB_097D']"
      ]
     },
     "execution_count": 242,
     "metadata": {},
     "output_type": "execute_result"
    }
   ],
   "source": [
    "df_interpolate = new_df.copy()\n",
    "cols"
   ]
  },
  {
   "cell_type": "code",
   "execution_count": 244,
   "id": "192952fd-93aa-463b-9f40-ae878c22ad18",
   "metadata": {
    "tags": []
   },
   "outputs": [],
   "source": [
    "for col in cols:\n",
    "    df_interpolate[col] = df_interpolate[col].interpolate()"
   ]
  },
  {
   "cell_type": "code",
   "execution_count": 246,
   "id": "7a781d32-7f42-44e9-ad6e-b691bee0d87d",
   "metadata": {
    "tags": []
   },
   "outputs": [
    {
     "data": {
      "text/plain": [
       "dt           0\n",
       "FEX_004      2\n",
       "FSB_095DR    2\n",
       "FSB_078      3\n",
       "FSB_126      0\n",
       "FSB_130D     2\n",
       "FPZ_06A      6\n",
       "FSB_079      1\n",
       "FPZ_04A      4\n",
       "FSB_097D     2\n",
       "dtype: int64"
      ]
     },
     "execution_count": 246,
     "metadata": {},
     "output_type": "execute_result"
    }
   ],
   "source": [
    "df_interpolate.isna().sum()"
   ]
  },
  {
   "cell_type": "code",
   "execution_count": 248,
   "id": "f75e09cf-8dfd-4271-ac9d-d88881e75fe8",
   "metadata": {
    "tags": []
   },
   "outputs": [
    {
     "data": {
      "text/plain": [
       "(3395, 9)"
      ]
     },
     "execution_count": 248,
     "metadata": {},
     "output_type": "execute_result"
    }
   ],
   "source": [
    "test_df = df_interpolate.drop(columns = [\"dt\"])\n",
    "test_df.shape"
   ]
  },
  {
   "cell_type": "code",
   "execution_count": 250,
   "id": "7bd14db9-912a-4aa7-92de-377b969105b9",
   "metadata": {
    "tags": []
   },
   "outputs": [],
   "source": [
    "test_df = test_df.dropna()"
   ]
  },
  {
   "cell_type": "code",
   "execution_count": 252,
   "id": "e03b8c8f-a2f0-4ec0-b711-4a402f623273",
   "metadata": {
    "tags": []
   },
   "outputs": [
    {
     "name": "stdout",
     "output_type": "stream",
     "text": [
      "(3389, 9)\n"
     ]
    },
    {
     "data": {
      "text/plain": [
       "FEX_004      0\n",
       "FSB_095DR    0\n",
       "FSB_078      0\n",
       "FSB_126      0\n",
       "FSB_130D     0\n",
       "FPZ_06A      0\n",
       "FSB_079      0\n",
       "FPZ_04A      0\n",
       "FSB_097D     0\n",
       "dtype: int64"
      ]
     },
     "execution_count": 252,
     "metadata": {},
     "output_type": "execute_result"
    }
   ],
   "source": [
    "print(test_df.shape)\n",
    "test_df.isna().sum()"
   ]
  },
  {
   "cell_type": "code",
   "execution_count": 254,
   "id": "cea7a943-2ff5-41ea-aa85-1f1db0ce7ec3",
   "metadata": {
    "tags": []
   },
   "outputs": [],
   "source": [
    "scaler = StandardScaler()\n",
    "normalized_df = scaler.fit_transform(test_df)"
   ]
  },
  {
   "cell_type": "code",
   "execution_count": 256,
   "id": "ecc32386-6576-4ffd-8ef3-32354ae435e6",
   "metadata": {
    "tags": []
   },
   "outputs": [
    {
     "data": {
      "text/plain": [
       "(3389, 9)"
      ]
     },
     "execution_count": 256,
     "metadata": {},
     "output_type": "execute_result"
    }
   ],
   "source": [
    "normalized_df.shape"
   ]
  },
  {
   "cell_type": "code",
   "execution_count": 277,
   "id": "32f55f73-f42a-4810-9b29-1bb4da79c34c",
   "metadata": {
    "tags": []
   },
   "outputs": [],
   "source": [
    "tensor_data = torch.tensor(normalized_df, dtype=torch.float32)\n",
    "\n",
    "dataset = TensorDataset(tensor_data, tensor_data)\n",
    "dataloader = DataLoader(dataset, batch_size = 64, shuffle = True)"
   ]
  },
  {
   "cell_type": "code",
   "execution_count": 281,
   "id": "9d40f5a9-5231-4042-99a5-07ba055487f6",
   "metadata": {
    "tags": []
   },
   "outputs": [],
   "source": [
    "class Autoencoder(nn.Module):\n",
    "    def __init__(self, input_dim):\n",
    "        super(Autoencoder, self).__init__()\n",
    "        #encoder\n",
    "        self.encoder = nn.Sequential(\n",
    "            nn.Linear(input_dim, 7),  \n",
    "            nn.ReLU(),\n",
    "            nn.Linear(7, 5),        \n",
    "            nn.ReLU(),\n",
    "            nn.Linear(5, 3),        \n",
    "            nn.ReLU(),\n",
    "        )\n",
    "        \n",
    "        # Decoder\n",
    "        self.decoder = nn.Sequential(\n",
    "            nn.Linear(3, 5),         \n",
    "            nn.ReLU(),\n",
    "            nn.Linear(5, 7),        \n",
    "            nn.ReLU(),\n",
    "            nn.Linear(7, input_dim), \n",
    "            nn.Sigmoid()               \n",
    "        )\n",
    "\n",
    "    def forward(self, x):\n",
    "        x = self.encoder(x)\n",
    "        x = self.decoder(x)\n",
    "        return x"
   ]
  },
  {
   "cell_type": "code",
   "execution_count": 283,
   "id": "e36b7c3c-34b5-4cf9-8774-71d5a20960cd",
   "metadata": {
    "tags": []
   },
   "outputs": [],
   "source": [
    "input_dim = normalized_df.shape[1]\n",
    "model = Autoencoder(input_dim)\n",
    "criterion = nn.MSELoss()\n",
    "optimizer = optim.Adam(model.parameters(), lr = 0.001)"
   ]
  },
  {
   "cell_type": "code",
   "execution_count": 285,
   "id": "0382f92d-3fe1-4a8a-a257-f29fe85da3f1",
   "metadata": {
    "tags": []
   },
   "outputs": [
    {
     "name": "stdout",
     "output_type": "stream",
     "text": [
      "Epoch [1/100], Loss: 1.2930\n",
      "Epoch [2/100], Loss: 1.2097\n",
      "Epoch [3/100], Loss: 1.2419\n",
      "Epoch [4/100], Loss: 1.0916\n",
      "Epoch [5/100], Loss: 0.8198\n",
      "Epoch [6/100], Loss: 0.8240\n",
      "Epoch [7/100], Loss: 0.8026\n",
      "Epoch [8/100], Loss: 0.7442\n",
      "Epoch [9/100], Loss: 0.7338\n",
      "Epoch [10/100], Loss: 0.7305\n",
      "Epoch [11/100], Loss: 0.6967\n",
      "Epoch [12/100], Loss: 0.7431\n",
      "Epoch [13/100], Loss: 0.7818\n",
      "Epoch [14/100], Loss: 0.8588\n",
      "Epoch [15/100], Loss: 0.7150\n",
      "Epoch [16/100], Loss: 0.7396\n",
      "Epoch [17/100], Loss: 0.6122\n",
      "Epoch [18/100], Loss: 0.6983\n",
      "Epoch [19/100], Loss: 0.7232\n",
      "Epoch [20/100], Loss: 0.7333\n",
      "Epoch [21/100], Loss: 0.6690\n",
      "Epoch [22/100], Loss: 0.6389\n",
      "Epoch [23/100], Loss: 0.7296\n",
      "Epoch [24/100], Loss: 0.7065\n",
      "Epoch [25/100], Loss: 0.7236\n",
      "Epoch [26/100], Loss: 0.7249\n",
      "Epoch [27/100], Loss: 0.6560\n",
      "Epoch [28/100], Loss: 0.7418\n",
      "Epoch [29/100], Loss: 0.6226\n",
      "Epoch [30/100], Loss: 0.7183\n",
      "Epoch [31/100], Loss: 0.6815\n",
      "Epoch [32/100], Loss: 0.6954\n",
      "Epoch [33/100], Loss: 0.7509\n",
      "Epoch [34/100], Loss: 0.6324\n",
      "Epoch [35/100], Loss: 0.5992\n",
      "Epoch [36/100], Loss: 0.6746\n",
      "Epoch [37/100], Loss: 0.5784\n",
      "Epoch [38/100], Loss: 0.6626\n",
      "Epoch [39/100], Loss: 0.6100\n",
      "Epoch [40/100], Loss: 0.6150\n",
      "Epoch [41/100], Loss: 0.6138\n",
      "Epoch [42/100], Loss: 0.5536\n",
      "Epoch [43/100], Loss: 0.4957\n",
      "Epoch [44/100], Loss: 0.5709\n",
      "Epoch [45/100], Loss: 0.8299\n",
      "Epoch [46/100], Loss: 0.5465\n",
      "Epoch [47/100], Loss: 0.7468\n",
      "Epoch [48/100], Loss: 0.6132\n",
      "Epoch [49/100], Loss: 0.6073\n",
      "Epoch [50/100], Loss: 0.5638\n",
      "Epoch [51/100], Loss: 0.6096\n",
      "Epoch [52/100], Loss: 0.7718\n",
      "Epoch [53/100], Loss: 0.5846\n",
      "Epoch [54/100], Loss: 0.6224\n",
      "Epoch [55/100], Loss: 0.6394\n",
      "Epoch [56/100], Loss: 0.6579\n",
      "Epoch [57/100], Loss: 0.6098\n",
      "Epoch [58/100], Loss: 0.6028\n",
      "Epoch [59/100], Loss: 0.6719\n",
      "Epoch [60/100], Loss: 0.5471\n",
      "Epoch [61/100], Loss: 0.5817\n",
      "Epoch [62/100], Loss: 0.8337\n",
      "Epoch [63/100], Loss: 0.6778\n",
      "Epoch [64/100], Loss: 0.6353\n",
      "Epoch [65/100], Loss: 0.7374\n",
      "Epoch [66/100], Loss: 0.6784\n",
      "Epoch [67/100], Loss: 0.6290\n",
      "Epoch [68/100], Loss: 0.5763\n",
      "Epoch [69/100], Loss: 0.5905\n",
      "Epoch [70/100], Loss: 0.6825\n",
      "Epoch [71/100], Loss: 0.5462\n",
      "Epoch [72/100], Loss: 0.7815\n",
      "Epoch [73/100], Loss: 0.6134\n",
      "Epoch [74/100], Loss: 0.6336\n",
      "Epoch [75/100], Loss: 0.6883\n",
      "Epoch [76/100], Loss: 0.6161\n",
      "Epoch [77/100], Loss: 0.7296\n",
      "Epoch [78/100], Loss: 0.6569\n",
      "Epoch [79/100], Loss: 0.5972\n",
      "Epoch [80/100], Loss: 0.6191\n",
      "Epoch [81/100], Loss: 0.6338\n",
      "Epoch [82/100], Loss: 0.6437\n",
      "Epoch [83/100], Loss: 0.6329\n",
      "Epoch [84/100], Loss: 0.5597\n",
      "Epoch [85/100], Loss: 0.7720\n",
      "Epoch [86/100], Loss: 0.5920\n",
      "Epoch [87/100], Loss: 0.7489\n",
      "Epoch [88/100], Loss: 0.6384\n",
      "Epoch [89/100], Loss: 0.6531\n",
      "Epoch [90/100], Loss: 0.5309\n",
      "Epoch [91/100], Loss: 0.6072\n",
      "Epoch [92/100], Loss: 0.6856\n",
      "Epoch [93/100], Loss: 0.6807\n",
      "Epoch [94/100], Loss: 0.5981\n",
      "Epoch [95/100], Loss: 0.6751\n",
      "Epoch [96/100], Loss: 0.5823\n",
      "Epoch [97/100], Loss: 0.5725\n",
      "Epoch [98/100], Loss: 0.6392\n",
      "Epoch [99/100], Loss: 0.6598\n",
      "Epoch [100/100], Loss: 0.5980\n"
     ]
    }
   ],
   "source": [
    "num_epochs = 100\n",
    "losses = []\n",
    "for epoch in range(num_epochs):\n",
    "    for data in dataloader:\n",
    "        inputs, _ = data\n",
    "        \n",
    "        \n",
    "        # Forward pass\n",
    "        outputs = model(inputs)\n",
    "        loss = criterion(outputs, inputs)\n",
    "\n",
    "        # Backward pass\n",
    "        optimizer.zero_grad()\n",
    "        loss.backward()\n",
    "        optimizer.step()\n",
    "        \n",
    "    #appending the error to the losses array\n",
    "    losses.append(loss.item())\n",
    "\n",
    "    print(f'Epoch [{epoch+1}/{num_epochs}], Loss: {loss.item():.4f}')"
   ]
  },
  {
   "cell_type": "code",
   "execution_count": 288,
   "id": "4d6abd9f-476e-4fc4-803a-835a97e68143",
   "metadata": {
    "tags": []
   },
   "outputs": [
    {
     "name": "stdout",
     "output_type": "stream",
     "text": [
      "3389\n"
     ]
    }
   ],
   "source": [
    "model.eval()\n",
    "with torch.no_grad():\n",
    "    reconstructed_data = model(tensor_data)\n",
    "    reconstruction_error = torch.mean((tensor_data - reconstructed_data) ** 2, axis=1).numpy()\n",
    "print(len(reconstruction_error))"
   ]
  },
  {
   "cell_type": "code",
   "execution_count": 294,
   "id": "fb4e727d-f9d4-4ff9-b437-9dff5cfe83a4",
   "metadata": {
    "tags": []
   },
   "outputs": [
    {
     "data": {
      "text/plain": [
       "1.5951984524726868"
      ]
     },
     "execution_count": 294,
     "metadata": {},
     "output_type": "execute_result"
    }
   ],
   "source": [
    "threshold = np.mean(reconstruction_error) + 2 * np.std(reconstruction_error)\n",
    "threshold"
   ]
  },
  {
   "cell_type": "code",
   "execution_count": 300,
   "id": "987cd771-ae88-4ed5-915a-890c7916fbbb",
   "metadata": {
    "tags": []
   },
   "outputs": [
    {
     "name": "stdout",
     "output_type": "stream",
     "text": [
      "Number of anomalies detected: 249\n"
     ]
    }
   ],
   "source": [
    "anomalies = reconstruction_error > threshold\n",
    "print(f'Number of anomalies detected: {np.sum(anomalies)}')"
   ]
  },
  {
   "cell_type": "code",
   "execution_count": null,
   "id": "d0839a01-d1d1-4ae1-9433-106b9535bf21",
   "metadata": {},
   "outputs": [],
   "source": []
  }
 ],
 "metadata": {
  "kernelspec": {
   "display_name": "Python 3 (ipykernel)",
   "language": "python",
   "name": "python3"
  },
  "language_info": {
   "codemirror_mode": {
    "name": "ipython",
    "version": 3
   },
   "file_extension": ".py",
   "mimetype": "text/x-python",
   "name": "python",
   "nbconvert_exporter": "python",
   "pygments_lexer": "ipython3",
   "version": "3.11.5"
  }
 },
 "nbformat": 4,
 "nbformat_minor": 5
}

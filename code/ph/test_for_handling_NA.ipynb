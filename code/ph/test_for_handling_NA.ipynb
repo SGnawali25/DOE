{
 "cells": [
  {
   "cell_type": "code",
   "execution_count": 164,
   "id": "f75d9f89-6324-4cf1-b854-6143551062a8",
   "metadata": {
    "tags": []
   },
   "outputs": [],
   "source": [
    "import pandas as pd\n",
    "import numpy as np\n",
    "from matplotlib import pyplot as plt\n",
    "from sklearn.preprocessing import StandardScaler\n",
    "from sklearn.impute import KNNImputer\n",
    "import torch\n",
    "import torch.nn as nn\n",
    "import torch.optim as optim\n",
    "from torch.utils.data import DataLoader, TensorDataset"
   ]
  },
  {
   "cell_type": "code",
   "execution_count": 166,
   "id": "a8eb3e18-5309-4514-b4b5-1dd0d479d5cf",
   "metadata": {
    "tags": []
   },
   "outputs": [
    {
     "data": {
      "text/plain": [
       "{'FPZ_04A': 0,\n",
       " 'FSB_126': 1,\n",
       " 'FSB_079': 2,\n",
       " 'FPZ_06A': 3,\n",
       " 'FEX_004': 4,\n",
       " 'FSB_078': 5,\n",
       " 'FSB_097D': 6,\n",
       " 'FSB_130D': 7,\n",
       " 'FSB_095DR': 8}"
      ]
     },
     "execution_count": 166,
     "metadata": {},
     "output_type": "execute_result"
    }
   ],
   "source": [
    "# all the unique station in the provided dataset\n",
    "unique_stations = ['FPZ_04A', 'FSB_126', 'FSB_079', 'FPZ_06A', 'FEX_004', 'FSB_078',\n",
    "       'FSB_097D', 'FSB_130D', 'FSB_095DR']\n",
    "finder = {}\n",
    "for index, val in enumerate(unique_stations):\n",
    "    finder[val]= index\n",
    "\n",
    "finder"
   ]
  },
  {
   "cell_type": "code",
   "execution_count": 168,
   "id": "55f0e618-a1ca-4bf3-a8fd-9967cb3c0141",
   "metadata": {
    "tags": []
   },
   "outputs": [
    {
     "name": "stdout",
     "output_type": "stream",
     "text": [
      "(16789, 17)\n"
     ]
    }
   ],
   "source": [
    "index = 4\n",
    "df = pd.read_csv(f\"../data/{unique_stations[index]}.csv\")\n",
    "df = df.drop(columns = [\"station_id\",\"pH MV (mV)\", \"easting\", \"northing\"])\n",
    "print(df.shape)"
   ]
  },
  {
   "cell_type": "code",
   "execution_count": 170,
   "id": "087a75ce-ad7a-45f7-83fd-ccd080b10fcd",
   "metadata": {
    "tags": []
   },
   "outputs": [
    {
     "data": {
      "text/plain": [
       "Date Time                            0\n",
       "Actual Conductivity (ÂµS/cm)      9398\n",
       "Specific Conductivity (ÂµS/cm)    9306\n",
       "Salinity (psu)                    1307\n",
       "Resistivity (â„¦-cm)              9398\n",
       "Density (g/cmÂ³)                  9398\n",
       "Total Dissolved Solids (mg/L)     1307\n",
       "pH (pH)                           1215\n",
       "ORP (mV)                          8134\n",
       "DO (mg/L)                         8134\n",
       "% Saturation Oâ‚‚ (% sat)           88\n",
       "Partial Pressure Oâ‚‚ (psi)        135\n",
       "Temperature (C)                   8134\n",
       "External Voltage (V)              8226\n",
       "Pressure (psi)                    8143\n",
       "Depth (m)                         8091\n",
       "Level: Depth to Water (m)         8226\n",
       "dtype: int64"
      ]
     },
     "execution_count": 170,
     "metadata": {},
     "output_type": "execute_result"
    }
   ],
   "source": [
    "df.isna().sum()"
   ]
  },
  {
   "cell_type": "code",
   "execution_count": 172,
   "id": "d1415887-1954-42c3-a95d-80e2a550a4ef",
   "metadata": {
    "tags": []
   },
   "outputs": [
    {
     "data": {
      "text/html": [
       "<div>\n",
       "<style scoped>\n",
       "    .dataframe tbody tr th:only-of-type {\n",
       "        vertical-align: middle;\n",
       "    }\n",
       "\n",
       "    .dataframe tbody tr th {\n",
       "        vertical-align: top;\n",
       "    }\n",
       "\n",
       "    .dataframe thead th {\n",
       "        text-align: right;\n",
       "    }\n",
       "</style>\n",
       "<table border=\"1\" class=\"dataframe\">\n",
       "  <thead>\n",
       "    <tr style=\"text-align: right;\">\n",
       "      <th></th>\n",
       "      <th>Date Time</th>\n",
       "      <th>Actual Conductivity (ÂµS/cm)</th>\n",
       "      <th>Specific Conductivity (ÂµS/cm)</th>\n",
       "      <th>Salinity (psu)</th>\n",
       "      <th>Resistivity (â„¦-cm)</th>\n",
       "      <th>Density (g/cmÂ³)</th>\n",
       "      <th>Total Dissolved Solids (mg/L)</th>\n",
       "      <th>pH (pH)</th>\n",
       "      <th>ORP (mV)</th>\n",
       "      <th>DO (mg/L)</th>\n",
       "      <th>% Saturation Oâ‚‚ (% sat)</th>\n",
       "      <th>Partial Pressure Oâ‚‚ (psi)</th>\n",
       "      <th>Temperature (C)</th>\n",
       "      <th>External Voltage (V)</th>\n",
       "      <th>Pressure (psi)</th>\n",
       "      <th>Depth (m)</th>\n",
       "      <th>Level: Depth to Water (m)</th>\n",
       "    </tr>\n",
       "  </thead>\n",
       "  <tbody>\n",
       "    <tr>\n",
       "      <th>0</th>\n",
       "      <td>1.667432e+12</td>\n",
       "      <td>NaN</td>\n",
       "      <td>104.971634</td>\n",
       "      <td>NaN</td>\n",
       "      <td>NaN</td>\n",
       "      <td>NaN</td>\n",
       "      <td>NaN</td>\n",
       "      <td>3.820060</td>\n",
       "      <td>316.683624</td>\n",
       "      <td>7.149662</td>\n",
       "      <td>77.868912</td>\n",
       "      <td>NaN</td>\n",
       "      <td>19.612864</td>\n",
       "      <td>NaN</td>\n",
       "      <td>-6.596952</td>\n",
       "      <td>-4.446477</td>\n",
       "      <td>NaN</td>\n",
       "    </tr>\n",
       "    <tr>\n",
       "      <th>1</th>\n",
       "      <td>1.667434e+12</td>\n",
       "      <td>NaN</td>\n",
       "      <td>98.305702</td>\n",
       "      <td>NaN</td>\n",
       "      <td>NaN</td>\n",
       "      <td>NaN</td>\n",
       "      <td>NaN</td>\n",
       "      <td>3.639982</td>\n",
       "      <td>336.763245</td>\n",
       "      <td>7.813544</td>\n",
       "      <td>84.736748</td>\n",
       "      <td>NaN</td>\n",
       "      <td>19.381102</td>\n",
       "      <td>NaN</td>\n",
       "      <td>-6.578016</td>\n",
       "      <td>-4.433165</td>\n",
       "      <td>NaN</td>\n",
       "    </tr>\n",
       "    <tr>\n",
       "      <th>2</th>\n",
       "      <td>1.667437e+12</td>\n",
       "      <td>NaN</td>\n",
       "      <td>90.983818</td>\n",
       "      <td>NaN</td>\n",
       "      <td>NaN</td>\n",
       "      <td>NaN</td>\n",
       "      <td>NaN</td>\n",
       "      <td>3.688626</td>\n",
       "      <td>344.089844</td>\n",
       "      <td>8.075914</td>\n",
       "      <td>87.461166</td>\n",
       "      <td>NaN</td>\n",
       "      <td>19.311159</td>\n",
       "      <td>NaN</td>\n",
       "      <td>-6.580556</td>\n",
       "      <td>-4.434970</td>\n",
       "      <td>NaN</td>\n",
       "    </tr>\n",
       "    <tr>\n",
       "      <th>3</th>\n",
       "      <td>1.667441e+12</td>\n",
       "      <td>NaN</td>\n",
       "      <td>85.517105</td>\n",
       "      <td>NaN</td>\n",
       "      <td>NaN</td>\n",
       "      <td>NaN</td>\n",
       "      <td>NaN</td>\n",
       "      <td>4.025599</td>\n",
       "      <td>329.548676</td>\n",
       "      <td>8.071102</td>\n",
       "      <td>87.398293</td>\n",
       "      <td>NaN</td>\n",
       "      <td>19.290155</td>\n",
       "      <td>NaN</td>\n",
       "      <td>-6.576590</td>\n",
       "      <td>-4.432182</td>\n",
       "      <td>NaN</td>\n",
       "    </tr>\n",
       "    <tr>\n",
       "      <th>4</th>\n",
       "      <td>1.667444e+12</td>\n",
       "      <td>NaN</td>\n",
       "      <td>83.876556</td>\n",
       "      <td>NaN</td>\n",
       "      <td>NaN</td>\n",
       "      <td>NaN</td>\n",
       "      <td>NaN</td>\n",
       "      <td>4.054065</td>\n",
       "      <td>331.944794</td>\n",
       "      <td>8.030844</td>\n",
       "      <td>86.932510</td>\n",
       "      <td>NaN</td>\n",
       "      <td>19.276480</td>\n",
       "      <td>NaN</td>\n",
       "      <td>-6.574686</td>\n",
       "      <td>-4.430809</td>\n",
       "      <td>NaN</td>\n",
       "    </tr>\n",
       "  </tbody>\n",
       "</table>\n",
       "</div>"
      ],
      "text/plain": [
       "      Date Time  Actual Conductivity (ÂµS/cm)  Specific Conductivity (ÂµS/cm)  \\\n",
       "0  1.667432e+12                           NaN                      104.971634   \n",
       "1  1.667434e+12                           NaN                       98.305702   \n",
       "2  1.667437e+12                           NaN                       90.983818   \n",
       "3  1.667441e+12                           NaN                       85.517105   \n",
       "4  1.667444e+12                           NaN                       83.876556   \n",
       "\n",
       "   Salinity (psu)  Resistivity (â„¦-cm)  Density (g/cmÂ³)  \\\n",
       "0             NaN                   NaN               NaN   \n",
       "1             NaN                   NaN               NaN   \n",
       "2             NaN                   NaN               NaN   \n",
       "3             NaN                   NaN               NaN   \n",
       "4             NaN                   NaN               NaN   \n",
       "\n",
       "   Total Dissolved Solids (mg/L)   pH (pH)    ORP (mV)  DO (mg/L)  \\\n",
       "0                            NaN  3.820060  316.683624   7.149662   \n",
       "1                            NaN  3.639982  336.763245   7.813544   \n",
       "2                            NaN  3.688626  344.089844   8.075914   \n",
       "3                            NaN  4.025599  329.548676   8.071102   \n",
       "4                            NaN  4.054065  331.944794   8.030844   \n",
       "\n",
       "   % Saturation Oâ‚‚ (% sat)  Partial Pressure Oâ‚‚ (psi)  Temperature (C)  \\\n",
       "0                  77.868912                          NaN        19.612864   \n",
       "1                  84.736748                          NaN        19.381102   \n",
       "2                  87.461166                          NaN        19.311159   \n",
       "3                  87.398293                          NaN        19.290155   \n",
       "4                  86.932510                          NaN        19.276480   \n",
       "\n",
       "   External Voltage (V)  Pressure (psi)  Depth (m)  Level: Depth to Water (m)  \n",
       "0                   NaN       -6.596952  -4.446477                        NaN  \n",
       "1                   NaN       -6.578016  -4.433165                        NaN  \n",
       "2                   NaN       -6.580556  -4.434970                        NaN  \n",
       "3                   NaN       -6.576590  -4.432182                        NaN  \n",
       "4                   NaN       -6.574686  -4.430809                        NaN  "
      ]
     },
     "execution_count": 172,
     "metadata": {},
     "output_type": "execute_result"
    }
   ],
   "source": [
    "df.head()"
   ]
  },
  {
   "cell_type": "code",
   "execution_count": 174,
   "id": "76f397a3-4380-4ae6-96b7-cfaf96c401f6",
   "metadata": {
    "tags": []
   },
   "outputs": [],
   "source": [
    "imputer = KNNImputer(n_neighbors = 5)"
   ]
  },
  {
   "cell_type": "code",
   "execution_count": 176,
   "id": "dd7ce44c-25bb-4178-8916-04ccf4a1f525",
   "metadata": {
    "tags": []
   },
   "outputs": [],
   "source": [
    "df_imputed_scaled = imputer.fit_transform(df)\n",
    "df = pd.DataFrame(df_imputed_scaled)"
   ]
  },
  {
   "cell_type": "code",
   "execution_count": 177,
   "id": "ce0154d7-6d1b-4473-8dbd-242dcf8e32cb",
   "metadata": {},
   "outputs": [
    {
     "data": {
      "text/html": [
       "<div>\n",
       "<style scoped>\n",
       "    .dataframe tbody tr th:only-of-type {\n",
       "        vertical-align: middle;\n",
       "    }\n",
       "\n",
       "    .dataframe tbody tr th {\n",
       "        vertical-align: top;\n",
       "    }\n",
       "\n",
       "    .dataframe thead th {\n",
       "        text-align: right;\n",
       "    }\n",
       "</style>\n",
       "<table border=\"1\" class=\"dataframe\">\n",
       "  <thead>\n",
       "    <tr style=\"text-align: right;\">\n",
       "      <th></th>\n",
       "      <th>0</th>\n",
       "      <th>1</th>\n",
       "      <th>2</th>\n",
       "      <th>3</th>\n",
       "      <th>4</th>\n",
       "      <th>5</th>\n",
       "      <th>6</th>\n",
       "      <th>7</th>\n",
       "      <th>8</th>\n",
       "      <th>9</th>\n",
       "      <th>10</th>\n",
       "      <th>11</th>\n",
       "      <th>12</th>\n",
       "      <th>13</th>\n",
       "      <th>14</th>\n",
       "      <th>15</th>\n",
       "      <th>16</th>\n",
       "    </tr>\n",
       "  </thead>\n",
       "  <tbody>\n",
       "    <tr>\n",
       "      <th>0</th>\n",
       "      <td>1.667432e+12</td>\n",
       "      <td>94.742334</td>\n",
       "      <td>104.971634</td>\n",
       "      <td>0.049923</td>\n",
       "      <td>10554.962891</td>\n",
       "      <td>0.9984</td>\n",
       "      <td>62.49997</td>\n",
       "      <td>3.820060</td>\n",
       "      <td>316.683624</td>\n",
       "      <td>7.149662</td>\n",
       "      <td>77.868912</td>\n",
       "      <td>2.472616</td>\n",
       "      <td>19.612864</td>\n",
       "      <td>15.8076</td>\n",
       "      <td>-6.596952</td>\n",
       "      <td>-4.446477</td>\n",
       "      <td>8.614123</td>\n",
       "    </tr>\n",
       "    <tr>\n",
       "      <th>1</th>\n",
       "      <td>1.667434e+12</td>\n",
       "      <td>94.742334</td>\n",
       "      <td>98.305702</td>\n",
       "      <td>0.049923</td>\n",
       "      <td>10554.962891</td>\n",
       "      <td>0.9984</td>\n",
       "      <td>62.49997</td>\n",
       "      <td>3.639982</td>\n",
       "      <td>336.763245</td>\n",
       "      <td>7.813544</td>\n",
       "      <td>84.736748</td>\n",
       "      <td>2.472616</td>\n",
       "      <td>19.381102</td>\n",
       "      <td>15.8076</td>\n",
       "      <td>-6.578016</td>\n",
       "      <td>-4.433165</td>\n",
       "      <td>8.614123</td>\n",
       "    </tr>\n",
       "    <tr>\n",
       "      <th>2</th>\n",
       "      <td>1.667437e+12</td>\n",
       "      <td>94.742334</td>\n",
       "      <td>90.983818</td>\n",
       "      <td>0.049923</td>\n",
       "      <td>10554.962891</td>\n",
       "      <td>0.9984</td>\n",
       "      <td>62.49997</td>\n",
       "      <td>3.688626</td>\n",
       "      <td>344.089844</td>\n",
       "      <td>8.075914</td>\n",
       "      <td>87.461166</td>\n",
       "      <td>2.472616</td>\n",
       "      <td>19.311159</td>\n",
       "      <td>15.8076</td>\n",
       "      <td>-6.580556</td>\n",
       "      <td>-4.434970</td>\n",
       "      <td>8.614123</td>\n",
       "    </tr>\n",
       "    <tr>\n",
       "      <th>3</th>\n",
       "      <td>1.667441e+12</td>\n",
       "      <td>94.742334</td>\n",
       "      <td>85.517105</td>\n",
       "      <td>0.049923</td>\n",
       "      <td>10554.962891</td>\n",
       "      <td>0.9984</td>\n",
       "      <td>62.49997</td>\n",
       "      <td>4.025599</td>\n",
       "      <td>329.548676</td>\n",
       "      <td>8.071102</td>\n",
       "      <td>87.398293</td>\n",
       "      <td>2.472616</td>\n",
       "      <td>19.290155</td>\n",
       "      <td>15.8076</td>\n",
       "      <td>-6.576590</td>\n",
       "      <td>-4.432182</td>\n",
       "      <td>8.614123</td>\n",
       "    </tr>\n",
       "    <tr>\n",
       "      <th>4</th>\n",
       "      <td>1.667444e+12</td>\n",
       "      <td>94.742334</td>\n",
       "      <td>83.876556</td>\n",
       "      <td>0.049923</td>\n",
       "      <td>10554.962891</td>\n",
       "      <td>0.9984</td>\n",
       "      <td>62.49997</td>\n",
       "      <td>4.054065</td>\n",
       "      <td>331.944794</td>\n",
       "      <td>8.030844</td>\n",
       "      <td>86.932510</td>\n",
       "      <td>2.472616</td>\n",
       "      <td>19.276480</td>\n",
       "      <td>15.8076</td>\n",
       "      <td>-6.574686</td>\n",
       "      <td>-4.430809</td>\n",
       "      <td>8.614123</td>\n",
       "    </tr>\n",
       "  </tbody>\n",
       "</table>\n",
       "</div>"
      ],
      "text/plain": [
       "             0          1           2         3             4       5   \\\n",
       "0  1.667432e+12  94.742334  104.971634  0.049923  10554.962891  0.9984   \n",
       "1  1.667434e+12  94.742334   98.305702  0.049923  10554.962891  0.9984   \n",
       "2  1.667437e+12  94.742334   90.983818  0.049923  10554.962891  0.9984   \n",
       "3  1.667441e+12  94.742334   85.517105  0.049923  10554.962891  0.9984   \n",
       "4  1.667444e+12  94.742334   83.876556  0.049923  10554.962891  0.9984   \n",
       "\n",
       "         6         7           8         9          10        11         12  \\\n",
       "0  62.49997  3.820060  316.683624  7.149662  77.868912  2.472616  19.612864   \n",
       "1  62.49997  3.639982  336.763245  7.813544  84.736748  2.472616  19.381102   \n",
       "2  62.49997  3.688626  344.089844  8.075914  87.461166  2.472616  19.311159   \n",
       "3  62.49997  4.025599  329.548676  8.071102  87.398293  2.472616  19.290155   \n",
       "4  62.49997  4.054065  331.944794  8.030844  86.932510  2.472616  19.276480   \n",
       "\n",
       "        13        14        15        16  \n",
       "0  15.8076 -6.596952 -4.446477  8.614123  \n",
       "1  15.8076 -6.578016 -4.433165  8.614123  \n",
       "2  15.8076 -6.580556 -4.434970  8.614123  \n",
       "3  15.8076 -6.576590 -4.432182  8.614123  \n",
       "4  15.8076 -6.574686 -4.430809  8.614123  "
      ]
     },
     "execution_count": 177,
     "metadata": {},
     "output_type": "execute_result"
    }
   ],
   "source": [
    "df.head()"
   ]
  },
  {
   "cell_type": "code",
   "execution_count": 178,
   "id": "c3bf22b6-1370-48aa-abd2-c22f2cec90b2",
   "metadata": {
    "tags": []
   },
   "outputs": [
    {
     "data": {
      "text/plain": [
       "0     0\n",
       "1     0\n",
       "2     0\n",
       "3     0\n",
       "4     0\n",
       "5     0\n",
       "6     0\n",
       "7     0\n",
       "8     0\n",
       "9     0\n",
       "10    0\n",
       "11    0\n",
       "12    0\n",
       "13    0\n",
       "14    0\n",
       "15    0\n",
       "16    0\n",
       "dtype: int64"
      ]
     },
     "execution_count": 178,
     "metadata": {},
     "output_type": "execute_result"
    }
   ],
   "source": [
    "df.isna().sum()"
   ]
  },
  {
   "cell_type": "code",
   "execution_count": 188,
   "id": "a2329fc8-273a-4867-ac3f-7f7f9cab4061",
   "metadata": {
    "tags": []
   },
   "outputs": [
    {
     "data": {
      "text/plain": [
       "RangeIndex(start=0, stop=17, step=1)"
      ]
     },
     "execution_count": 188,
     "metadata": {},
     "output_type": "execute_result"
    }
   ],
   "source": [
    "df.columns"
   ]
  },
  {
   "cell_type": "code",
   "execution_count": 190,
   "id": "2acdbf28-7503-42a0-bc66-6d802a567581",
   "metadata": {
    "tags": []
   },
   "outputs": [
    {
     "data": {
      "image/png": "[encoded data removed]",
      "text/plain": [
       "<Figure size 1000x600 with 1 Axes>"
      ]
     },
     "metadata": {},
     "output_type": "display_data"
    }
   ],
   "source": [
    "plt.figure(figsize=(10, 6))\n",
    "plt.plot(df[0], df[7], marker='o', color =\"green\")\n",
    "plt.title(f'Station ID: FSB_078')\n",
    "plt.xlabel('Date Time')\n",
    "plt.ylabel('pH (pH)')\n",
    "plt.xticks(rotation=45)\n",
    "plt.grid(True)\n",
    "plt.show()"
   ]
  },
  {
   "cell_type": "code",
   "execution_count": 195,
   "id": "8e57e06a-91fe-4040-899b-f9c1ff03490b",
   "metadata": {
    "tags": []
   },
   "outputs": [],
   "source": [
    "scaler = StandardScaler()"
   ]
  },
  {
   "cell_type": "code",
   "execution_count": 197,
   "id": "6e2f39f0-ab17-4ffe-801f-22157efebbdf",
   "metadata": {
    "tags": []
   },
   "outputs": [],
   "source": [
    "df_scaled = scaler.fit_transform(df)"
   ]
  },
  {
   "cell_type": "code",
   "execution_count": 201,
   "id": "a65a4e17-e2e3-4395-bef8-040c11af6300",
   "metadata": {
    "tags": []
   },
   "outputs": [
    {
     "data": {
      "text/plain": [
       "(16789, 17)"
      ]
     },
     "execution_count": 201,
     "metadata": {},
     "output_type": "execute_result"
    }
   ],
   "source": [
    "df_scaled.shape"
   ]
  },
  {
   "cell_type": "code",
   "execution_count": null,
   "id": "c3d3c17c-fae4-440c-b889-7cef893d3aec",
   "metadata": {},
   "outputs": [],
   "source": []
  }
 ],
 "metadata": {
  "kernelspec": {
   "display_name": "Python 3 (ipykernel)",
   "language": "python",
   "name": "python3"
  },
  "language_info": {
   "codemirror_mode": {
    "name": "ipython",
    "version": 3
   },
   "file_extension": ".py",
   "mimetype": "text/x-python",
   "name": "python",
   "nbconvert_exporter": "python",
   "pygments_lexer": "ipython3",
   "version": "3.11.5"
  }
 },
 "nbformat": 4,
 "nbformat_minor": 5
}

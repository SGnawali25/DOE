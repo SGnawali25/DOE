{
 "cells": [
  {
   "cell_type": "code",
   "execution_count": 85,
   "id": "c4aff5fe-1bcc-4986-ae54-84afaa2b3d5e",
   "metadata": {
    "tags": []
   },
   "outputs": [],
   "source": [
    "import numpy as np\n",
    "import pandas as pd\n",
    "from matplotlib import pyplot as  plt\n",
    "from sklearn.preprocessing import StandardScaler\n",
    "from tensorflow.keras.models import Sequential\n",
    "from tensorflow.keras.layers import Conv2D, MaxPooling2D, Dense, Flatten, Reshape"
   ]
  },
  {
   "cell_type": "code",
   "execution_count": 87,
   "id": "604e4cf7-9387-4f66-929a-6e8332eee8d3",
   "metadata": {
    "tags": []
   },
   "outputs": [],
   "source": [
    "input_df = pd.read_csv(\"../../data/csv_files/df_ph1.csv\")"
   ]
  },
  {
   "cell_type": "code",
   "execution_count": 89,
   "id": "f6b0e7ad-1e49-4c18-a19c-2dd95cb8c3db",
   "metadata": {
    "tags": []
   },
   "outputs": [
    {
     "data": {
      "text/plain": [
       "(7748, 10)"
      ]
     },
     "execution_count": 89,
     "metadata": {},
     "output_type": "execute_result"
    }
   ],
   "source": [
    "input_df.shape"
   ]
  },
  {
   "cell_type": "code",
   "execution_count": 91,
   "id": "d9eca841-b2b5-4e97-94c8-e0081d7aaa01",
   "metadata": {
    "tags": []
   },
   "outputs": [
    {
     "data": {
      "text/plain": [
       "{0: 'FEX_004',\n",
       " 1: 'FSB_095DR',\n",
       " 2: 'FSB_078',\n",
       " 3: 'FSB_126',\n",
       " 4: 'FSB_130D',\n",
       " 5: 'FPZ_06A',\n",
       " 6: 'FSB_079',\n",
       " 7: 'FPZ_04A',\n",
       " 8: 'FSB_097D'}"
      ]
     },
     "execution_count": 91,
     "metadata": {},
     "output_type": "execute_result"
    }
   ],
   "source": [
    "stations_name = list(input_df.columns)\n",
    "stations_name.remove(\"dt\")\n",
    "\n",
    "index_name = {}\n",
    "for i, name in enumerate(stations_name):\n",
    "    index_name[i] = name\n",
    "index_name"
   ]
  },
  {
   "cell_type": "code",
   "execution_count": 93,
   "id": "4c9c1c01-18f1-4598-8ac8-abbd217f55d6",
   "metadata": {
    "tags": []
   },
   "outputs": [],
   "source": [
    "input_df = input_df.interpolate(method=\"linear\")"
   ]
  },
  {
   "cell_type": "code",
   "execution_count": 95,
   "id": "169e96b5-152c-4d32-aa55-10c600d7c623",
   "metadata": {
    "tags": []
   },
   "outputs": [
    {
     "data": {
      "text/plain": [
       "dt           0\n",
       "FEX_004      0\n",
       "FSB_095DR    0\n",
       "FSB_078      0\n",
       "FSB_126      0\n",
       "FSB_130D     0\n",
       "FPZ_06A      0\n",
       "FSB_079      0\n",
       "FPZ_04A      0\n",
       "FSB_097D     0\n",
       "dtype: int64"
      ]
     },
     "execution_count": 95,
     "metadata": {},
     "output_type": "execute_result"
    }
   ],
   "source": [
    "input_df.isna().sum()"
   ]
  },
  {
   "cell_type": "code",
   "execution_count": 97,
   "id": "fe695097-3e2f-48be-bb42-7bf0af7d9eb3",
   "metadata": {
    "tags": []
   },
   "outputs": [
    {
     "data": {
      "text/plain": [
       "(7740, 9)"
      ]
     },
     "execution_count": 97,
     "metadata": {},
     "output_type": "execute_result"
    }
   ],
   "source": [
    "datetime = input_df['dt']\n",
    "df = input_df[8:]\n",
    "datetime = df['dt']\n",
    "df = df.drop(columns = ['dt'])\n",
    "df.shape"
   ]
  },
  {
   "cell_type": "code",
   "execution_count": 99,
   "id": "05b4baef-6cc8-4f8b-92fc-936f6ea9a92b",
   "metadata": {
    "tags": []
   },
   "outputs": [],
   "source": [
    "arr = df.values"
   ]
  },
  {
   "cell_type": "code",
   "execution_count": 101,
   "id": "899c99df-4027-4ff1-bc1d-62d136449baa",
   "metadata": {
    "tags": []
   },
   "outputs": [
    {
     "data": {
      "text/plain": [
       "(7740, 9, 1)"
      ]
     },
     "execution_count": 101,
     "metadata": {},
     "output_type": "execute_result"
    }
   ],
   "source": [
    "reshaped_arr = arr.reshape((7740, 9, 1))\n",
    "reshaped_arr.shape"
   ]
  },
  {
   "cell_type": "code",
   "execution_count": 103,
   "id": "281c7c60-9e19-45f4-810b-3dcbd9727bb4",
   "metadata": {
    "tags": []
   },
   "outputs": [],
   "source": [
    "def create_4d_array(array, window_size, overlap):\n",
    "    step = window_size - overlap\n",
    "    num_rows, num_columns, depth = array.shape\n",
    "    num_windows = (num_rows - window_size) // step + 1\n",
    "\n",
    "    array_4d = np.zeros((num_windows, window_size, num_columns, depth))\n",
    "\n",
    "    count = 0\n",
    "    for i in range(0, num_windows, step):\n",
    "        array_4d[count] = array[i:i+window_size]\n",
    "        count += 1\n",
    "\n",
    "    return array_4d"
   ]
  },
  {
   "cell_type": "code",
   "execution_count": 105,
   "id": "1e1e8706-5697-4707-bbdf-722afea77431",
   "metadata": {
    "tags": []
   },
   "outputs": [
    {
     "data": {
      "text/plain": [
       "array([[[3.98233366],\n",
       "        [4.2424221 ],\n",
       "        [4.17438126],\n",
       "        [4.17998578],\n",
       "        [4.13214827],\n",
       "        [5.25426054],\n",
       "        [7.71799278],\n",
       "        [6.41627455],\n",
       "        [3.7679441 ]],\n",
       "\n",
       "       [[3.98229194],\n",
       "        [4.24108791],\n",
       "        [4.17507362],\n",
       "        [4.18014199],\n",
       "        [4.13327551],\n",
       "        [5.25284767],\n",
       "        [7.71863556],\n",
       "        [6.41649199],\n",
       "        [3.76802993]]])"
      ]
     },
     "execution_count": 105,
     "metadata": {},
     "output_type": "execute_result"
    }
   ],
   "source": [
    "reshaped_arr[:2]"
   ]
  },
  {
   "cell_type": "code",
   "execution_count": 107,
   "id": "52d8c73c-f865-4950-989e-9747d9ebce23",
   "metadata": {
    "tags": []
   },
   "outputs": [
    {
     "data": {
      "text/plain": [
       "(1933, 10, 9, 1)"
      ]
     },
     "execution_count": 107,
     "metadata": {},
     "output_type": "execute_result"
    }
   ],
   "source": [
    "X_train = create_4d_array(reshaped_arr, 10, 6)\n",
    "X_train.shape"
   ]
  },
  {
   "cell_type": "code",
   "execution_count": 109,
   "id": "6d9fd706-80c1-495c-8f79-837b58667f8c",
   "metadata": {
    "tags": []
   },
   "outputs": [
    {
     "name": "stderr",
     "output_type": "stream",
     "text": [
      "/Users/sandeshgnawali/anaconda3/lib/python3.11/site-packages/keras/src/layers/convolutional/base_conv.py:107: UserWarning: Do not pass an `input_shape`/`input_dim` argument to a layer. When using Sequential models, prefer using an `Input(shape)` object as the first layer in the model instead.\n",
      "  super().__init__(activity_regularizer=activity_regularizer, **kwargs)\n"
     ]
    }
   ],
   "source": [
    "model = Sequential([\n",
    "    Conv2D(32, kernel_size=(3,1), activation='relu', input_shape=(10, 9, 1)),\n",
    "    MaxPooling2D(pool_size=(2,1)),\n",
    "    \n",
    "    Conv2D(64, kernel_size=(3,1), activation='relu'),\n",
    "    MaxPooling2D(pool_size=(2,1)),\n",
    "    \n",
    "    Flatten(),    \n",
    "    Dense(64, activation='relu'),\n",
    "    Dense(10 * 9 * 1 , activation='linear'),\n",
    "    Reshape((10, 9, 1))\n",
    "])\n",
    "\n",
    "model.compile(optimizer='adam', loss='mean_squared_error') "
   ]
  },
  {
   "cell_type": "code",
   "execution_count": 111,
   "id": "75908d8b-becd-4993-bd83-96c12ee62a91",
   "metadata": {
    "tags": []
   },
   "outputs": [
    {
     "name": "stdout",
     "output_type": "stream",
     "text": [
      "Epoch 1/100\n",
      "\u001b[1m31/31\u001b[0m \u001b[32m━━━━━━━━━━━━━━━━━━━━\u001b[0m\u001b[37m\u001b[0m \u001b[1m0s\u001b[0m 2ms/step - loss: 5.7742  \n",
      "Epoch 2/100\n",
      "\u001b[1m31/31\u001b[0m \u001b[32m━━━━━━━━━━━━━━━━━━━━\u001b[0m\u001b[37m\u001b[0m \u001b[1m0s\u001b[0m 1ms/step - loss: 0.3938\n",
      "Epoch 3/100\n",
      "\u001b[1m31/31\u001b[0m \u001b[32m━━━━━━━━━━━━━━━━━━━━\u001b[0m\u001b[37m\u001b[0m \u001b[1m0s\u001b[0m 1ms/step - loss: 0.0097\n",
      "Epoch 4/100\n",
      "\u001b[1m31/31\u001b[0m \u001b[32m━━━━━━━━━━━━━━━━━━━━\u001b[0m\u001b[37m\u001b[0m \u001b[1m0s\u001b[0m 2ms/step - loss: 0.0014 \n",
      "Epoch 5/100\n",
      "\u001b[1m31/31\u001b[0m \u001b[32m━━━━━━━━━━━━━━━━━━━━\u001b[0m\u001b[37m\u001b[0m \u001b[1m0s\u001b[0m 2ms/step - loss: 9.5526e-04\n",
      "Epoch 6/100\n",
      "\u001b[1m31/31\u001b[0m \u001b[32m━━━━━━━━━━━━━━━━━━━━\u001b[0m\u001b[37m\u001b[0m \u001b[1m0s\u001b[0m 2ms/step - loss: 9.2654e-04\n",
      "Epoch 7/100\n",
      "\u001b[1m31/31\u001b[0m \u001b[32m━━━━━━━━━━━━━━━━━━━━\u001b[0m\u001b[37m\u001b[0m \u001b[1m0s\u001b[0m 2ms/step - loss: 9.5117e-04\n",
      "Epoch 8/100\n",
      "\u001b[1m31/31\u001b[0m \u001b[32m━━━━━━━━━━━━━━━━━━━━\u001b[0m\u001b[37m\u001b[0m \u001b[1m0s\u001b[0m 2ms/step - loss: 9.0694e-04\n",
      "Epoch 9/100\n",
      "\u001b[1m31/31\u001b[0m \u001b[32m━━━━━━━━━━━━━━━━━━━━\u001b[0m\u001b[37m\u001b[0m \u001b[1m0s\u001b[0m 2ms/step - loss: 9.7155e-04\n",
      "Epoch 10/100\n",
      "\u001b[1m31/31\u001b[0m \u001b[32m━━━━━━━━━━━━━━━━━━━━\u001b[0m\u001b[37m\u001b[0m \u001b[1m0s\u001b[0m 2ms/step - loss: 9.1330e-04\n",
      "Epoch 11/100\n",
      "\u001b[1m31/31\u001b[0m \u001b[32m━━━━━━━━━━━━━━━━━━━━\u001b[0m\u001b[37m\u001b[0m \u001b[1m0s\u001b[0m 2ms/step - loss: 9.2902e-04\n",
      "Epoch 12/100\n",
      "\u001b[1m31/31\u001b[0m \u001b[32m━━━━━━━━━━━━━━━━━━━━\u001b[0m\u001b[37m\u001b[0m \u001b[1m0s\u001b[0m 2ms/step - loss: 9.3262e-04\n",
      "Epoch 13/100\n",
      "\u001b[1m31/31\u001b[0m \u001b[32m━━━━━━━━━━━━━━━━━━━━\u001b[0m\u001b[37m\u001b[0m \u001b[1m0s\u001b[0m 2ms/step - loss: 9.4845e-04\n",
      "Epoch 14/100\n",
      "\u001b[1m31/31\u001b[0m \u001b[32m━━━━━━━━━━━━━━━━━━━━\u001b[0m\u001b[37m\u001b[0m \u001b[1m0s\u001b[0m 2ms/step - loss: 9.3566e-04\n",
      "Epoch 15/100\n",
      "\u001b[1m31/31\u001b[0m \u001b[32m━━━━━━━━━━━━━━━━━━━━\u001b[0m\u001b[37m\u001b[0m \u001b[1m0s\u001b[0m 2ms/step - loss: 9.1946e-04\n",
      "Epoch 16/100\n",
      "\u001b[1m31/31\u001b[0m \u001b[32m━━━━━━━━━━━━━━━━━━━━\u001b[0m\u001b[37m\u001b[0m \u001b[1m0s\u001b[0m 2ms/step - loss: 9.2294e-04\n",
      "Epoch 17/100\n",
      "\u001b[1m31/31\u001b[0m \u001b[32m━━━━━━━━━━━━━━━━━━━━\u001b[0m\u001b[37m\u001b[0m \u001b[1m0s\u001b[0m 2ms/step - loss: 9.4586e-04\n",
      "Epoch 18/100\n",
      "\u001b[1m31/31\u001b[0m \u001b[32m━━━━━━━━━━━━━━━━━━━━\u001b[0m\u001b[37m\u001b[0m \u001b[1m0s\u001b[0m 2ms/step - loss: 9.6493e-04\n",
      "Epoch 19/100\n",
      "\u001b[1m31/31\u001b[0m \u001b[32m━━━━━━━━━━━━━━━━━━━━\u001b[0m\u001b[37m\u001b[0m \u001b[1m0s\u001b[0m 2ms/step - loss: 9.2510e-04\n",
      "Epoch 20/100\n",
      "\u001b[1m31/31\u001b[0m \u001b[32m━━━━━━━━━━━━━━━━━━━━\u001b[0m\u001b[37m\u001b[0m \u001b[1m0s\u001b[0m 2ms/step - loss: 9.0024e-04\n",
      "Epoch 21/100\n",
      "\u001b[1m31/31\u001b[0m \u001b[32m━━━━━━━━━━━━━━━━━━━━\u001b[0m\u001b[37m\u001b[0m \u001b[1m0s\u001b[0m 2ms/step - loss: 9.0991e-04\n",
      "Epoch 22/100\n",
      "\u001b[1m31/31\u001b[0m \u001b[32m━━━━━━━━━━━━━━━━━━━━\u001b[0m\u001b[37m\u001b[0m \u001b[1m0s\u001b[0m 2ms/step - loss: 8.7910e-04\n",
      "Epoch 23/100\n",
      "\u001b[1m31/31\u001b[0m \u001b[32m━━━━━━━━━━━━━━━━━━━━\u001b[0m\u001b[37m\u001b[0m \u001b[1m0s\u001b[0m 2ms/step - loss: 9.6884e-04\n",
      "Epoch 24/100\n",
      "\u001b[1m31/31\u001b[0m \u001b[32m━━━━━━━━━━━━━━━━━━━━\u001b[0m\u001b[37m\u001b[0m \u001b[1m0s\u001b[0m 2ms/step - loss: 9.5329e-04\n",
      "Epoch 25/100\n",
      "\u001b[1m31/31\u001b[0m \u001b[32m━━━━━━━━━━━━━━━━━━━━\u001b[0m\u001b[37m\u001b[0m \u001b[1m0s\u001b[0m 2ms/step - loss: 9.0457e-04\n",
      "Epoch 26/100\n",
      "\u001b[1m31/31\u001b[0m \u001b[32m━━━━━━━━━━━━━━━━━━━━\u001b[0m\u001b[37m\u001b[0m \u001b[1m0s\u001b[0m 2ms/step - loss: 8.7526e-04\n",
      "Epoch 27/100\n",
      "\u001b[1m31/31\u001b[0m \u001b[32m━━━━━━━━━━━━━━━━━━━━\u001b[0m\u001b[37m\u001b[0m \u001b[1m0s\u001b[0m 2ms/step - loss: 8.3970e-04\n",
      "Epoch 28/100\n",
      "\u001b[1m31/31\u001b[0m \u001b[32m━━━━━━━━━━━━━━━━━━━━\u001b[0m\u001b[37m\u001b[0m \u001b[1m0s\u001b[0m 2ms/step - loss: 8.3265e-04\n",
      "Epoch 29/100\n",
      "\u001b[1m31/31\u001b[0m \u001b[32m━━━━━━━━━━━━━━━━━━━━\u001b[0m\u001b[37m\u001b[0m \u001b[1m0s\u001b[0m 2ms/step - loss: 9.5848e-04\n",
      "Epoch 30/100\n",
      "\u001b[1m31/31\u001b[0m \u001b[32m━━━━━━━━━━━━━━━━━━━━\u001b[0m\u001b[37m\u001b[0m \u001b[1m0s\u001b[0m 2ms/step - loss: 8.7225e-04\n",
      "Epoch 31/100\n",
      "\u001b[1m31/31\u001b[0m \u001b[32m━━━━━━━━━━━━━━━━━━━━\u001b[0m\u001b[37m\u001b[0m \u001b[1m0s\u001b[0m 2ms/step - loss: 8.4331e-04\n",
      "Epoch 32/100\n",
      "\u001b[1m31/31\u001b[0m \u001b[32m━━━━━━━━━━━━━━━━━━━━\u001b[0m\u001b[37m\u001b[0m \u001b[1m0s\u001b[0m 2ms/step - loss: 9.1450e-04 \n",
      "Epoch 33/100\n",
      "\u001b[1m31/31\u001b[0m \u001b[32m━━━━━━━━━━━━━━━━━━━━\u001b[0m\u001b[37m\u001b[0m \u001b[1m0s\u001b[0m 2ms/step - loss: 8.8323e-04\n",
      "Epoch 34/100\n",
      "\u001b[1m31/31\u001b[0m \u001b[32m━━━━━━━━━━━━━━━━━━━━\u001b[0m\u001b[37m\u001b[0m \u001b[1m0s\u001b[0m 2ms/step - loss: 8.6829e-04 \n",
      "Epoch 35/100\n",
      "\u001b[1m31/31\u001b[0m \u001b[32m━━━━━━━━━━━━━━━━━━━━\u001b[0m\u001b[37m\u001b[0m \u001b[1m0s\u001b[0m 2ms/step - loss: 8.2804e-04\n",
      "Epoch 36/100\n",
      "\u001b[1m31/31\u001b[0m \u001b[32m━━━━━━━━━━━━━━━━━━━━\u001b[0m\u001b[37m\u001b[0m \u001b[1m0s\u001b[0m 2ms/step - loss: 9.4435e-04\n",
      "Epoch 37/100\n",
      "\u001b[1m31/31\u001b[0m \u001b[32m━━━━━━━━━━━━━━━━━━━━\u001b[0m\u001b[37m\u001b[0m \u001b[1m0s\u001b[0m 2ms/step - loss: 9.3239e-04\n",
      "Epoch 38/100\n",
      "\u001b[1m31/31\u001b[0m \u001b[32m━━━━━━━━━━━━━━━━━━━━\u001b[0m\u001b[37m\u001b[0m \u001b[1m0s\u001b[0m 2ms/step - loss: 8.5230e-04\n",
      "Epoch 39/100\n",
      "\u001b[1m31/31\u001b[0m \u001b[32m━━━━━━━━━━━━━━━━━━━━\u001b[0m\u001b[37m\u001b[0m \u001b[1m0s\u001b[0m 2ms/step - loss: 8.4356e-04\n",
      "Epoch 40/100\n",
      "\u001b[1m31/31\u001b[0m \u001b[32m━━━━━━━━━━━━━━━━━━━━\u001b[0m\u001b[37m\u001b[0m \u001b[1m0s\u001b[0m 2ms/step - loss: 8.8751e-04\n",
      "Epoch 41/100\n",
      "\u001b[1m31/31\u001b[0m \u001b[32m━━━━━━━━━━━━━━━━━━━━\u001b[0m\u001b[37m\u001b[0m \u001b[1m0s\u001b[0m 2ms/step - loss: 8.5322e-04\n",
      "Epoch 42/100\n",
      "\u001b[1m31/31\u001b[0m \u001b[32m━━━━━━━━━━━━━━━━━━━━\u001b[0m\u001b[37m\u001b[0m \u001b[1m0s\u001b[0m 2ms/step - loss: 9.0219e-04\n",
      "Epoch 43/100\n",
      "\u001b[1m31/31\u001b[0m \u001b[32m━━━━━━━━━━━━━━━━━━━━\u001b[0m\u001b[37m\u001b[0m \u001b[1m0s\u001b[0m 2ms/step - loss: 8.3947e-04\n",
      "Epoch 44/100\n",
      "\u001b[1m31/31\u001b[0m \u001b[32m━━━━━━━━━━━━━━━━━━━━\u001b[0m\u001b[37m\u001b[0m \u001b[1m0s\u001b[0m 2ms/step - loss: 8.3616e-04\n",
      "Epoch 45/100\n",
      "\u001b[1m31/31\u001b[0m \u001b[32m━━━━━━━━━━━━━━━━━━━━\u001b[0m\u001b[37m\u001b[0m \u001b[1m0s\u001b[0m 2ms/step - loss: 7.7267e-04\n",
      "Epoch 46/100\n",
      "\u001b[1m31/31\u001b[0m \u001b[32m━━━━━━━━━━━━━━━━━━━━\u001b[0m\u001b[37m\u001b[0m \u001b[1m0s\u001b[0m 2ms/step - loss: 8.5088e-04\n",
      "Epoch 47/100\n",
      "\u001b[1m31/31\u001b[0m \u001b[32m━━━━━━━━━━━━━━━━━━━━\u001b[0m\u001b[37m\u001b[0m \u001b[1m0s\u001b[0m 2ms/step - loss: 8.0157e-04\n",
      "Epoch 48/100\n",
      "\u001b[1m31/31\u001b[0m \u001b[32m━━━━━━━━━━━━━━━━━━━━\u001b[0m\u001b[37m\u001b[0m \u001b[1m0s\u001b[0m 2ms/step - loss: 8.2666e-04 \n",
      "Epoch 49/100\n",
      "\u001b[1m31/31\u001b[0m \u001b[32m━━━━━━━━━━━━━━━━━━━━\u001b[0m\u001b[37m\u001b[0m \u001b[1m0s\u001b[0m 2ms/step - loss: 8.3795e-04\n",
      "Epoch 50/100\n",
      "\u001b[1m31/31\u001b[0m \u001b[32m━━━━━━━━━━━━━━━━━━━━\u001b[0m\u001b[37m\u001b[0m \u001b[1m0s\u001b[0m 2ms/step - loss: 8.8142e-04\n",
      "Epoch 51/100\n",
      "\u001b[1m31/31\u001b[0m \u001b[32m━━━━━━━━━━━━━━━━━━━━\u001b[0m\u001b[37m\u001b[0m \u001b[1m0s\u001b[0m 2ms/step - loss: 7.6732e-04\n",
      "Epoch 52/100\n",
      "\u001b[1m31/31\u001b[0m \u001b[32m━━━━━━━━━━━━━━━━━━━━\u001b[0m\u001b[37m\u001b[0m \u001b[1m0s\u001b[0m 2ms/step - loss: 7.2435e-04\n",
      "Epoch 53/100\n",
      "\u001b[1m31/31\u001b[0m \u001b[32m━━━━━━━━━━━━━━━━━━━━\u001b[0m\u001b[37m\u001b[0m \u001b[1m0s\u001b[0m 2ms/step - loss: 7.7606e-04\n",
      "Epoch 54/100\n",
      "\u001b[1m31/31\u001b[0m \u001b[32m━━━━━━━━━━━━━━━━━━━━\u001b[0m\u001b[37m\u001b[0m \u001b[1m0s\u001b[0m 2ms/step - loss: 8.3884e-04\n",
      "Epoch 55/100\n",
      "\u001b[1m31/31\u001b[0m \u001b[32m━━━━━━━━━━━━━━━━━━━━\u001b[0m\u001b[37m\u001b[0m \u001b[1m0s\u001b[0m 2ms/step - loss: 8.6275e-04\n",
      "Epoch 56/100\n",
      "\u001b[1m31/31\u001b[0m \u001b[32m━━━━━━━━━━━━━━━━━━━━\u001b[0m\u001b[37m\u001b[0m \u001b[1m0s\u001b[0m 2ms/step - loss: 8.8637e-04\n",
      "Epoch 57/100\n",
      "\u001b[1m31/31\u001b[0m \u001b[32m━━━━━━━━━━━━━━━━━━━━\u001b[0m\u001b[37m\u001b[0m \u001b[1m0s\u001b[0m 2ms/step - loss: 7.7521e-04\n",
      "Epoch 58/100\n",
      "\u001b[1m31/31\u001b[0m \u001b[32m━━━━━━━━━━━━━━━━━━━━\u001b[0m\u001b[37m\u001b[0m \u001b[1m0s\u001b[0m 2ms/step - loss: 7.5292e-04\n",
      "Epoch 59/100\n",
      "\u001b[1m31/31\u001b[0m \u001b[32m━━━━━━━━━━━━━━━━━━━━\u001b[0m\u001b[37m\u001b[0m \u001b[1m0s\u001b[0m 2ms/step - loss: 6.7353e-04\n",
      "Epoch 60/100\n",
      "\u001b[1m31/31\u001b[0m \u001b[32m━━━━━━━━━━━━━━━━━━━━\u001b[0m\u001b[37m\u001b[0m \u001b[1m0s\u001b[0m 2ms/step - loss: 7.5602e-04\n",
      "Epoch 61/100\n",
      "\u001b[1m31/31\u001b[0m \u001b[32m━━━━━━━━━━━━━━━━━━━━\u001b[0m\u001b[37m\u001b[0m \u001b[1m0s\u001b[0m 2ms/step - loss: 9.4046e-04\n",
      "Epoch 62/100\n",
      "\u001b[1m31/31\u001b[0m \u001b[32m━━━━━━━━━━━━━━━━━━━━\u001b[0m\u001b[37m\u001b[0m \u001b[1m0s\u001b[0m 2ms/step - loss: 8.1728e-04\n",
      "Epoch 63/100\n",
      "\u001b[1m31/31\u001b[0m \u001b[32m━━━━━━━━━━━━━━━━━━━━\u001b[0m\u001b[37m\u001b[0m \u001b[1m0s\u001b[0m 2ms/step - loss: 7.0378e-04\n",
      "Epoch 64/100\n",
      "\u001b[1m31/31\u001b[0m \u001b[32m━━━━━━━━━━━━━━━━━━━━\u001b[0m\u001b[37m\u001b[0m \u001b[1m0s\u001b[0m 2ms/step - loss: 7.6465e-04\n",
      "Epoch 65/100\n",
      "\u001b[1m31/31\u001b[0m \u001b[32m━━━━━━━━━━━━━━━━━━━━\u001b[0m\u001b[37m\u001b[0m \u001b[1m0s\u001b[0m 2ms/step - loss: 8.1182e-04\n",
      "Epoch 66/100\n",
      "\u001b[1m31/31\u001b[0m \u001b[32m━━━━━━━━━━━━━━━━━━━━\u001b[0m\u001b[37m\u001b[0m \u001b[1m0s\u001b[0m 2ms/step - loss: 6.7150e-04\n",
      "Epoch 67/100\n",
      "\u001b[1m31/31\u001b[0m \u001b[32m━━━━━━━━━━━━━━━━━━━━\u001b[0m\u001b[37m\u001b[0m \u001b[1m0s\u001b[0m 2ms/step - loss: 6.3778e-04\n",
      "Epoch 68/100\n",
      "\u001b[1m31/31\u001b[0m \u001b[32m━━━━━━━━━━━━━━━━━━━━\u001b[0m\u001b[37m\u001b[0m \u001b[1m0s\u001b[0m 2ms/step - loss: 6.0758e-04\n",
      "Epoch 69/100\n",
      "\u001b[1m31/31\u001b[0m \u001b[32m━━━━━━━━━━━━━━━━━━━━\u001b[0m\u001b[37m\u001b[0m \u001b[1m0s\u001b[0m 2ms/step - loss: 5.6938e-04\n",
      "Epoch 70/100\n",
      "\u001b[1m31/31\u001b[0m \u001b[32m━━━━━━━━━━━━━━━━━━━━\u001b[0m\u001b[37m\u001b[0m \u001b[1m0s\u001b[0m 2ms/step - loss: 6.1133e-04\n",
      "Epoch 71/100\n",
      "\u001b[1m31/31\u001b[0m \u001b[32m━━━━━━━━━━━━━━━━━━━━\u001b[0m\u001b[37m\u001b[0m \u001b[1m0s\u001b[0m 2ms/step - loss: 5.8176e-04\n",
      "Epoch 72/100\n",
      "\u001b[1m31/31\u001b[0m \u001b[32m━━━━━━━━━━━━━━━━━━━━\u001b[0m\u001b[37m\u001b[0m \u001b[1m0s\u001b[0m 2ms/step - loss: 5.7474e-04\n",
      "Epoch 73/100\n",
      "\u001b[1m31/31\u001b[0m \u001b[32m━━━━━━━━━━━━━━━━━━━━\u001b[0m\u001b[37m\u001b[0m \u001b[1m0s\u001b[0m 2ms/step - loss: 6.1820e-04\n",
      "Epoch 74/100\n",
      "\u001b[1m31/31\u001b[0m \u001b[32m━━━━━━━━━━━━━━━━━━━━\u001b[0m\u001b[37m\u001b[0m \u001b[1m0s\u001b[0m 2ms/step - loss: 0.0010\n",
      "Epoch 75/100\n",
      "\u001b[1m31/31\u001b[0m \u001b[32m━━━━━━━━━━━━━━━━━━━━\u001b[0m\u001b[37m\u001b[0m \u001b[1m0s\u001b[0m 2ms/step - loss: 5.1068e-04\n",
      "Epoch 76/100\n",
      "\u001b[1m31/31\u001b[0m \u001b[32m━━━━━━━━━━━━━━━━━━━━\u001b[0m\u001b[37m\u001b[0m \u001b[1m0s\u001b[0m 2ms/step - loss: 5.4448e-04\n",
      "Epoch 77/100\n",
      "\u001b[1m31/31\u001b[0m \u001b[32m━━━━━━━━━━━━━━━━━━━━\u001b[0m\u001b[37m\u001b[0m \u001b[1m0s\u001b[0m 2ms/step - loss: 0.0022    \n",
      "Epoch 78/100\n",
      "\u001b[1m31/31\u001b[0m \u001b[32m━━━━━━━━━━━━━━━━━━━━\u001b[0m\u001b[37m\u001b[0m \u001b[1m0s\u001b[0m 2ms/step - loss: 0.0130\n",
      "Epoch 79/100\n",
      "\u001b[1m31/31\u001b[0m \u001b[32m━━━━━━━━━━━━━━━━━━━━\u001b[0m\u001b[37m\u001b[0m \u001b[1m0s\u001b[0m 2ms/step - loss: 6.2774e-04\n",
      "Epoch 80/100\n",
      "\u001b[1m31/31\u001b[0m \u001b[32m━━━━━━━━━━━━━━━━━━━━\u001b[0m\u001b[37m\u001b[0m \u001b[1m0s\u001b[0m 2ms/step - loss: 5.5340e-04\n",
      "Epoch 81/100\n",
      "\u001b[1m31/31\u001b[0m \u001b[32m━━━━━━━━━━━━━━━━━━━━\u001b[0m\u001b[37m\u001b[0m \u001b[1m0s\u001b[0m 2ms/step - loss: 5.4334e-04\n",
      "Epoch 82/100\n",
      "\u001b[1m31/31\u001b[0m \u001b[32m━━━━━━━━━━━━━━━━━━━━\u001b[0m\u001b[37m\u001b[0m \u001b[1m0s\u001b[0m 2ms/step - loss: 5.4511e-04\n",
      "Epoch 83/100\n",
      "\u001b[1m31/31\u001b[0m \u001b[32m━━━━━━━━━━━━━━━━━━━━\u001b[0m\u001b[37m\u001b[0m \u001b[1m0s\u001b[0m 2ms/step - loss: 4.9714e-04\n",
      "Epoch 84/100\n",
      "\u001b[1m31/31\u001b[0m \u001b[32m━━━━━━━━━━━━━━━━━━━━\u001b[0m\u001b[37m\u001b[0m \u001b[1m0s\u001b[0m 2ms/step - loss: 5.0648e-04\n",
      "Epoch 85/100\n",
      "\u001b[1m31/31\u001b[0m \u001b[32m━━━━━━━━━━━━━━━━━━━━\u001b[0m\u001b[37m\u001b[0m \u001b[1m0s\u001b[0m 2ms/step - loss: 5.4551e-04\n",
      "Epoch 86/100\n",
      "\u001b[1m31/31\u001b[0m \u001b[32m━━━━━━━━━━━━━━━━━━━━\u001b[0m\u001b[37m\u001b[0m \u001b[1m0s\u001b[0m 2ms/step - loss: 4.8499e-04\n",
      "Epoch 87/100\n",
      "\u001b[1m31/31\u001b[0m \u001b[32m━━━━━━━━━━━━━━━━━━━━\u001b[0m\u001b[37m\u001b[0m \u001b[1m0s\u001b[0m 2ms/step - loss: 4.4443e-04\n",
      "Epoch 88/100\n",
      "\u001b[1m31/31\u001b[0m \u001b[32m━━━━━━━━━━━━━━━━━━━━\u001b[0m\u001b[37m\u001b[0m \u001b[1m0s\u001b[0m 2ms/step - loss: 4.1839e-04\n",
      "Epoch 89/100\n",
      "\u001b[1m31/31\u001b[0m \u001b[32m━━━━━━━━━━━━━━━━━━━━\u001b[0m\u001b[37m\u001b[0m \u001b[1m0s\u001b[0m 2ms/step - loss: 4.0322e-04\n",
      "Epoch 90/100\n",
      "\u001b[1m31/31\u001b[0m \u001b[32m━━━━━━━━━━━━━━━━━━━━\u001b[0m\u001b[37m\u001b[0m \u001b[1m0s\u001b[0m 2ms/step - loss: 4.1131e-04\n",
      "Epoch 91/100\n",
      "\u001b[1m31/31\u001b[0m \u001b[32m━━━━━━━━━━━━━━━━━━━━\u001b[0m\u001b[37m\u001b[0m \u001b[1m0s\u001b[0m 2ms/step - loss: 3.4281e-04\n",
      "Epoch 92/100\n",
      "\u001b[1m31/31\u001b[0m \u001b[32m━━━━━━━━━━━━━━━━━━━━\u001b[0m\u001b[37m\u001b[0m \u001b[1m0s\u001b[0m 2ms/step - loss: 3.7272e-04\n",
      "Epoch 93/100\n",
      "\u001b[1m31/31\u001b[0m \u001b[32m━━━━━━━━━━━━━━━━━━━━\u001b[0m\u001b[37m\u001b[0m \u001b[1m0s\u001b[0m 2ms/step - loss: 3.7722e-04\n",
      "Epoch 94/100\n",
      "\u001b[1m31/31\u001b[0m \u001b[32m━━━━━━━━━━━━━━━━━━━━\u001b[0m\u001b[37m\u001b[0m \u001b[1m0s\u001b[0m 2ms/step - loss: 3.2220e-04\n",
      "Epoch 95/100\n",
      "\u001b[1m31/31\u001b[0m \u001b[32m━━━━━━━━━━━━━━━━━━━━\u001b[0m\u001b[37m\u001b[0m \u001b[1m0s\u001b[0m 2ms/step - loss: 3.6809e-04\n",
      "Epoch 96/100\n",
      "\u001b[1m31/31\u001b[0m \u001b[32m━━━━━━━━━━━━━━━━━━━━\u001b[0m\u001b[37m\u001b[0m \u001b[1m0s\u001b[0m 2ms/step - loss: 3.4703e-04 \n",
      "Epoch 97/100\n",
      "\u001b[1m31/31\u001b[0m \u001b[32m━━━━━━━━━━━━━━━━━━━━\u001b[0m\u001b[37m\u001b[0m \u001b[1m0s\u001b[0m 3ms/step - loss: 3.0094e-04\n",
      "Epoch 98/100\n",
      "\u001b[1m31/31\u001b[0m \u001b[32m━━━━━━━━━━━━━━━━━━━━\u001b[0m\u001b[37m\u001b[0m \u001b[1m0s\u001b[0m 2ms/step - loss: 2.9953e-04\n",
      "Epoch 99/100\n",
      "\u001b[1m31/31\u001b[0m \u001b[32m━━━━━━━━━━━━━━━━━━━━\u001b[0m\u001b[37m\u001b[0m \u001b[1m0s\u001b[0m 2ms/step - loss: 3.0839e-04\n",
      "Epoch 100/100\n",
      "\u001b[1m31/31\u001b[0m \u001b[32m━━━━━━━━━━━━━━━━━━━━\u001b[0m\u001b[37m\u001b[0m \u001b[1m0s\u001b[0m 2ms/step - loss: 3.1471e-04\n"
     ]
    },
    {
     "data": {
      "text/plain": [
       "<keras.src.callbacks.history.History at 0x30db47210>"
      ]
     },
     "execution_count": 111,
     "metadata": {},
     "output_type": "execute_result"
    }
   ],
   "source": [
    "model.fit(X_train, X_train, epochs = 100, batch_size = 64)"
   ]
  },
  {
   "cell_type": "code",
   "execution_count": 113,
   "id": "1c469e36-bb1f-431b-b912-b110242b3e09",
   "metadata": {
    "tags": []
   },
   "outputs": [],
   "source": [
    "X_test = create_4d_array(reshaped_arr, 10, 0)"
   ]
  },
  {
   "cell_type": "code",
   "execution_count": 115,
   "id": "8d2b0477-16aa-47c5-9668-59569f52a64a",
   "metadata": {
    "tags": []
   },
   "outputs": [
    {
     "data": {
      "text/plain": [
       "(774, 10, 9, 1)"
      ]
     },
     "execution_count": 115,
     "metadata": {},
     "output_type": "execute_result"
    }
   ],
   "source": [
    "X_test.shape"
   ]
  },
  {
   "cell_type": "code",
   "execution_count": 117,
   "id": "e3a08425-3dcf-45a3-af48-509302e5340d",
   "metadata": {
    "tags": []
   },
   "outputs": [
    {
     "name": "stdout",
     "output_type": "stream",
     "text": [
      "\u001b[1m25/25\u001b[0m \u001b[32m━━━━━━━━━━━━━━━━━━━━\u001b[0m\u001b[37m\u001b[0m \u001b[1m0s\u001b[0m 551us/step - loss: 5.5182e-04\n"
     ]
    },
    {
     "data": {
      "text/plain": [
       "0.0001784201303962618"
      ]
     },
     "execution_count": 117,
     "metadata": {},
     "output_type": "execute_result"
    }
   ],
   "source": [
    "model.evaluate(X_test, X_test)"
   ]
  },
  {
   "cell_type": "code",
   "execution_count": 119,
   "id": "89983093-4290-4355-bb0c-717d7db9064f",
   "metadata": {
    "tags": []
   },
   "outputs": [
    {
     "name": "stdout",
     "output_type": "stream",
     "text": [
      "\u001b[1m25/25\u001b[0m \u001b[32m━━━━━━━━━━━━━━━━━━━━\u001b[0m\u001b[37m\u001b[0m \u001b[1m0s\u001b[0m 1ms/step \n"
     ]
    }
   ],
   "source": [
    "y_pred = model.predict(X_test)"
   ]
  },
  {
   "cell_type": "code",
   "execution_count": 121,
   "id": "4fb53de7-68d0-4a67-a731-1d4e4fc5c616",
   "metadata": {
    "tags": []
   },
   "outputs": [
    {
     "data": {
      "text/plain": [
       "(7740, 9)"
      ]
     },
     "execution_count": 121,
     "metadata": {},
     "output_type": "execute_result"
    }
   ],
   "source": [
    "y_pred_reshaped = y_pred.reshape((-1, 9))\n",
    "y_pred_reshaped.shape"
   ]
  },
  {
   "cell_type": "code",
   "execution_count": 123,
   "id": "1914a75f-35f6-4623-8cc0-204217c54d84",
   "metadata": {
    "tags": []
   },
   "outputs": [],
   "source": [
    "predicted_df = pd.DataFrame(y_pred_reshaped)"
   ]
  },
  {
   "cell_type": "code",
   "execution_count": 127,
   "id": "2cdcab6e-aafd-4bdb-a487-d4c8fa77fdc6",
   "metadata": {
    "tags": []
   },
   "outputs": [],
   "source": [
    "predicted_df.rename(columns = index_name, inplace = True)"
   ]
  },
  {
   "cell_type": "code",
   "execution_count": 129,
   "id": "e7b1212f-2d4c-4ff0-9822-72dee9950543",
   "metadata": {
    "tags": []
   },
   "outputs": [
    {
     "data": {
      "text/html": [
       "<div>\n",
       "<style scoped>\n",
       "    .dataframe tbody tr th:only-of-type {\n",
       "        vertical-align: middle;\n",
       "    }\n",
       "\n",
       "    .dataframe tbody tr th {\n",
       "        vertical-align: top;\n",
       "    }\n",
       "\n",
       "    .dataframe thead th {\n",
       "        text-align: right;\n",
       "    }\n",
       "</style>\n",
       "<table border=\"1\" class=\"dataframe\">\n",
       "  <thead>\n",
       "    <tr style=\"text-align: right;\">\n",
       "      <th></th>\n",
       "      <th>FEX_004</th>\n",
       "      <th>FSB_095DR</th>\n",
       "      <th>FSB_078</th>\n",
       "      <th>FSB_126</th>\n",
       "      <th>FSB_130D</th>\n",
       "      <th>FPZ_06A</th>\n",
       "      <th>FSB_079</th>\n",
       "      <th>FPZ_04A</th>\n",
       "      <th>FSB_097D</th>\n",
       "    </tr>\n",
       "  </thead>\n",
       "  <tbody>\n",
       "    <tr>\n",
       "      <th>0</th>\n",
       "      <td>3.979327</td>\n",
       "      <td>4.204924</td>\n",
       "      <td>4.146307e+00</td>\n",
       "      <td>4.193398</td>\n",
       "      <td>4.123796</td>\n",
       "      <td>5.298664</td>\n",
       "      <td>7.879143e+00</td>\n",
       "      <td>6.411238</td>\n",
       "      <td>3.766538</td>\n",
       "    </tr>\n",
       "    <tr>\n",
       "      <th>1</th>\n",
       "      <td>3.974967</td>\n",
       "      <td>4.216809</td>\n",
       "      <td>4.138014e+00</td>\n",
       "      <td>4.190757</td>\n",
       "      <td>4.161385</td>\n",
       "      <td>5.258179</td>\n",
       "      <td>7.862474e+00</td>\n",
       "      <td>6.389676</td>\n",
       "      <td>3.780444</td>\n",
       "    </tr>\n",
       "    <tr>\n",
       "      <th>2</th>\n",
       "      <td>3.946427</td>\n",
       "      <td>4.209148</td>\n",
       "      <td>4.123145e+00</td>\n",
       "      <td>4.147642</td>\n",
       "      <td>4.138660</td>\n",
       "      <td>5.291647</td>\n",
       "      <td>7.857821e+00</td>\n",
       "      <td>6.381494</td>\n",
       "      <td>3.747722</td>\n",
       "    </tr>\n",
       "    <tr>\n",
       "      <th>3</th>\n",
       "      <td>3.951205</td>\n",
       "      <td>4.200116</td>\n",
       "      <td>4.125548e+00</td>\n",
       "      <td>4.174520</td>\n",
       "      <td>4.172224</td>\n",
       "      <td>5.295893</td>\n",
       "      <td>7.865590e+00</td>\n",
       "      <td>6.401342</td>\n",
       "      <td>3.733856</td>\n",
       "    </tr>\n",
       "    <tr>\n",
       "      <th>4</th>\n",
       "      <td>3.961201</td>\n",
       "      <td>4.218462</td>\n",
       "      <td>4.131424e+00</td>\n",
       "      <td>4.162150</td>\n",
       "      <td>4.133429</td>\n",
       "      <td>5.285905</td>\n",
       "      <td>7.838560e+00</td>\n",
       "      <td>6.389393</td>\n",
       "      <td>3.741643</td>\n",
       "    </tr>\n",
       "    <tr>\n",
       "      <th>...</th>\n",
       "      <td>...</td>\n",
       "      <td>...</td>\n",
       "      <td>...</td>\n",
       "      <td>...</td>\n",
       "      <td>...</td>\n",
       "      <td>...</td>\n",
       "      <td>...</td>\n",
       "      <td>...</td>\n",
       "      <td>...</td>\n",
       "    </tr>\n",
       "    <tr>\n",
       "      <th>7735</th>\n",
       "      <td>-0.000024</td>\n",
       "      <td>0.000032</td>\n",
       "      <td>1.189858e-05</td>\n",
       "      <td>0.000050</td>\n",
       "      <td>0.000028</td>\n",
       "      <td>0.000075</td>\n",
       "      <td>1.005828e-07</td>\n",
       "      <td>-0.000022</td>\n",
       "      <td>0.000067</td>\n",
       "    </tr>\n",
       "    <tr>\n",
       "      <th>7736</th>\n",
       "      <td>0.000013</td>\n",
       "      <td>0.000071</td>\n",
       "      <td>-5.811453e-07</td>\n",
       "      <td>0.000035</td>\n",
       "      <td>0.000058</td>\n",
       "      <td>0.000122</td>\n",
       "      <td>-4.318729e-05</td>\n",
       "      <td>0.000013</td>\n",
       "      <td>-0.000006</td>\n",
       "    </tr>\n",
       "    <tr>\n",
       "      <th>7737</th>\n",
       "      <td>0.000060</td>\n",
       "      <td>0.000043</td>\n",
       "      <td>-2.456643e-05</td>\n",
       "      <td>0.000045</td>\n",
       "      <td>-0.000018</td>\n",
       "      <td>0.000058</td>\n",
       "      <td>-6.837025e-05</td>\n",
       "      <td>-0.000016</td>\n",
       "      <td>0.000020</td>\n",
       "    </tr>\n",
       "    <tr>\n",
       "      <th>7738</th>\n",
       "      <td>-0.000036</td>\n",
       "      <td>0.000036</td>\n",
       "      <td>-8.716807e-05</td>\n",
       "      <td>0.000021</td>\n",
       "      <td>0.000044</td>\n",
       "      <td>0.000076</td>\n",
       "      <td>5.983654e-05</td>\n",
       "      <td>0.000045</td>\n",
       "      <td>0.000046</td>\n",
       "    </tr>\n",
       "    <tr>\n",
       "      <th>7739</th>\n",
       "      <td>0.000004</td>\n",
       "      <td>0.000005</td>\n",
       "      <td>1.208670e-04</td>\n",
       "      <td>-0.000022</td>\n",
       "      <td>0.000077</td>\n",
       "      <td>0.000078</td>\n",
       "      <td>4.288182e-05</td>\n",
       "      <td>-0.000085</td>\n",
       "      <td>0.000105</td>\n",
       "    </tr>\n",
       "  </tbody>\n",
       "</table>\n",
       "<p>7740 rows × 9 columns</p>\n",
       "</div>"
      ],
      "text/plain": [
       "       FEX_004  FSB_095DR       FSB_078   FSB_126  FSB_130D   FPZ_06A  \\\n",
       "0     3.979327   4.204924  4.146307e+00  4.193398  4.123796  5.298664   \n",
       "1     3.974967   4.216809  4.138014e+00  4.190757  4.161385  5.258179   \n",
       "2     3.946427   4.209148  4.123145e+00  4.147642  4.138660  5.291647   \n",
       "3     3.951205   4.200116  4.125548e+00  4.174520  4.172224  5.295893   \n",
       "4     3.961201   4.218462  4.131424e+00  4.162150  4.133429  5.285905   \n",
       "...        ...        ...           ...       ...       ...       ...   \n",
       "7735 -0.000024   0.000032  1.189858e-05  0.000050  0.000028  0.000075   \n",
       "7736  0.000013   0.000071 -5.811453e-07  0.000035  0.000058  0.000122   \n",
       "7737  0.000060   0.000043 -2.456643e-05  0.000045 -0.000018  0.000058   \n",
       "7738 -0.000036   0.000036 -8.716807e-05  0.000021  0.000044  0.000076   \n",
       "7739  0.000004   0.000005  1.208670e-04 -0.000022  0.000077  0.000078   \n",
       "\n",
       "           FSB_079   FPZ_04A  FSB_097D  \n",
       "0     7.879143e+00  6.411238  3.766538  \n",
       "1     7.862474e+00  6.389676  3.780444  \n",
       "2     7.857821e+00  6.381494  3.747722  \n",
       "3     7.865590e+00  6.401342  3.733856  \n",
       "4     7.838560e+00  6.389393  3.741643  \n",
       "...            ...       ...       ...  \n",
       "7735  1.005828e-07 -0.000022  0.000067  \n",
       "7736 -4.318729e-05  0.000013 -0.000006  \n",
       "7737 -6.837025e-05 -0.000016  0.000020  \n",
       "7738  5.983654e-05  0.000045  0.000046  \n",
       "7739  4.288182e-05 -0.000085  0.000105  \n",
       "\n",
       "[7740 rows x 9 columns]"
      ]
     },
     "execution_count": 129,
     "metadata": {},
     "output_type": "execute_result"
    }
   ],
   "source": [
    "predicted_df"
   ]
  },
  {
   "cell_type": "code",
   "execution_count": 131,
   "id": "071ca34d-66ae-46ae-8c94-792c53c91c9a",
   "metadata": {
    "tags": []
   },
   "outputs": [
    {
     "data": {
      "text/html": [
       "<div>\n",
       "<style scoped>\n",
       "    .dataframe tbody tr th:only-of-type {\n",
       "        vertical-align: middle;\n",
       "    }\n",
       "\n",
       "    .dataframe tbody tr th {\n",
       "        vertical-align: top;\n",
       "    }\n",
       "\n",
       "    .dataframe thead th {\n",
       "        text-align: right;\n",
       "    }\n",
       "</style>\n",
       "<table border=\"1\" class=\"dataframe\">\n",
       "  <thead>\n",
       "    <tr style=\"text-align: right;\">\n",
       "      <th></th>\n",
       "      <th>FEX_004</th>\n",
       "      <th>FSB_095DR</th>\n",
       "      <th>FSB_078</th>\n",
       "      <th>FSB_126</th>\n",
       "      <th>FSB_130D</th>\n",
       "      <th>FPZ_06A</th>\n",
       "      <th>FSB_079</th>\n",
       "      <th>FPZ_04A</th>\n",
       "      <th>FSB_097D</th>\n",
       "    </tr>\n",
       "  </thead>\n",
       "  <tbody>\n",
       "    <tr>\n",
       "      <th>8</th>\n",
       "      <td>3.982334</td>\n",
       "      <td>4.242422</td>\n",
       "      <td>4.174381</td>\n",
       "      <td>4.179986</td>\n",
       "      <td>4.132148</td>\n",
       "      <td>5.254261</td>\n",
       "      <td>7.717993</td>\n",
       "      <td>6.416275</td>\n",
       "      <td>3.767944</td>\n",
       "    </tr>\n",
       "    <tr>\n",
       "      <th>9</th>\n",
       "      <td>3.982292</td>\n",
       "      <td>4.241088</td>\n",
       "      <td>4.175074</td>\n",
       "      <td>4.180142</td>\n",
       "      <td>4.133276</td>\n",
       "      <td>5.252848</td>\n",
       "      <td>7.718636</td>\n",
       "      <td>6.416492</td>\n",
       "      <td>3.768030</td>\n",
       "    </tr>\n",
       "    <tr>\n",
       "      <th>10</th>\n",
       "      <td>3.981953</td>\n",
       "      <td>4.242620</td>\n",
       "      <td>4.177405</td>\n",
       "      <td>4.180298</td>\n",
       "      <td>4.133048</td>\n",
       "      <td>5.250815</td>\n",
       "      <td>7.717875</td>\n",
       "      <td>6.416061</td>\n",
       "      <td>3.767769</td>\n",
       "    </tr>\n",
       "    <tr>\n",
       "      <th>11</th>\n",
       "      <td>3.983563</td>\n",
       "      <td>4.243669</td>\n",
       "      <td>4.176972</td>\n",
       "      <td>4.180454</td>\n",
       "      <td>4.133577</td>\n",
       "      <td>5.248752</td>\n",
       "      <td>7.716632</td>\n",
       "      <td>6.415847</td>\n",
       "      <td>3.768118</td>\n",
       "    </tr>\n",
       "    <tr>\n",
       "      <th>12</th>\n",
       "      <td>3.983425</td>\n",
       "      <td>4.243669</td>\n",
       "      <td>4.173831</td>\n",
       "      <td>4.180611</td>\n",
       "      <td>4.133913</td>\n",
       "      <td>5.245027</td>\n",
       "      <td>7.716830</td>\n",
       "      <td>6.415980</td>\n",
       "      <td>3.768550</td>\n",
       "    </tr>\n",
       "    <tr>\n",
       "      <th>...</th>\n",
       "      <td>...</td>\n",
       "      <td>...</td>\n",
       "      <td>...</td>\n",
       "      <td>...</td>\n",
       "      <td>...</td>\n",
       "      <td>...</td>\n",
       "      <td>...</td>\n",
       "      <td>...</td>\n",
       "      <td>...</td>\n",
       "    </tr>\n",
       "    <tr>\n",
       "      <th>7743</th>\n",
       "      <td>4.373425</td>\n",
       "      <td>4.483142</td>\n",
       "      <td>4.300413</td>\n",
       "      <td>4.495069</td>\n",
       "      <td>4.439222</td>\n",
       "      <td>5.585535</td>\n",
       "      <td>7.878193</td>\n",
       "      <td>7.592293</td>\n",
       "      <td>4.167729</td>\n",
       "    </tr>\n",
       "    <tr>\n",
       "      <th>7744</th>\n",
       "      <td>4.374073</td>\n",
       "      <td>4.482854</td>\n",
       "      <td>4.301687</td>\n",
       "      <td>4.494333</td>\n",
       "      <td>4.439609</td>\n",
       "      <td>5.582193</td>\n",
       "      <td>7.877029</td>\n",
       "      <td>7.593216</td>\n",
       "      <td>4.167895</td>\n",
       "    </tr>\n",
       "    <tr>\n",
       "      <th>7745</th>\n",
       "      <td>4.375431</td>\n",
       "      <td>4.483341</td>\n",
       "      <td>4.304706</td>\n",
       "      <td>4.495460</td>\n",
       "      <td>4.439438</td>\n",
       "      <td>5.579660</td>\n",
       "      <td>7.880521</td>\n",
       "      <td>7.605413</td>\n",
       "      <td>4.167374</td>\n",
       "    </tr>\n",
       "    <tr>\n",
       "      <th>7746</th>\n",
       "      <td>4.373557</td>\n",
       "      <td>4.482985</td>\n",
       "      <td>4.309968</td>\n",
       "      <td>4.494287</td>\n",
       "      <td>4.439528</td>\n",
       "      <td>5.576629</td>\n",
       "      <td>7.880730</td>\n",
       "      <td>7.593132</td>\n",
       "      <td>4.168333</td>\n",
       "    </tr>\n",
       "    <tr>\n",
       "      <th>7747</th>\n",
       "      <td>4.374814</td>\n",
       "      <td>4.483509</td>\n",
       "      <td>4.307608</td>\n",
       "      <td>4.493996</td>\n",
       "      <td>4.439603</td>\n",
       "      <td>5.574546</td>\n",
       "      <td>7.881895</td>\n",
       "      <td>7.589359</td>\n",
       "      <td>4.168072</td>\n",
       "    </tr>\n",
       "  </tbody>\n",
       "</table>\n",
       "<p>7740 rows × 9 columns</p>\n",
       "</div>"
      ],
      "text/plain": [
       "       FEX_004  FSB_095DR   FSB_078   FSB_126  FSB_130D   FPZ_06A   FSB_079  \\\n",
       "8     3.982334   4.242422  4.174381  4.179986  4.132148  5.254261  7.717993   \n",
       "9     3.982292   4.241088  4.175074  4.180142  4.133276  5.252848  7.718636   \n",
       "10    3.981953   4.242620  4.177405  4.180298  4.133048  5.250815  7.717875   \n",
       "11    3.983563   4.243669  4.176972  4.180454  4.133577  5.248752  7.716632   \n",
       "12    3.983425   4.243669  4.173831  4.180611  4.133913  5.245027  7.716830   \n",
       "...        ...        ...       ...       ...       ...       ...       ...   \n",
       "7743  4.373425   4.483142  4.300413  4.495069  4.439222  5.585535  7.878193   \n",
       "7744  4.374073   4.482854  4.301687  4.494333  4.439609  5.582193  7.877029   \n",
       "7745  4.375431   4.483341  4.304706  4.495460  4.439438  5.579660  7.880521   \n",
       "7746  4.373557   4.482985  4.309968  4.494287  4.439528  5.576629  7.880730   \n",
       "7747  4.374814   4.483509  4.307608  4.493996  4.439603  5.574546  7.881895   \n",
       "\n",
       "       FPZ_04A  FSB_097D  \n",
       "8     6.416275  3.767944  \n",
       "9     6.416492  3.768030  \n",
       "10    6.416061  3.767769  \n",
       "11    6.415847  3.768118  \n",
       "12    6.415980  3.768550  \n",
       "...        ...       ...  \n",
       "7743  7.592293  4.167729  \n",
       "7744  7.593216  4.167895  \n",
       "7745  7.605413  4.167374  \n",
       "7746  7.593132  4.168333  \n",
       "7747  7.589359  4.168072  \n",
       "\n",
       "[7740 rows x 9 columns]"
      ]
     },
     "execution_count": 131,
     "metadata": {},
     "output_type": "execute_result"
    }
   ],
   "source": [
    "df"
   ]
  },
  {
   "cell_type": "code",
   "execution_count": null,
   "id": "7e3a6565-ae81-42d9-9438-1b5c5cfb80dc",
   "metadata": {
    "tags": []
   },
   "outputs": [],
   "source": [
    "plt.figure(figsize=(10, 5))\n",
    "# for index in index_name.values():\n",
    "index = index_name[0]\n",
    "plt.plot(datetime, df[index], marker='.', color=\"red\", label=\"actual-data\")\n",
    "plt.plot(datetime, predicted_df[index], marker='.', color=\"blue\", label = \"predicted-data\")\n",
    "\n",
    "\n",
    "plt.xlabel('Date Time')\n",
    "plt.ylabel('ph')\n",
    "plt.title(f'Plot actual pH and predicted pH for {index}')\n",
    "plt.legend()\n",
    "plt.show()"
   ]
  },
  {
   "cell_type": "code",
   "execution_count": null,
   "id": "a21d428d-d69a-444a-bd59-1b509c3cb3ce",
   "metadata": {},
   "outputs": [],
   "source": []
  }
 ],
 "metadata": {
  "kernelspec": {
   "display_name": "Python 3 (ipykernel)",
   "language": "python",
   "name": "python3"
  },
  "language_info": {
   "codemirror_mode": {
    "name": "ipython",
    "version": 3
   },
   "file_extension": ".py",
   "mimetype": "text/x-python",
   "name": "python",
   "nbconvert_exporter": "python",
   "pygments_lexer": "ipython3",
   "version": "3.11.5"
  }
 },
 "nbformat": 4,
 "nbformat_minor": 5
}

{
 "cells": [
  {
   "cell_type": "code",
   "execution_count": 246,
   "id": "c4aff5fe-1bcc-4986-ae54-84afaa2b3d5e",
   "metadata": {
    "tags": []
   },
   "outputs": [],
   "source": [
    "import numpy as np\n",
    "import pandas as pd\n",
    "from matplotlib import pyplot as  plt\n",
    "from sklearn.preprocessing import StandardScaler\n",
    "from tensorflow.keras.models import Sequential\n",
    "from tensorflow.keras.layers import Conv2D, MaxPooling2D, Dense, Flatten, Reshape"
   ]
  },
  {
   "cell_type": "code",
   "execution_count": 250,
   "id": "604e4cf7-9387-4f66-929a-6e8332eee8d3",
   "metadata": {
    "tags": []
   },
   "outputs": [
    {
     "data": {
      "text/plain": [
       "(7748, 10)"
      ]
     },
     "execution_count": 250,
     "metadata": {},
     "output_type": "execute_result"
    }
   ],
   "source": [
    "input_df = pd.read_csv(\"../../data/csv_files/df_ph1.csv\")\n",
    "input_df.shape"
   ]
  },
  {
   "cell_type": "code",
   "execution_count": 252,
   "id": "e7baaf98-dc5d-4418-ac8f-43d11d953235",
   "metadata": {
    "tags": []
   },
   "outputs": [],
   "source": [
    "first_range = [\"2023-07-28 05:00:00\", \"2023-08-31 22:00:00\"]\n",
    "second_range = [\"2023-10-18 16:00:00\", \"2024-01-01 01:00:00\"]\n",
    "third_range = [\"2024-01-24 14:06:00\", \"2024-06-13 01:00:00\"]\n",
    "time_ranges = [first_range, second_range, third_range]"
   ]
  },
  {
   "cell_type": "code",
   "execution_count": 254,
   "id": "d0d7a889-814c-4062-8d2e-27e0ec33716c",
   "metadata": {
    "tags": []
   },
   "outputs": [
    {
     "data": {
      "text/plain": [
       "(6022, 10)"
      ]
     },
     "execution_count": 254,
     "metadata": {},
     "output_type": "execute_result"
    }
   ],
   "source": [
    "conditions = [((input_df['dt'] >= start) & (input_df['dt'] < end)) for start, end in time_ranges]\n",
    "combined_condition = conditions[0]\n",
    "for condition in conditions[1:]:\n",
    "    combined_condition |= condition\n",
    "\n",
    "new_df = input_df[combined_condition]\n",
    "new_df.shape"
   ]
  },
  {
   "cell_type": "code",
   "execution_count": 256,
   "id": "d9eca841-b2b5-4e97-94c8-e0081d7aaa01",
   "metadata": {
    "tags": []
   },
   "outputs": [
    {
     "data": {
      "text/plain": [
       "{0: 'FEX_004',\n",
       " 1: 'FSB_095DR',\n",
       " 2: 'FSB_078',\n",
       " 3: 'FSB_126',\n",
       " 4: 'FSB_130D',\n",
       " 5: 'FPZ_06A',\n",
       " 6: 'FSB_079',\n",
       " 7: 'FPZ_04A',\n",
       " 8: 'FSB_097D'}"
      ]
     },
     "execution_count": 256,
     "metadata": {},
     "output_type": "execute_result"
    }
   ],
   "source": [
    "stations_name = list(input_df.columns)\n",
    "stations_name.remove(\"dt\")\n",
    "\n",
    "index_name = {}\n",
    "for i, name in enumerate(stations_name):\n",
    "    index_name[i] = name\n",
    "index_name"
   ]
  },
  {
   "cell_type": "code",
   "execution_count": 258,
   "id": "e9a0c4b1-a1ea-47c8-94af-e7b60143701c",
   "metadata": {
    "tags": []
   },
   "outputs": [
    {
     "data": {
      "text/plain": [
       "dt             0\n",
       "FEX_004       33\n",
       "FSB_095DR     65\n",
       "FSB_078       32\n",
       "FSB_126      907\n",
       "FSB_130D     259\n",
       "FPZ_06A       36\n",
       "FSB_079       31\n",
       "FPZ_04A      121\n",
       "FSB_097D     198\n",
       "dtype: int64"
      ]
     },
     "execution_count": 258,
     "metadata": {},
     "output_type": "execute_result"
    }
   ],
   "source": [
    "new_df.isna().sum()"
   ]
  },
  {
   "cell_type": "code",
   "execution_count": 260,
   "id": "4c9c1c01-18f1-4598-8ac8-abbd217f55d6",
   "metadata": {
    "tags": []
   },
   "outputs": [],
   "source": [
    "input_df = new_df.interpolate(method=\"linear\")"
   ]
  },
  {
   "cell_type": "code",
   "execution_count": 262,
   "id": "169e96b5-152c-4d32-aa55-10c600d7c623",
   "metadata": {
    "tags": []
   },
   "outputs": [
    {
     "data": {
      "text/plain": [
       "dt           0\n",
       "FEX_004      0\n",
       "FSB_095DR    0\n",
       "FSB_078      0\n",
       "FSB_126      0\n",
       "FSB_130D     0\n",
       "FPZ_06A      0\n",
       "FSB_079      0\n",
       "FPZ_04A      0\n",
       "FSB_097D     0\n",
       "dtype: int64"
      ]
     },
     "execution_count": 262,
     "metadata": {},
     "output_type": "execute_result"
    }
   ],
   "source": [
    "input_df.isna().sum()"
   ]
  },
  {
   "cell_type": "code",
   "execution_count": 264,
   "id": "fe695097-3e2f-48be-bb42-7bf0af7d9eb3",
   "metadata": {
    "tags": []
   },
   "outputs": [
    {
     "data": {
      "text/plain": [
       "(6020, 9)"
      ]
     },
     "execution_count": 264,
     "metadata": {},
     "output_type": "execute_result"
    }
   ],
   "source": [
    "datetime = input_df['dt']\n",
    "df = input_df[2:]\n",
    "datetime = df['dt']\n",
    "df = df.drop(columns = ['dt'])\n",
    "df.shape"
   ]
  },
  {
   "cell_type": "code",
   "execution_count": 266,
   "id": "05b4baef-6cc8-4f8b-92fc-936f6ea9a92b",
   "metadata": {
    "tags": []
   },
   "outputs": [],
   "source": [
    "arr = df.values"
   ]
  },
  {
   "cell_type": "code",
   "execution_count": 268,
   "id": "899c99df-4027-4ff1-bc1d-62d136449baa",
   "metadata": {
    "tags": []
   },
   "outputs": [
    {
     "data": {
      "text/plain": [
       "(6020, 9, 1)"
      ]
     },
     "execution_count": 268,
     "metadata": {},
     "output_type": "execute_result"
    }
   ],
   "source": [
    "reshaped_arr = arr.reshape((6020, 9, 1))\n",
    "reshaped_arr.shape"
   ]
  },
  {
   "cell_type": "code",
   "execution_count": 270,
   "id": "281c7c60-9e19-45f4-810b-3dcbd9727bb4",
   "metadata": {
    "tags": []
   },
   "outputs": [],
   "source": [
    "def create_4d_array(array, window_size, overlap):\n",
    "    step = window_size - overlap\n",
    "    num_rows, num_columns, depth = array.shape\n",
    "    num_windows = (num_rows - window_size) // step + 1\n",
    "\n",
    "    array_4d = np.zeros((num_windows, window_size, num_columns, depth))\n",
    "\n",
    "    count = 0\n",
    "    for i in range(0, num_windows, step):\n",
    "        array_4d[count] = array[i:i+window_size]\n",
    "        count += 1\n",
    "\n",
    "    return array_4d"
   ]
  },
  {
   "cell_type": "code",
   "execution_count": 274,
   "id": "52d8c73c-f865-4950-989e-9747d9ebce23",
   "metadata": {
    "tags": []
   },
   "outputs": [
    {
     "data": {
      "text/plain": [
       "(1503, 10, 9, 1)"
      ]
     },
     "execution_count": 274,
     "metadata": {},
     "output_type": "execute_result"
    }
   ],
   "source": [
    "X_train = create_4d_array(reshaped_arr, 10, 6)\n",
    "X_train.shape"
   ]
  },
  {
   "cell_type": "code",
   "execution_count": 300,
   "id": "6d9fd706-80c1-495c-8f79-837b58667f8c",
   "metadata": {
    "tags": []
   },
   "outputs": [
    {
     "name": "stderr",
     "output_type": "stream",
     "text": [
      "/Users/sandeshgnawali/anaconda3/lib/python3.11/site-packages/keras/src/layers/convolutional/base_conv.py:107: UserWarning: Do not pass an `input_shape`/`input_dim` argument to a layer. When using Sequential models, prefer using an `Input(shape)` object as the first layer in the model instead.\n",
      "  super().__init__(activity_regularizer=activity_regularizer, **kwargs)\n"
     ]
    }
   ],
   "source": [
    "model = Sequential([\n",
    "    Conv2D(32, kernel_size=(3,1), activation='relu', input_shape=(10, 9, 1)),\n",
    "    \n",
    "    Conv2D(64, kernel_size=(3,1), activation='relu'),\n",
    "    \n",
    "    Flatten(),    \n",
    "    Dense(64, activation='relu'),\n",
    "    Dense(10 * 9 * 1 , activation='linear'),\n",
    "    Reshape((10, 9, 1))\n",
    "])\n",
    "\n",
    "model.compile(optimizer='adam', loss='mean_squared_error') "
   ]
  },
  {
   "cell_type": "code",
   "execution_count": 302,
   "id": "75908d8b-becd-4993-bd83-96c12ee62a91",
   "metadata": {
    "tags": []
   },
   "outputs": [
    {
     "name": "stdout",
     "output_type": "stream",
     "text": [
      "Epoch 1/100\n",
      "\u001b[1m24/24\u001b[0m \u001b[32m━━━━━━━━━━━━━━━━━━━━\u001b[0m\u001b[37m\u001b[0m \u001b[1m0s\u001b[0m 2ms/step - loss: 5.8114 \n",
      "Epoch 2/100\n",
      "\u001b[1m24/24\u001b[0m \u001b[32m━━━━━━━━━━━━━━━━━━━━\u001b[0m\u001b[37m\u001b[0m \u001b[1m0s\u001b[0m 3ms/step - loss: 3.0484\n",
      "Epoch 3/100\n",
      "\u001b[1m24/24\u001b[0m \u001b[32m━━━━━━━━━━━━━━━━━━━━\u001b[0m\u001b[37m\u001b[0m \u001b[1m0s\u001b[0m 3ms/step - loss: 0.8827\n",
      "Epoch 4/100\n",
      "\u001b[1m24/24\u001b[0m \u001b[32m━━━━━━━━━━━━━━━━━━━━\u001b[0m\u001b[37m\u001b[0m \u001b[1m0s\u001b[0m 3ms/step - loss: 0.1994\n",
      "Epoch 5/100\n",
      "\u001b[1m24/24\u001b[0m \u001b[32m━━━━━━━━━━━━━━━━━━━━\u001b[0m\u001b[37m\u001b[0m \u001b[1m0s\u001b[0m 2ms/step - loss: 0.0350\n",
      "Epoch 6/100\n",
      "\u001b[1m24/24\u001b[0m \u001b[32m━━━━━━━━━━━━━━━━━━━━\u001b[0m\u001b[37m\u001b[0m \u001b[1m0s\u001b[0m 2ms/step - loss: 0.0060\n",
      "Epoch 7/100\n",
      "\u001b[1m24/24\u001b[0m \u001b[32m━━━━━━━━━━━━━━━━━━━━\u001b[0m\u001b[37m\u001b[0m \u001b[1m0s\u001b[0m 2ms/step - loss: 0.0031\n",
      "Epoch 8/100\n",
      "\u001b[1m24/24\u001b[0m \u001b[32m━━━━━━━━━━━━━━━━━━━━\u001b[0m\u001b[37m\u001b[0m \u001b[1m0s\u001b[0m 2ms/step - loss: 0.0026\n",
      "Epoch 9/100\n",
      "\u001b[1m24/24\u001b[0m \u001b[32m━━━━━━━━━━━━━━━━━━━━\u001b[0m\u001b[37m\u001b[0m \u001b[1m0s\u001b[0m 3ms/step - loss: 0.0024\n",
      "Epoch 10/100\n",
      "\u001b[1m24/24\u001b[0m \u001b[32m━━━━━━━━━━━━━━━━━━━━\u001b[0m\u001b[37m\u001b[0m \u001b[1m0s\u001b[0m 3ms/step - loss: 0.0023\n",
      "Epoch 11/100\n",
      "\u001b[1m24/24\u001b[0m \u001b[32m━━━━━━━━━━━━━━━━━━━━\u001b[0m\u001b[37m\u001b[0m \u001b[1m0s\u001b[0m 2ms/step - loss: 0.0023\n",
      "Epoch 12/100\n",
      "\u001b[1m24/24\u001b[0m \u001b[32m━━━━━━━━━━━━━━━━━━━━\u001b[0m\u001b[37m\u001b[0m \u001b[1m0s\u001b[0m 3ms/step - loss: 0.0023\n",
      "Epoch 13/100\n",
      "\u001b[1m24/24\u001b[0m \u001b[32m━━━━━━━━━━━━━━━━━━━━\u001b[0m\u001b[37m\u001b[0m \u001b[1m0s\u001b[0m 4ms/step - loss: 0.0023\n",
      "Epoch 14/100\n",
      "\u001b[1m24/24\u001b[0m \u001b[32m━━━━━━━━━━━━━━━━━━━━\u001b[0m\u001b[37m\u001b[0m \u001b[1m0s\u001b[0m 3ms/step - loss: 0.0022\n",
      "Epoch 15/100\n",
      "\u001b[1m24/24\u001b[0m \u001b[32m━━━━━━━━━━━━━━━━━━━━\u001b[0m\u001b[37m\u001b[0m \u001b[1m0s\u001b[0m 3ms/step - loss: 0.0025\n",
      "Epoch 16/100\n",
      "\u001b[1m24/24\u001b[0m \u001b[32m━━━━━━━━━━━━━━━━━━━━\u001b[0m\u001b[37m\u001b[0m \u001b[1m0s\u001b[0m 3ms/step - loss: 0.0025\n",
      "Epoch 17/100\n",
      "\u001b[1m24/24\u001b[0m \u001b[32m━━━━━━━━━━━━━━━━━━━━\u001b[0m\u001b[37m\u001b[0m \u001b[1m0s\u001b[0m 3ms/step - loss: 0.0025\n",
      "Epoch 18/100\n",
      "\u001b[1m24/24\u001b[0m \u001b[32m━━━━━━━━━━━━━━━━━━━━\u001b[0m\u001b[37m\u001b[0m \u001b[1m0s\u001b[0m 3ms/step - loss: 0.0024\n",
      "Epoch 19/100\n",
      "\u001b[1m24/24\u001b[0m \u001b[32m━━━━━━━━━━━━━━━━━━━━\u001b[0m\u001b[37m\u001b[0m \u001b[1m0s\u001b[0m 2ms/step - loss: 0.0028\n",
      "Epoch 20/100\n",
      "\u001b[1m24/24\u001b[0m \u001b[32m━━━━━━━━━━━━━━━━━━━━\u001b[0m\u001b[37m\u001b[0m \u001b[1m0s\u001b[0m 4ms/step - loss: 0.0024\n",
      "Epoch 21/100\n",
      "\u001b[1m24/24\u001b[0m \u001b[32m━━━━━━━━━━━━━━━━━━━━\u001b[0m\u001b[37m\u001b[0m \u001b[1m0s\u001b[0m 2ms/step - loss: 0.0021\n",
      "Epoch 22/100\n",
      "\u001b[1m24/24\u001b[0m \u001b[32m━━━━━━━━━━━━━━━━━━━━\u001b[0m\u001b[37m\u001b[0m \u001b[1m0s\u001b[0m 3ms/step - loss: 0.0021\n",
      "Epoch 23/100\n",
      "\u001b[1m24/24\u001b[0m \u001b[32m━━━━━━━━━━━━━━━━━━━━\u001b[0m\u001b[37m\u001b[0m \u001b[1m0s\u001b[0m 3ms/step - loss: 0.0022\n",
      "Epoch 24/100\n",
      "\u001b[1m24/24\u001b[0m \u001b[32m━━━━━━━━━━━━━━━━━━━━\u001b[0m\u001b[37m\u001b[0m \u001b[1m0s\u001b[0m 3ms/step - loss: 0.0023\n",
      "Epoch 25/100\n",
      "\u001b[1m24/24\u001b[0m \u001b[32m━━━━━━━━━━━━━━━━━━━━\u001b[0m\u001b[37m\u001b[0m \u001b[1m0s\u001b[0m 2ms/step - loss: 0.0033\n",
      "Epoch 26/100\n",
      "\u001b[1m24/24\u001b[0m \u001b[32m━━━━━━━━━━━━━━━━━━━━\u001b[0m\u001b[37m\u001b[0m \u001b[1m0s\u001b[0m 3ms/step - loss: 0.0070\n",
      "Epoch 27/100\n",
      "\u001b[1m24/24\u001b[0m \u001b[32m━━━━━━━━━━━━━━━━━━━━\u001b[0m\u001b[37m\u001b[0m \u001b[1m0s\u001b[0m 2ms/step - loss: 0.0028\n",
      "Epoch 28/100\n",
      "\u001b[1m24/24\u001b[0m \u001b[32m━━━━━━━━━━━━━━━━━━━━\u001b[0m\u001b[37m\u001b[0m \u001b[1m0s\u001b[0m 3ms/step - loss: 0.0022\n",
      "Epoch 29/100\n",
      "\u001b[1m24/24\u001b[0m \u001b[32m━━━━━━━━━━━━━━━━━━━━\u001b[0m\u001b[37m\u001b[0m \u001b[1m0s\u001b[0m 2ms/step - loss: 0.0022\n",
      "Epoch 30/100\n",
      "\u001b[1m24/24\u001b[0m \u001b[32m━━━━━━━━━━━━━━━━━━━━\u001b[0m\u001b[37m\u001b[0m \u001b[1m0s\u001b[0m 3ms/step - loss: 0.0025\n",
      "Epoch 31/100\n",
      "\u001b[1m24/24\u001b[0m \u001b[32m━━━━━━━━━━━━━━━━━━━━\u001b[0m\u001b[37m\u001b[0m \u001b[1m0s\u001b[0m 3ms/step - loss: 0.0020\n",
      "Epoch 32/100\n",
      "\u001b[1m24/24\u001b[0m \u001b[32m━━━━━━━━━━━━━━━━━━━━\u001b[0m\u001b[37m\u001b[0m \u001b[1m0s\u001b[0m 3ms/step - loss: 0.0021\n",
      "Epoch 33/100\n",
      "\u001b[1m24/24\u001b[0m \u001b[32m━━━━━━━━━━━━━━━━━━━━\u001b[0m\u001b[37m\u001b[0m \u001b[1m0s\u001b[0m 3ms/step - loss: 0.0022\n",
      "Epoch 34/100\n",
      "\u001b[1m24/24\u001b[0m \u001b[32m━━━━━━━━━━━━━━━━━━━━\u001b[0m\u001b[37m\u001b[0m \u001b[1m0s\u001b[0m 3ms/step - loss: 0.0023\n",
      "Epoch 35/100\n",
      "\u001b[1m24/24\u001b[0m \u001b[32m━━━━━━━━━━━━━━━━━━━━\u001b[0m\u001b[37m\u001b[0m \u001b[1m0s\u001b[0m 3ms/step - loss: 0.0021\n",
      "Epoch 36/100\n",
      "\u001b[1m24/24\u001b[0m \u001b[32m━━━━━━━━━━━━━━━━━━━━\u001b[0m\u001b[37m\u001b[0m \u001b[1m0s\u001b[0m 3ms/step - loss: 0.0022\n",
      "Epoch 37/100\n",
      "\u001b[1m24/24\u001b[0m \u001b[32m━━━━━━━━━━━━━━━━━━━━\u001b[0m\u001b[37m\u001b[0m \u001b[1m0s\u001b[0m 2ms/step - loss: 0.0020\n",
      "Epoch 38/100\n",
      "\u001b[1m24/24\u001b[0m \u001b[32m━━━━━━━━━━━━━━━━━━━━\u001b[0m\u001b[37m\u001b[0m \u001b[1m0s\u001b[0m 3ms/step - loss: 0.0021\n",
      "Epoch 39/100\n",
      "\u001b[1m24/24\u001b[0m \u001b[32m━━━━━━━━━━━━━━━━━━━━\u001b[0m\u001b[37m\u001b[0m \u001b[1m0s\u001b[0m 2ms/step - loss: 0.0019\n",
      "Epoch 40/100\n",
      "\u001b[1m24/24\u001b[0m \u001b[32m━━━━━━━━━━━━━━━━━━━━\u001b[0m\u001b[37m\u001b[0m \u001b[1m0s\u001b[0m 3ms/step - loss: 0.0021\n",
      "Epoch 41/100\n",
      "\u001b[1m24/24\u001b[0m \u001b[32m━━━━━━━━━━━━━━━━━━━━\u001b[0m\u001b[37m\u001b[0m \u001b[1m0s\u001b[0m 3ms/step - loss: 0.0022\n",
      "Epoch 42/100\n",
      "\u001b[1m24/24\u001b[0m \u001b[32m━━━━━━━━━━━━━━━━━━━━\u001b[0m\u001b[37m\u001b[0m \u001b[1m0s\u001b[0m 3ms/step - loss: 0.0020\n",
      "Epoch 43/100\n",
      "\u001b[1m24/24\u001b[0m \u001b[32m━━━━━━━━━━━━━━━━━━━━\u001b[0m\u001b[37m\u001b[0m \u001b[1m0s\u001b[0m 3ms/step - loss: 0.0021\n",
      "Epoch 44/100\n",
      "\u001b[1m24/24\u001b[0m \u001b[32m━━━━━━━━━━━━━━━━━━━━\u001b[0m\u001b[37m\u001b[0m \u001b[1m0s\u001b[0m 3ms/step - loss: 0.0032\n",
      "Epoch 45/100\n",
      "\u001b[1m24/24\u001b[0m \u001b[32m━━━━━━━━━━━━━━━━━━━━\u001b[0m\u001b[37m\u001b[0m \u001b[1m0s\u001b[0m 3ms/step - loss: 0.0027\n",
      "Epoch 46/100\n",
      "\u001b[1m24/24\u001b[0m \u001b[32m━━━━━━━━━━━━━━━━━━━━\u001b[0m\u001b[37m\u001b[0m \u001b[1m0s\u001b[0m 3ms/step - loss: 0.0022\n",
      "Epoch 47/100\n",
      "\u001b[1m24/24\u001b[0m \u001b[32m━━━━━━━━━━━━━━━━━━━━\u001b[0m\u001b[37m\u001b[0m \u001b[1m0s\u001b[0m 3ms/step - loss: 0.0022\n",
      "Epoch 48/100\n",
      "\u001b[1m24/24\u001b[0m \u001b[32m━━━━━━━━━━━━━━━━━━━━\u001b[0m\u001b[37m\u001b[0m \u001b[1m0s\u001b[0m 3ms/step - loss: 0.0021\n",
      "Epoch 49/100\n",
      "\u001b[1m24/24\u001b[0m \u001b[32m━━━━━━━━━━━━━━━━━━━━\u001b[0m\u001b[37m\u001b[0m \u001b[1m0s\u001b[0m 3ms/step - loss: 0.0022\n",
      "Epoch 50/100\n",
      "\u001b[1m24/24\u001b[0m \u001b[32m━━━━━━━━━━━━━━━━━━━━\u001b[0m\u001b[37m\u001b[0m \u001b[1m0s\u001b[0m 4ms/step - loss: 0.0022\n",
      "Epoch 51/100\n",
      "\u001b[1m24/24\u001b[0m \u001b[32m━━━━━━━━━━━━━━━━━━━━\u001b[0m\u001b[37m\u001b[0m \u001b[1m0s\u001b[0m 3ms/step - loss: 0.0022\n",
      "Epoch 52/100\n",
      "\u001b[1m24/24\u001b[0m \u001b[32m━━━━━━━━━━━━━━━━━━━━\u001b[0m\u001b[37m\u001b[0m \u001b[1m0s\u001b[0m 3ms/step - loss: 0.0023\n",
      "Epoch 53/100\n",
      "\u001b[1m24/24\u001b[0m \u001b[32m━━━━━━━━━━━━━━━━━━━━\u001b[0m\u001b[37m\u001b[0m \u001b[1m0s\u001b[0m 3ms/step - loss: 0.0028\n",
      "Epoch 54/100\n",
      "\u001b[1m24/24\u001b[0m \u001b[32m━━━━━━━━━━━━━━━━━━━━\u001b[0m\u001b[37m\u001b[0m \u001b[1m0s\u001b[0m 3ms/step - loss: 0.0078\n",
      "Epoch 55/100\n",
      "\u001b[1m24/24\u001b[0m \u001b[32m━━━━━━━━━━━━━━━━━━━━\u001b[0m\u001b[37m\u001b[0m \u001b[1m0s\u001b[0m 3ms/step - loss: 0.0061\n",
      "Epoch 56/100\n",
      "\u001b[1m24/24\u001b[0m \u001b[32m━━━━━━━━━━━━━━━━━━━━\u001b[0m\u001b[37m\u001b[0m \u001b[1m0s\u001b[0m 3ms/step - loss: 0.0025\n",
      "Epoch 57/100\n",
      "\u001b[1m24/24\u001b[0m \u001b[32m━━━━━━━━━━━━━━━━━━━━\u001b[0m\u001b[37m\u001b[0m \u001b[1m0s\u001b[0m 3ms/step - loss: 0.0020\n",
      "Epoch 58/100\n",
      "\u001b[1m24/24\u001b[0m \u001b[32m━━━━━━━━━━━━━━━━━━━━\u001b[0m\u001b[37m\u001b[0m \u001b[1m0s\u001b[0m 3ms/step - loss: 0.0020\n",
      "Epoch 59/100\n",
      "\u001b[1m24/24\u001b[0m \u001b[32m━━━━━━━━━━━━━━━━━━━━\u001b[0m\u001b[37m\u001b[0m \u001b[1m0s\u001b[0m 3ms/step - loss: 0.0021\n",
      "Epoch 60/100\n",
      "\u001b[1m24/24\u001b[0m \u001b[32m━━━━━━━━━━━━━━━━━━━━\u001b[0m\u001b[37m\u001b[0m \u001b[1m0s\u001b[0m 3ms/step - loss: 0.0021\n",
      "Epoch 61/100\n",
      "\u001b[1m24/24\u001b[0m \u001b[32m━━━━━━━━━━━━━━━━━━━━\u001b[0m\u001b[37m\u001b[0m \u001b[1m0s\u001b[0m 3ms/step - loss: 0.0020\n",
      "Epoch 62/100\n",
      "\u001b[1m24/24\u001b[0m \u001b[32m━━━━━━━━━━━━━━━━━━━━\u001b[0m\u001b[37m\u001b[0m \u001b[1m0s\u001b[0m 3ms/step - loss: 0.0021\n",
      "Epoch 63/100\n",
      "\u001b[1m24/24\u001b[0m \u001b[32m━━━━━━━━━━━━━━━━━━━━\u001b[0m\u001b[37m\u001b[0m \u001b[1m0s\u001b[0m 4ms/step - loss: 0.0020\n",
      "Epoch 64/100\n",
      "\u001b[1m24/24\u001b[0m \u001b[32m━━━━━━━━━━━━━━━━━━━━\u001b[0m\u001b[37m\u001b[0m \u001b[1m0s\u001b[0m 3ms/step - loss: 0.0025\n",
      "Epoch 65/100\n",
      "\u001b[1m24/24\u001b[0m \u001b[32m━━━━━━━━━━━━━━━━━━━━\u001b[0m\u001b[37m\u001b[0m \u001b[1m0s\u001b[0m 3ms/step - loss: 0.0022\n",
      "Epoch 66/100\n",
      "\u001b[1m24/24\u001b[0m \u001b[32m━━━━━━━━━━━━━━━━━━━━\u001b[0m\u001b[37m\u001b[0m \u001b[1m0s\u001b[0m 3ms/step - loss: 0.0022\n",
      "Epoch 67/100\n",
      "\u001b[1m24/24\u001b[0m \u001b[32m━━━━━━━━━━━━━━━━━━━━\u001b[0m\u001b[37m\u001b[0m \u001b[1m0s\u001b[0m 3ms/step - loss: 0.0022\n",
      "Epoch 68/100\n",
      "\u001b[1m24/24\u001b[0m \u001b[32m━━━━━━━━━━━━━━━━━━━━\u001b[0m\u001b[37m\u001b[0m \u001b[1m0s\u001b[0m 3ms/step - loss: 0.0022\n",
      "Epoch 69/100\n",
      "\u001b[1m24/24\u001b[0m \u001b[32m━━━━━━━━━━━━━━━━━━━━\u001b[0m\u001b[37m\u001b[0m \u001b[1m0s\u001b[0m 3ms/step - loss: 0.0021\n",
      "Epoch 70/100\n",
      "\u001b[1m24/24\u001b[0m \u001b[32m━━━━━━━━━━━━━━━━━━━━\u001b[0m\u001b[37m\u001b[0m \u001b[1m0s\u001b[0m 3ms/step - loss: 0.0020\n",
      "Epoch 71/100\n",
      "\u001b[1m24/24\u001b[0m \u001b[32m━━━━━━━━━━━━━━━━━━━━\u001b[0m\u001b[37m\u001b[0m \u001b[1m0s\u001b[0m 3ms/step - loss: 0.0020\n",
      "Epoch 72/100\n",
      "\u001b[1m24/24\u001b[0m \u001b[32m━━━━━━━━━━━━━━━━━━━━\u001b[0m\u001b[37m\u001b[0m \u001b[1m0s\u001b[0m 3ms/step - loss: 0.0019\n",
      "Epoch 73/100\n",
      "\u001b[1m24/24\u001b[0m \u001b[32m━━━━━━━━━━━━━━━━━━━━\u001b[0m\u001b[37m\u001b[0m \u001b[1m0s\u001b[0m 4ms/step - loss: 0.0021\n",
      "Epoch 74/100\n",
      "\u001b[1m24/24\u001b[0m \u001b[32m━━━━━━━━━━━━━━━━━━━━\u001b[0m\u001b[37m\u001b[0m \u001b[1m0s\u001b[0m 3ms/step - loss: 0.0019\n",
      "Epoch 75/100\n",
      "\u001b[1m24/24\u001b[0m \u001b[32m━━━━━━━━━━━━━━━━━━━━\u001b[0m\u001b[37m\u001b[0m \u001b[1m0s\u001b[0m 3ms/step - loss: 0.0020\n",
      "Epoch 76/100\n",
      "\u001b[1m24/24\u001b[0m \u001b[32m━━━━━━━━━━━━━━━━━━━━\u001b[0m\u001b[37m\u001b[0m \u001b[1m0s\u001b[0m 3ms/step - loss: 0.0020\n",
      "Epoch 77/100\n",
      "\u001b[1m24/24\u001b[0m \u001b[32m━━━━━━━━━━━━━━━━━━━━\u001b[0m\u001b[37m\u001b[0m \u001b[1m0s\u001b[0m 3ms/step - loss: 0.0020\n",
      "Epoch 78/100\n",
      "\u001b[1m24/24\u001b[0m \u001b[32m━━━━━━━━━━━━━━━━━━━━\u001b[0m\u001b[37m\u001b[0m \u001b[1m0s\u001b[0m 3ms/step - loss: 0.0019    \n",
      "Epoch 79/100\n",
      "\u001b[1m24/24\u001b[0m \u001b[32m━━━━━━━━━━━━━━━━━━━━\u001b[0m\u001b[37m\u001b[0m \u001b[1m0s\u001b[0m 3ms/step - loss: 0.0021\n",
      "Epoch 80/100\n",
      "\u001b[1m24/24\u001b[0m \u001b[32m━━━━━━━━━━━━━━━━━━━━\u001b[0m\u001b[37m\u001b[0m \u001b[1m0s\u001b[0m 3ms/step - loss: 0.0022\n",
      "Epoch 81/100\n",
      "\u001b[1m24/24\u001b[0m \u001b[32m━━━━━━━━━━━━━━━━━━━━\u001b[0m\u001b[37m\u001b[0m \u001b[1m0s\u001b[0m 3ms/step - loss: 0.0020\n",
      "Epoch 82/100\n",
      "\u001b[1m24/24\u001b[0m \u001b[32m━━━━━━━━━━━━━━━━━━━━\u001b[0m\u001b[37m\u001b[0m \u001b[1m0s\u001b[0m 3ms/step - loss: 0.0021\n",
      "Epoch 83/100\n",
      "\u001b[1m24/24\u001b[0m \u001b[32m━━━━━━━━━━━━━━━━━━━━\u001b[0m\u001b[37m\u001b[0m \u001b[1m0s\u001b[0m 3ms/step - loss: 0.0019\n",
      "Epoch 84/100\n",
      "\u001b[1m24/24\u001b[0m \u001b[32m━━━━━━━━━━━━━━━━━━━━\u001b[0m\u001b[37m\u001b[0m \u001b[1m0s\u001b[0m 2ms/step - loss: 0.0026\n",
      "Epoch 85/100\n",
      "\u001b[1m24/24\u001b[0m \u001b[32m━━━━━━━━━━━━━━━━━━━━\u001b[0m\u001b[37m\u001b[0m \u001b[1m0s\u001b[0m 3ms/step - loss: 0.0026\n",
      "Epoch 86/100\n",
      "\u001b[1m24/24\u001b[0m \u001b[32m━━━━━━━━━━━━━━━━━━━━\u001b[0m\u001b[37m\u001b[0m \u001b[1m0s\u001b[0m 3ms/step - loss: 0.0166\n",
      "Epoch 87/100\n",
      "\u001b[1m24/24\u001b[0m \u001b[32m━━━━━━━━━━━━━━━━━━━━\u001b[0m\u001b[37m\u001b[0m \u001b[1m0s\u001b[0m 3ms/step - loss: 0.0104\n",
      "Epoch 88/100\n",
      "\u001b[1m24/24\u001b[0m \u001b[32m━━━━━━━━━━━━━━━━━━━━\u001b[0m\u001b[37m\u001b[0m \u001b[1m0s\u001b[0m 3ms/step - loss: 0.0030\n",
      "Epoch 89/100\n",
      "\u001b[1m24/24\u001b[0m \u001b[32m━━━━━━━━━━━━━━━━━━━━\u001b[0m\u001b[37m\u001b[0m \u001b[1m0s\u001b[0m 3ms/step - loss: 0.0023\n",
      "Epoch 90/100\n",
      "\u001b[1m24/24\u001b[0m \u001b[32m━━━━━━━━━━━━━━━━━━━━\u001b[0m\u001b[37m\u001b[0m \u001b[1m0s\u001b[0m 3ms/step - loss: 0.0021\n",
      "Epoch 91/100\n",
      "\u001b[1m24/24\u001b[0m \u001b[32m━━━━━━━━━━━━━━━━━━━━\u001b[0m\u001b[37m\u001b[0m \u001b[1m0s\u001b[0m 3ms/step - loss: 0.0021\n",
      "Epoch 92/100\n",
      "\u001b[1m24/24\u001b[0m \u001b[32m━━━━━━━━━━━━━━━━━━━━\u001b[0m\u001b[37m\u001b[0m \u001b[1m0s\u001b[0m 4ms/step - loss: 0.0020\n",
      "Epoch 93/100\n",
      "\u001b[1m24/24\u001b[0m \u001b[32m━━━━━━━━━━━━━━━━━━━━\u001b[0m\u001b[37m\u001b[0m \u001b[1m0s\u001b[0m 3ms/step - loss: 0.0020\n",
      "Epoch 94/100\n",
      "\u001b[1m24/24\u001b[0m \u001b[32m━━━━━━━━━━━━━━━━━━━━\u001b[0m\u001b[37m\u001b[0m \u001b[1m0s\u001b[0m 3ms/step - loss: 0.0019\n",
      "Epoch 95/100\n",
      "\u001b[1m24/24\u001b[0m \u001b[32m━━━━━━━━━━━━━━━━━━━━\u001b[0m\u001b[37m\u001b[0m \u001b[1m0s\u001b[0m 3ms/step - loss: 0.0019\n",
      "Epoch 96/100\n",
      "\u001b[1m24/24\u001b[0m \u001b[32m━━━━━━━━━━━━━━━━━━━━\u001b[0m\u001b[37m\u001b[0m \u001b[1m0s\u001b[0m 3ms/step - loss: 0.0018\n",
      "Epoch 97/100\n",
      "\u001b[1m24/24\u001b[0m \u001b[32m━━━━━━━━━━━━━━━━━━━━\u001b[0m\u001b[37m\u001b[0m \u001b[1m0s\u001b[0m 3ms/step - loss: 0.0020\n",
      "Epoch 98/100\n",
      "\u001b[1m24/24\u001b[0m \u001b[32m━━━━━━━━━━━━━━━━━━━━\u001b[0m\u001b[37m\u001b[0m \u001b[1m0s\u001b[0m 3ms/step - loss: 0.0019\n",
      "Epoch 99/100\n",
      "\u001b[1m24/24\u001b[0m \u001b[32m━━━━━━━━━━━━━━━━━━━━\u001b[0m\u001b[37m\u001b[0m \u001b[1m0s\u001b[0m 3ms/step - loss: 0.0021\n",
      "Epoch 100/100\n",
      "\u001b[1m24/24\u001b[0m \u001b[32m━━━━━━━━━━━━━━━━━━━━\u001b[0m\u001b[37m\u001b[0m \u001b[1m0s\u001b[0m 4ms/step - loss: 0.0019\n"
     ]
    },
    {
     "data": {
      "text/plain": [
       "<keras.src.callbacks.history.History at 0x30db4d590>"
      ]
     },
     "execution_count": 302,
     "metadata": {},
     "output_type": "execute_result"
    }
   ],
   "source": [
    "model.fit(X_train, X_train, epochs = 100, batch_size = 64)"
   ]
  },
  {
   "cell_type": "code",
   "execution_count": 304,
   "id": "1c469e36-bb1f-431b-b912-b110242b3e09",
   "metadata": {
    "tags": []
   },
   "outputs": [],
   "source": [
    "X_test = create_4d_array(reshaped_arr, 10, 0)"
   ]
  },
  {
   "cell_type": "code",
   "execution_count": 306,
   "id": "8d2b0477-16aa-47c5-9668-59569f52a64a",
   "metadata": {
    "tags": []
   },
   "outputs": [
    {
     "data": {
      "text/plain": [
       "(602, 10, 9, 1)"
      ]
     },
     "execution_count": 306,
     "metadata": {},
     "output_type": "execute_result"
    }
   ],
   "source": [
    "X_test.shape"
   ]
  },
  {
   "cell_type": "code",
   "execution_count": 327,
   "id": "e3a08425-3dcf-45a3-af48-509302e5340d",
   "metadata": {
    "tags": []
   },
   "outputs": [
    {
     "name": "stdout",
     "output_type": "stream",
     "text": [
      "\u001b[1m19/19\u001b[0m \u001b[32m━━━━━━━━━━━━━━━━━━━━\u001b[0m\u001b[37m\u001b[0m \u001b[1m0s\u001b[0m 1ms/step - loss: 0.0016 \n"
     ]
    },
    {
     "data": {
      "text/plain": [
       "0.0005492917262017727"
      ]
     },
     "execution_count": 327,
     "metadata": {},
     "output_type": "execute_result"
    }
   ],
   "source": [
    "model.evaluate(X_test, X_test)"
   ]
  },
  {
   "cell_type": "code",
   "execution_count": 329,
   "id": "89983093-4290-4355-bb0c-717d7db9064f",
   "metadata": {
    "tags": []
   },
   "outputs": [
    {
     "name": "stdout",
     "output_type": "stream",
     "text": [
      "\u001b[1m19/19\u001b[0m \u001b[32m━━━━━━━━━━━━━━━━━━━━\u001b[0m\u001b[37m\u001b[0m \u001b[1m0s\u001b[0m 984us/step\n"
     ]
    }
   ],
   "source": [
    "y_pred = model.predict(X_test)"
   ]
  },
  {
   "cell_type": "code",
   "execution_count": 331,
   "id": "4fb53de7-68d0-4a67-a731-1d4e4fc5c616",
   "metadata": {
    "tags": []
   },
   "outputs": [
    {
     "data": {
      "text/plain": [
       "(6020, 9)"
      ]
     },
     "execution_count": 331,
     "metadata": {},
     "output_type": "execute_result"
    }
   ],
   "source": [
    "y_pred_reshaped = y_pred.reshape((-1, 9))\n",
    "y_pred_reshaped.shape"
   ]
  },
  {
   "cell_type": "code",
   "execution_count": 333,
   "id": "1914a75f-35f6-4623-8cc0-204217c54d84",
   "metadata": {
    "tags": []
   },
   "outputs": [],
   "source": [
    "predicted_df = pd.DataFrame(y_pred_reshaped)"
   ]
  },
  {
   "cell_type": "code",
   "execution_count": 335,
   "id": "2cdcab6e-aafd-4bdb-a487-d4c8fa77fdc6",
   "metadata": {
    "tags": []
   },
   "outputs": [],
   "source": [
    "predicted_df.rename(columns = index_name, inplace = True)"
   ]
  },
  {
   "cell_type": "code",
   "execution_count": 337,
   "id": "e7b1212f-2d4c-4ff0-9822-72dee9950543",
   "metadata": {
    "tags": []
   },
   "outputs": [
    {
     "data": {
      "text/html": [
       "<div>\n",
       "<style scoped>\n",
       "    .dataframe tbody tr th:only-of-type {\n",
       "        vertical-align: middle;\n",
       "    }\n",
       "\n",
       "    .dataframe tbody tr th {\n",
       "        vertical-align: top;\n",
       "    }\n",
       "\n",
       "    .dataframe thead th {\n",
       "        text-align: right;\n",
       "    }\n",
       "</style>\n",
       "<table border=\"1\" class=\"dataframe\">\n",
       "  <thead>\n",
       "    <tr style=\"text-align: right;\">\n",
       "      <th></th>\n",
       "      <th>FEX_004</th>\n",
       "      <th>FSB_095DR</th>\n",
       "      <th>FSB_078</th>\n",
       "      <th>FSB_126</th>\n",
       "      <th>FSB_130D</th>\n",
       "      <th>FPZ_06A</th>\n",
       "      <th>FSB_079</th>\n",
       "      <th>FPZ_04A</th>\n",
       "      <th>FSB_097D</th>\n",
       "    </tr>\n",
       "  </thead>\n",
       "  <tbody>\n",
       "    <tr>\n",
       "      <th>0</th>\n",
       "      <td>4.000945</td>\n",
       "      <td>4.213075</td>\n",
       "      <td>4.123800</td>\n",
       "      <td>4.156574</td>\n",
       "      <td>4.097394</td>\n",
       "      <td>5.185800</td>\n",
       "      <td>7.841298</td>\n",
       "      <td>6.498058</td>\n",
       "      <td>3.759107</td>\n",
       "    </tr>\n",
       "    <tr>\n",
       "      <th>1</th>\n",
       "      <td>3.951020</td>\n",
       "      <td>4.127401</td>\n",
       "      <td>4.075186</td>\n",
       "      <td>4.106010</td>\n",
       "      <td>4.147378</td>\n",
       "      <td>5.119956</td>\n",
       "      <td>7.853593</td>\n",
       "      <td>6.523043</td>\n",
       "      <td>3.761520</td>\n",
       "    </tr>\n",
       "    <tr>\n",
       "      <th>2</th>\n",
       "      <td>3.941314</td>\n",
       "      <td>4.165363</td>\n",
       "      <td>4.064222</td>\n",
       "      <td>4.145310</td>\n",
       "      <td>4.115364</td>\n",
       "      <td>5.170464</td>\n",
       "      <td>7.853159</td>\n",
       "      <td>6.506928</td>\n",
       "      <td>3.750192</td>\n",
       "    </tr>\n",
       "    <tr>\n",
       "      <th>3</th>\n",
       "      <td>3.955634</td>\n",
       "      <td>4.174047</td>\n",
       "      <td>4.058808</td>\n",
       "      <td>4.150149</td>\n",
       "      <td>4.123760</td>\n",
       "      <td>5.170368</td>\n",
       "      <td>7.865863</td>\n",
       "      <td>6.511858</td>\n",
       "      <td>3.758668</td>\n",
       "    </tr>\n",
       "    <tr>\n",
       "      <th>4</th>\n",
       "      <td>3.937133</td>\n",
       "      <td>4.211365</td>\n",
       "      <td>4.111126</td>\n",
       "      <td>4.213652</td>\n",
       "      <td>4.136055</td>\n",
       "      <td>5.186227</td>\n",
       "      <td>7.878508</td>\n",
       "      <td>6.522277</td>\n",
       "      <td>3.737363</td>\n",
       "    </tr>\n",
       "    <tr>\n",
       "      <th>...</th>\n",
       "      <td>...</td>\n",
       "      <td>...</td>\n",
       "      <td>...</td>\n",
       "      <td>...</td>\n",
       "      <td>...</td>\n",
       "      <td>...</td>\n",
       "      <td>...</td>\n",
       "      <td>...</td>\n",
       "      <td>...</td>\n",
       "    </tr>\n",
       "    <tr>\n",
       "      <th>6015</th>\n",
       "      <td>-0.000074</td>\n",
       "      <td>0.000044</td>\n",
       "      <td>0.000034</td>\n",
       "      <td>0.000009</td>\n",
       "      <td>0.000016</td>\n",
       "      <td>-0.000146</td>\n",
       "      <td>-0.000070</td>\n",
       "      <td>0.000218</td>\n",
       "      <td>0.000003</td>\n",
       "    </tr>\n",
       "    <tr>\n",
       "      <th>6016</th>\n",
       "      <td>-0.000043</td>\n",
       "      <td>0.000039</td>\n",
       "      <td>0.000021</td>\n",
       "      <td>-0.000167</td>\n",
       "      <td>0.000019</td>\n",
       "      <td>-0.000127</td>\n",
       "      <td>-0.000047</td>\n",
       "      <td>0.000070</td>\n",
       "      <td>0.000030</td>\n",
       "    </tr>\n",
       "    <tr>\n",
       "      <th>6017</th>\n",
       "      <td>0.000040</td>\n",
       "      <td>-0.000074</td>\n",
       "      <td>-0.000023</td>\n",
       "      <td>0.000020</td>\n",
       "      <td>0.000005</td>\n",
       "      <td>-0.000097</td>\n",
       "      <td>-0.000029</td>\n",
       "      <td>-0.000019</td>\n",
       "      <td>0.000024</td>\n",
       "    </tr>\n",
       "    <tr>\n",
       "      <th>6018</th>\n",
       "      <td>-0.000020</td>\n",
       "      <td>-0.000070</td>\n",
       "      <td>0.000019</td>\n",
       "      <td>-0.000064</td>\n",
       "      <td>0.000032</td>\n",
       "      <td>-0.000330</td>\n",
       "      <td>0.000068</td>\n",
       "      <td>-0.000066</td>\n",
       "      <td>0.000027</td>\n",
       "    </tr>\n",
       "    <tr>\n",
       "      <th>6019</th>\n",
       "      <td>0.000029</td>\n",
       "      <td>0.000043</td>\n",
       "      <td>-0.000112</td>\n",
       "      <td>0.000031</td>\n",
       "      <td>-0.000027</td>\n",
       "      <td>-0.000019</td>\n",
       "      <td>-0.000096</td>\n",
       "      <td>0.000016</td>\n",
       "      <td>0.000067</td>\n",
       "    </tr>\n",
       "  </tbody>\n",
       "</table>\n",
       "<p>6020 rows × 9 columns</p>\n",
       "</div>"
      ],
      "text/plain": [
       "       FEX_004  FSB_095DR   FSB_078   FSB_126  FSB_130D   FPZ_06A   FSB_079  \\\n",
       "0     4.000945   4.213075  4.123800  4.156574  4.097394  5.185800  7.841298   \n",
       "1     3.951020   4.127401  4.075186  4.106010  4.147378  5.119956  7.853593   \n",
       "2     3.941314   4.165363  4.064222  4.145310  4.115364  5.170464  7.853159   \n",
       "3     3.955634   4.174047  4.058808  4.150149  4.123760  5.170368  7.865863   \n",
       "4     3.937133   4.211365  4.111126  4.213652  4.136055  5.186227  7.878508   \n",
       "...        ...        ...       ...       ...       ...       ...       ...   \n",
       "6015 -0.000074   0.000044  0.000034  0.000009  0.000016 -0.000146 -0.000070   \n",
       "6016 -0.000043   0.000039  0.000021 -0.000167  0.000019 -0.000127 -0.000047   \n",
       "6017  0.000040  -0.000074 -0.000023  0.000020  0.000005 -0.000097 -0.000029   \n",
       "6018 -0.000020  -0.000070  0.000019 -0.000064  0.000032 -0.000330  0.000068   \n",
       "6019  0.000029   0.000043 -0.000112  0.000031 -0.000027 -0.000019 -0.000096   \n",
       "\n",
       "       FPZ_04A  FSB_097D  \n",
       "0     6.498058  3.759107  \n",
       "1     6.523043  3.761520  \n",
       "2     6.506928  3.750192  \n",
       "3     6.511858  3.758668  \n",
       "4     6.522277  3.737363  \n",
       "...        ...       ...  \n",
       "6015  0.000218  0.000003  \n",
       "6016  0.000070  0.000030  \n",
       "6017 -0.000019  0.000024  \n",
       "6018 -0.000066  0.000027  \n",
       "6019  0.000016  0.000067  \n",
       "\n",
       "[6020 rows x 9 columns]"
      ]
     },
     "execution_count": 337,
     "metadata": {},
     "output_type": "execute_result"
    }
   ],
   "source": [
    "predicted_df"
   ]
  },
  {
   "cell_type": "code",
   "execution_count": 320,
   "id": "071ca34d-66ae-46ae-8c94-792c53c91c9a",
   "metadata": {
    "tags": []
   },
   "outputs": [
    {
     "data": {
      "text/html": [
       "<div>\n",
       "<style scoped>\n",
       "    .dataframe tbody tr th:only-of-type {\n",
       "        vertical-align: middle;\n",
       "    }\n",
       "\n",
       "    .dataframe tbody tr th {\n",
       "        vertical-align: top;\n",
       "    }\n",
       "\n",
       "    .dataframe thead th {\n",
       "        text-align: right;\n",
       "    }\n",
       "</style>\n",
       "<table border=\"1\" class=\"dataframe\">\n",
       "  <thead>\n",
       "    <tr style=\"text-align: right;\">\n",
       "      <th></th>\n",
       "      <th>FEX_004</th>\n",
       "      <th>FSB_095DR</th>\n",
       "      <th>FSB_078</th>\n",
       "      <th>FSB_126</th>\n",
       "      <th>FSB_130D</th>\n",
       "      <th>FPZ_06A</th>\n",
       "      <th>FSB_079</th>\n",
       "      <th>FPZ_04A</th>\n",
       "      <th>FSB_097D</th>\n",
       "    </tr>\n",
       "  </thead>\n",
       "  <tbody>\n",
       "    <tr>\n",
       "      <th>2</th>\n",
       "      <td>3.980825</td>\n",
       "      <td>4.236443</td>\n",
       "      <td>4.163040</td>\n",
       "      <td>4.179049</td>\n",
       "      <td>4.129939</td>\n",
       "      <td>5.271060</td>\n",
       "      <td>7.712299</td>\n",
       "      <td>6.417948</td>\n",
       "      <td>3.767076</td>\n",
       "    </tr>\n",
       "    <tr>\n",
       "      <th>3</th>\n",
       "      <td>3.981121</td>\n",
       "      <td>4.236699</td>\n",
       "      <td>4.166883</td>\n",
       "      <td>4.179205</td>\n",
       "      <td>4.130379</td>\n",
       "      <td>5.267786</td>\n",
       "      <td>7.712222</td>\n",
       "      <td>6.417735</td>\n",
       "      <td>3.767253</td>\n",
       "    </tr>\n",
       "    <tr>\n",
       "      <th>4</th>\n",
       "      <td>3.981221</td>\n",
       "      <td>4.239193</td>\n",
       "      <td>4.168008</td>\n",
       "      <td>4.179361</td>\n",
       "      <td>4.130503</td>\n",
       "      <td>5.265711</td>\n",
       "      <td>7.712381</td>\n",
       "      <td>6.417951</td>\n",
       "      <td>3.767425</td>\n",
       "    </tr>\n",
       "    <tr>\n",
       "      <th>5</th>\n",
       "      <td>3.980744</td>\n",
       "      <td>4.239561</td>\n",
       "      <td>4.167699</td>\n",
       "      <td>4.179517</td>\n",
       "      <td>4.131535</td>\n",
       "      <td>5.262128</td>\n",
       "      <td>7.713662</td>\n",
       "      <td>6.417348</td>\n",
       "      <td>3.767600</td>\n",
       "    </tr>\n",
       "    <tr>\n",
       "      <th>6</th>\n",
       "      <td>3.981171</td>\n",
       "      <td>4.239878</td>\n",
       "      <td>4.170600</td>\n",
       "      <td>4.179673</td>\n",
       "      <td>4.132225</td>\n",
       "      <td>5.259296</td>\n",
       "      <td>7.715626</td>\n",
       "      <td>6.416831</td>\n",
       "      <td>3.767326</td>\n",
       "    </tr>\n",
       "    <tr>\n",
       "      <th>...</th>\n",
       "      <td>...</td>\n",
       "      <td>...</td>\n",
       "      <td>...</td>\n",
       "      <td>...</td>\n",
       "      <td>...</td>\n",
       "      <td>...</td>\n",
       "      <td>...</td>\n",
       "      <td>...</td>\n",
       "      <td>...</td>\n",
       "    </tr>\n",
       "    <tr>\n",
       "      <th>7743</th>\n",
       "      <td>4.373425</td>\n",
       "      <td>4.483142</td>\n",
       "      <td>4.300413</td>\n",
       "      <td>4.495069</td>\n",
       "      <td>4.439222</td>\n",
       "      <td>5.585535</td>\n",
       "      <td>7.878193</td>\n",
       "      <td>7.592293</td>\n",
       "      <td>4.167729</td>\n",
       "    </tr>\n",
       "    <tr>\n",
       "      <th>7744</th>\n",
       "      <td>4.374073</td>\n",
       "      <td>4.482854</td>\n",
       "      <td>4.301687</td>\n",
       "      <td>4.494333</td>\n",
       "      <td>4.439609</td>\n",
       "      <td>5.582193</td>\n",
       "      <td>7.877029</td>\n",
       "      <td>7.593216</td>\n",
       "      <td>4.167895</td>\n",
       "    </tr>\n",
       "    <tr>\n",
       "      <th>7745</th>\n",
       "      <td>4.375431</td>\n",
       "      <td>4.483341</td>\n",
       "      <td>4.304706</td>\n",
       "      <td>4.495460</td>\n",
       "      <td>4.439438</td>\n",
       "      <td>5.579660</td>\n",
       "      <td>7.880521</td>\n",
       "      <td>7.605413</td>\n",
       "      <td>4.167374</td>\n",
       "    </tr>\n",
       "    <tr>\n",
       "      <th>7746</th>\n",
       "      <td>4.373557</td>\n",
       "      <td>4.482985</td>\n",
       "      <td>4.309968</td>\n",
       "      <td>4.494287</td>\n",
       "      <td>4.439528</td>\n",
       "      <td>5.576629</td>\n",
       "      <td>7.880730</td>\n",
       "      <td>7.593132</td>\n",
       "      <td>4.168333</td>\n",
       "    </tr>\n",
       "    <tr>\n",
       "      <th>7747</th>\n",
       "      <td>4.374814</td>\n",
       "      <td>4.483509</td>\n",
       "      <td>4.307608</td>\n",
       "      <td>4.493996</td>\n",
       "      <td>4.439603</td>\n",
       "      <td>5.574546</td>\n",
       "      <td>7.881895</td>\n",
       "      <td>7.589359</td>\n",
       "      <td>4.168072</td>\n",
       "    </tr>\n",
       "  </tbody>\n",
       "</table>\n",
       "<p>6020 rows × 9 columns</p>\n",
       "</div>"
      ],
      "text/plain": [
       "       FEX_004  FSB_095DR   FSB_078   FSB_126  FSB_130D   FPZ_06A   FSB_079  \\\n",
       "2     3.980825   4.236443  4.163040  4.179049  4.129939  5.271060  7.712299   \n",
       "3     3.981121   4.236699  4.166883  4.179205  4.130379  5.267786  7.712222   \n",
       "4     3.981221   4.239193  4.168008  4.179361  4.130503  5.265711  7.712381   \n",
       "5     3.980744   4.239561  4.167699  4.179517  4.131535  5.262128  7.713662   \n",
       "6     3.981171   4.239878  4.170600  4.179673  4.132225  5.259296  7.715626   \n",
       "...        ...        ...       ...       ...       ...       ...       ...   \n",
       "7743  4.373425   4.483142  4.300413  4.495069  4.439222  5.585535  7.878193   \n",
       "7744  4.374073   4.482854  4.301687  4.494333  4.439609  5.582193  7.877029   \n",
       "7745  4.375431   4.483341  4.304706  4.495460  4.439438  5.579660  7.880521   \n",
       "7746  4.373557   4.482985  4.309968  4.494287  4.439528  5.576629  7.880730   \n",
       "7747  4.374814   4.483509  4.307608  4.493996  4.439603  5.574546  7.881895   \n",
       "\n",
       "       FPZ_04A  FSB_097D  \n",
       "2     6.417948  3.767076  \n",
       "3     6.417735  3.767253  \n",
       "4     6.417951  3.767425  \n",
       "5     6.417348  3.767600  \n",
       "6     6.416831  3.767326  \n",
       "...        ...       ...  \n",
       "7743  7.592293  4.167729  \n",
       "7744  7.593216  4.167895  \n",
       "7745  7.605413  4.167374  \n",
       "7746  7.593132  4.168333  \n",
       "7747  7.589359  4.168072  \n",
       "\n",
       "[6020 rows x 9 columns]"
      ]
     },
     "execution_count": 320,
     "metadata": {},
     "output_type": "execute_result"
    }
   ],
   "source": [
    "df"
   ]
  },
  {
   "cell_type": "code",
   "execution_count": 324,
   "id": "7e3a6565-ae81-42d9-9438-1b5c5cfb80dc",
   "metadata": {
    "tags": []
   },
   "outputs": [
    {
     "data": {
      "image/png": "[encoded data removed]",
      "text/plain": [
       "<Figure size 1000x500 with 1 Axes>"
      ]
     },
     "metadata": {},
     "output_type": "display_data"
    },
    {
     "data": {
      "text/plain": [
       "((6020,), (6020,))"
      ]
     },
     "execution_count": 324,
     "metadata": {},
     "output_type": "execute_result"
    }
   ],
   "source": [
    "plt.figure(figsize=(10, 5))\n",
    "# for index in index_name.values():\n",
    "index = index_name[1]\n",
    "\n",
    "plt.plot(df[index], marker='.', color=\"red\", label=\"actual-data\")\n",
    "plt.plot(predicted_df[index], marker='.', color=\"blue\", label = \"predicted-data\")\n",
    "\n",
    "\n",
    "plt.xlabel('Date Time')\n",
    "plt.ylabel('ph')\n",
    "plt.title(f'Plot actual pH and predicted pH for {index}')\n",
    "plt.legend()\n",
    "plt.show()\n",
    "\n",
    "df[index].shape, predicted_df[index].shape"
   ]
  },
  {
   "cell_type": "code",
   "execution_count": null,
   "id": "a21d428d-d69a-444a-bd59-1b509c3cb3ce",
   "metadata": {},
   "outputs": [],
   "source": []
  }
 ],
 "metadata": {
  "kernelspec": {
   "display_name": "Python 3 (ipykernel)",
   "language": "python",
   "name": "python3"
  },
  "language_info": {
   "codemirror_mode": {
    "name": "ipython",
    "version": 3
   },
   "file_extension": ".py",
   "mimetype": "text/x-python",
   "name": "python",
   "nbconvert_exporter": "python",
   "pygments_lexer": "ipython3",
   "version": "3.11.5"
  }
 },
 "nbformat": 4,
 "nbformat_minor": 5
}
